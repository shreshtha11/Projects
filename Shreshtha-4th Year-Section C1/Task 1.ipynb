{
 "cells": [
  {
   "cell_type": "markdown",
   "metadata": {},
   "source": [
    "# A program to implement all operators in python"
   ]
  },
  {
   "cell_type": "markdown",
   "metadata": {},
   "source": [
    "1.Arithmetic operators: Arithmetic operators are used to perform mathematical operations like addition, subtraction, multiplication and division."
   ]
  },
  {
   "cell_type": "code",
   "execution_count": 16,
   "metadata": {},
   "outputs": [
    {
     "name": "stdout",
     "output_type": "stream",
     "text": [
      "13\n",
      "5\n",
      "36\n",
      "2.25\n",
      "2\n",
      "1\n",
      "6561\n"
     ]
    }
   ],
   "source": [
    "a = 9\n",
    "b = 4\n",
    "\n",
    "# Addition of numbers \n",
    "add = a + b \n",
    "\n",
    "# Subtraction of numbers \n",
    "sub = a - b \n",
    "\n",
    "# Multiplication of number \n",
    "mul = a * b \n",
    "\n",
    "# Division(float) of number \n",
    "div1 = a / b \n",
    "\n",
    "# Division(floor) of number \n",
    "div2 = a // b \n",
    "\n",
    "# Modulo of both number \n",
    "mod = a % b \n",
    "\n",
    "# Power \n",
    "p = a ** b \n",
    "\n",
    "# print results \n",
    "print(add) \n",
    "print(sub) \n",
    "print(mul) \n",
    "print(div1) \n",
    "print(div2) \n",
    "print(mod) \n",
    "print(p) \n"
   ]
  },
  {
   "cell_type": "markdown",
   "metadata": {},
   "source": [
    "2.Relational Operators: Relational operators compares the values. It either returns True or False according to the condition."
   ]
  },
  {
   "cell_type": "code",
   "execution_count": 17,
   "metadata": {},
   "outputs": [
    {
     "name": "stdout",
     "output_type": "stream",
     "text": [
      "False\n",
      "True\n",
      "False\n",
      "True\n",
      "False\n",
      "True\n"
     ]
    }
   ],
   "source": [
    "a = 13\n",
    "b = 33\n",
    "\n",
    "# a > b is False \n",
    "print(a > b) \n",
    "\n",
    "# a < b is True \n",
    "print(a < b) \n",
    "\n",
    "# a == b is False \n",
    "print(a == b) \n",
    "\n",
    "# a != b is True \n",
    "print(a != b) \n",
    "\n",
    "# a >= b is False \n",
    "print(a >= b) \n",
    "\n",
    "# a <= b is True \n",
    "print(a <= b) \n"
   ]
  },
  {
   "cell_type": "markdown",
   "metadata": {},
   "source": [
    "3.Logical operators: Logical operators perform Logical AND,Logical OR and Logical NOT operations."
   ]
  },
  {
   "cell_type": "code",
   "execution_count": 18,
   "metadata": {},
   "outputs": [
    {
     "name": "stdout",
     "output_type": "stream",
     "text": [
      "False\n",
      "True\n",
      "False\n"
     ]
    }
   ],
   "source": [
    "a = True\n",
    "b = False\n",
    "\n",
    "# Print a and b is False \n",
    "print(a and b) \n",
    "\n",
    "# Print a or b is True \n",
    "print(a or b) \n",
    "\n",
    "# Print not a is False \n",
    "print(not a) \n"
   ]
  },
  {
   "cell_type": "markdown",
   "metadata": {},
   "source": [
    "4.Bitwise operators: Bitwise operators acts on bits and performs bit by bit operation."
   ]
  },
  {
   "cell_type": "code",
   "execution_count": 19,
   "metadata": {},
   "outputs": [
    {
     "name": "stdout",
     "output_type": "stream",
     "text": [
      "0\n",
      "14\n",
      "-11\n",
      "14\n",
      "2\n",
      "40\n"
     ]
    }
   ],
   "source": [
    "a = 10\n",
    "b = 4\n",
    "\n",
    "# Print bitwise AND operation \n",
    "print(a & b) \n",
    "\n",
    "# Print bitwise OR operation \n",
    "print(a | b) \n",
    "\n",
    "# Print bitwise NOT operation \n",
    "print(~a) \n",
    "\n",
    "# print bitwise XOR operation \n",
    "print(a ^ b) \n",
    "\n",
    "# print bitwise right shift operation \n",
    "print(a >> 2) \n",
    "\n",
    "# print bitwise left shift operation \n",
    "print(a << 2) \n"
   ]
  },
  {
   "cell_type": "markdown",
   "metadata": {},
   "source": [
    "5.Assignment operators: Assignment operators are used to assign values to the variables."
   ]
  },
  {
   "cell_type": "code",
   "execution_count": 20,
   "metadata": {},
   "outputs": [
    {
     "name": "stdout",
     "output_type": "stream",
     "text": [
      " =  17\n",
      "+= :  19\n",
      "-= :  17\n",
      "*= :  34\n",
      "/= :  17.0\n",
      "//= :  8.0\n",
      "%= :  0.0\n",
      "&= :  2\n",
      "|= :  2\n",
      "^= :  0\n",
      ">>= :  0\n",
      "<<= :  0\n"
     ]
    }
   ],
   "source": [
    "a = 12\n",
    "b = 5\n",
    "\n",
    "c  = a+b\n",
    "print(\" = \", c)\n",
    "\n",
    "c += 2\n",
    "print(\"+= : \", c)\n",
    "\n",
    "c -=2\n",
    "print(\"-= : \", c)\n",
    "\n",
    "c *= 2\n",
    "print(\"*= : \", c)\n",
    "\n",
    "c /= 2\n",
    "print(\"/= : \", c)\n",
    "\n",
    "c //=2\n",
    "print(\"//= : \", c)\n",
    "\n",
    "c %=2\n",
    "print(\"%= : \", c)\n",
    "\n",
    "c = 118\n",
    "c &= 2\n",
    "print(\"&= : \", c)\n",
    "\n",
    "c |=2\n",
    "print(\"|= : \", c)\n",
    "\n",
    "c ^= 2\n",
    "print(\"^= : \", c)\n",
    "\n",
    "c >>= 2\n",
    "print(\">>= : \", c)\n",
    "\n",
    "c <<= 2\n",
    "print(\"<<= : \", c)"
   ]
  },
  {
   "cell_type": "markdown",
   "metadata": {},
   "source": [
    "6.Special operators: There are some special type of operators like-\n",
    "\n",
    "Identity operators- is and is not are the identity operators both are used to check if two values are located on the same part of the memory. Two variables that are equal does not imply that they are identical."
   ]
  },
  {
   "cell_type": "code",
   "execution_count": 21,
   "metadata": {},
   "outputs": [
    {
     "name": "stdout",
     "output_type": "stream",
     "text": [
      "False\n",
      "True\n",
      "False\n"
     ]
    }
   ],
   "source": [
    "a1 = 4\n",
    "b1 = 4\n",
    "a2 = 'Shreshtha'\n",
    "b2 = 'Shreshtha'\n",
    "a3 = [1,2,3] \n",
    "b3 = [1,2,3] \n",
    "\n",
    "\n",
    "print(a1 is not b1) \n",
    "\n",
    "\n",
    "print(a2 is b2) \n",
    "\n",
    "# Output is False, since lists are mutable. \n",
    "print(a3 is b3) \n"
   ]
  },
  {
   "cell_type": "markdown",
   "metadata": {},
   "source": [
    "Membership operators-in and not in are the membership operators; used to test whether a value or variable is in a sequence."
   ]
  },
  {
   "cell_type": "code",
   "execution_count": 22,
   "metadata": {},
   "outputs": [
    {
     "name": "stdout",
     "output_type": "stream",
     "text": [
      "True\n",
      "False\n",
      "False\n",
      "True\n",
      "False\n"
     ]
    }
   ],
   "source": [
    "x = 'Geeks for Geeks'\n",
    "y = {5:'a',4:'b'} \n",
    "\n",
    "\n",
    "print('Ge' in x) \n",
    "\n",
    "print('for' not in x) \n",
    "\n",
    "print('Geeks' not in x) \n",
    "\n",
    "print(5 in y) \n",
    "\n",
    "print('b' in y) \n"
   ]
  },
  {
   "cell_type": "code",
   "execution_count": null,
   "metadata": {},
   "outputs": [],
   "source": []
  }
 ],
 "metadata": {
  "kernelspec": {
   "display_name": "Python 3",
   "language": "python",
   "name": "python3"
  },
  "language_info": {
   "codemirror_mode": {
    "name": "ipython",
    "version": 3
   },
   "file_extension": ".py",
   "mimetype": "text/x-python",
   "name": "python",
   "nbconvert_exporter": "python",
   "pygments_lexer": "ipython3",
   "version": "3.7.4"
  }
 },
 "nbformat": 4,
 "nbformat_minor": 2
}
