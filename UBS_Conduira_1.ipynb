{
  "nbformat": 4,
  "nbformat_minor": 0,
  "metadata": {
    "colab": {
      "name": "UBS Conduira 1",
      "provenance": [],
      "collapsed_sections": [],
      "authorship_tag": "ABX9TyM6oqN/Ep26UmIbnRSqIwFz",
      "include_colab_link": true
    },
    "kernelspec": {
      "name": "python3",
      "display_name": "Python 3"
    }
  },
  "cells": [
    {
      "cell_type": "markdown",
      "metadata": {
        "id": "view-in-github",
        "colab_type": "text"
      },
      "source": [
        "<a href=\"https://colab.research.google.com/github/shreshtha11/Projects/blob/master/UBS_Conduira_1.ipynb\" target=\"_parent\"><img src=\"https://colab.research.google.com/assets/colab-badge.svg\" alt=\"Open In Colab\"/></a>"
      ]
    },
    {
      "cell_type": "code",
      "metadata": {
        "id": "is4V6Tr9qlwT"
      },
      "source": [
        "#variable\r\n",
        "a=5"
      ],
      "execution_count": null,
      "outputs": []
    },
    {
      "cell_type": "code",
      "metadata": {
        "id": "YSjkrLMKsZb4"
      },
      "source": [
        "b=4.5"
      ],
      "execution_count": null,
      "outputs": []
    },
    {
      "cell_type": "code",
      "metadata": {
        "id": "ApocHKuZsiJ6"
      },
      "source": [
        "c=\"Hello Students\""
      ],
      "execution_count": null,
      "outputs": []
    },
    {
      "cell_type": "code",
      "metadata": {
        "id": "hiooYljssn58"
      },
      "source": [
        "d=True"
      ],
      "execution_count": null,
      "outputs": []
    },
    {
      "cell_type": "code",
      "metadata": {
        "id": "NJJxWsK3st1P"
      },
      "source": [
        "#primary Data Types"
      ],
      "execution_count": null,
      "outputs": []
    },
    {
      "cell_type": "code",
      "metadata": {
        "colab": {
          "base_uri": "https://localhost:8080/"
        },
        "id": "WdD5wHCvtQEr",
        "outputId": "6af6ee96-0318-41f5-c0a0-fc206f9e7df9"
      },
      "source": [
        "type(a)"
      ],
      "execution_count": null,
      "outputs": [
        {
          "output_type": "execute_result",
          "data": {
            "text/plain": [
              "int"
            ]
          },
          "metadata": {
            "tags": []
          },
          "execution_count": 7
        }
      ]
    },
    {
      "cell_type": "code",
      "metadata": {
        "colab": {
          "base_uri": "https://localhost:8080/"
        },
        "id": "j16BKL3wtRh5",
        "outputId": "dd9a08e1-901c-4559-e4c6-a8864542fe89"
      },
      "source": [
        "type(b)"
      ],
      "execution_count": null,
      "outputs": [
        {
          "output_type": "execute_result",
          "data": {
            "text/plain": [
              "float"
            ]
          },
          "metadata": {
            "tags": []
          },
          "execution_count": 8
        }
      ]
    },
    {
      "cell_type": "code",
      "metadata": {
        "colab": {
          "base_uri": "https://localhost:8080/"
        },
        "id": "BXj3w4bFtVHe",
        "outputId": "1a8bce86-6913-4272-c212-d7c14f7719e7"
      },
      "source": [
        "type(c)"
      ],
      "execution_count": null,
      "outputs": [
        {
          "output_type": "execute_result",
          "data": {
            "text/plain": [
              "str"
            ]
          },
          "metadata": {
            "tags": []
          },
          "execution_count": 9
        }
      ]
    },
    {
      "cell_type": "code",
      "metadata": {
        "colab": {
          "base_uri": "https://localhost:8080/"
        },
        "id": "ubDVJ7CetWzx",
        "outputId": "180b083b-b107-481f-934d-45c404a290b6"
      },
      "source": [
        "type(d)"
      ],
      "execution_count": null,
      "outputs": [
        {
          "output_type": "execute_result",
          "data": {
            "text/plain": [
              "bool"
            ]
          },
          "metadata": {
            "tags": []
          },
          "execution_count": 10
        }
      ]
    },
    {
      "cell_type": "code",
      "metadata": {
        "colab": {
          "base_uri": "https://localhost:8080/"
        },
        "id": "NvBzkrCUtYmO",
        "outputId": "639af915-7bdd-46c0-ac3b-1dae7f548f03"
      },
      "source": [
        "a"
      ],
      "execution_count": null,
      "outputs": [
        {
          "output_type": "execute_result",
          "data": {
            "text/plain": [
              "5"
            ]
          },
          "metadata": {
            "tags": []
          },
          "execution_count": 11
        }
      ]
    },
    {
      "cell_type": "code",
      "metadata": {
        "colab": {
          "base_uri": "https://localhost:8080/"
        },
        "id": "OhYcwg28uLVE",
        "outputId": "ffb2b31d-b075-48f0-ed49-bc45a5353f85"
      },
      "source": [
        "b"
      ],
      "execution_count": null,
      "outputs": [
        {
          "output_type": "execute_result",
          "data": {
            "text/plain": [
              "4.5"
            ]
          },
          "metadata": {
            "tags": []
          },
          "execution_count": 12
        }
      ]
    },
    {
      "cell_type": "code",
      "metadata": {
        "colab": {
          "base_uri": "https://localhost:8080/",
          "height": 35
        },
        "id": "XCNOZveLuMb5",
        "outputId": "09e6f826-8a07-4711-eabe-f68fdab7eb35"
      },
      "source": [
        "c"
      ],
      "execution_count": null,
      "outputs": [
        {
          "output_type": "execute_result",
          "data": {
            "application/vnd.google.colaboratory.intrinsic+json": {
              "type": "string"
            },
            "text/plain": [
              "'Hello Students'"
            ]
          },
          "metadata": {
            "tags": []
          },
          "execution_count": 13
        }
      ]
    },
    {
      "cell_type": "code",
      "metadata": {
        "colab": {
          "base_uri": "https://localhost:8080/"
        },
        "id": "at4GImHvuNib",
        "outputId": "72183dd7-649a-467f-a4a7-74123a3a5b79"
      },
      "source": [
        "d"
      ],
      "execution_count": null,
      "outputs": [
        {
          "output_type": "execute_result",
          "data": {
            "text/plain": [
              "True"
            ]
          },
          "metadata": {
            "tags": []
          },
          "execution_count": 14
        }
      ]
    },
    {
      "cell_type": "code",
      "metadata": {
        "colab": {
          "base_uri": "https://localhost:8080/"
        },
        "id": "DNmpYnKVuPRZ",
        "outputId": "d3cf116a-0195-42b0-e57c-2e4d26581476"
      },
      "source": [
        "print('a')"
      ],
      "execution_count": null,
      "outputs": [
        {
          "output_type": "stream",
          "text": [
            "a\n"
          ],
          "name": "stdout"
        }
      ]
    },
    {
      "cell_type": "code",
      "metadata": {
        "colab": {
          "base_uri": "https://localhost:8080/"
        },
        "id": "YGN97v4OuY7E",
        "outputId": "20790b31-478d-4c1e-aa9f-10457def29a7"
      },
      "source": [
        "print(a)"
      ],
      "execution_count": null,
      "outputs": [
        {
          "output_type": "stream",
          "text": [
            "5\n"
          ],
          "name": "stdout"
        }
      ]
    },
    {
      "cell_type": "code",
      "metadata": {
        "colab": {
          "base_uri": "https://localhost:8080/",
          "height": 52
        },
        "id": "GR6Sz6Fwua63",
        "outputId": "970a912e-e603-47fc-c497-99fa02f9aaa7"
      },
      "source": [
        "input(\"Please Enter your name:\")"
      ],
      "execution_count": null,
      "outputs": [
        {
          "output_type": "stream",
          "text": [
            "Please Enter your name:shreshtha\n"
          ],
          "name": "stdout"
        },
        {
          "output_type": "execute_result",
          "data": {
            "application/vnd.google.colaboratory.intrinsic+json": {
              "type": "string"
            },
            "text/plain": [
              "'shreshtha'"
            ]
          },
          "metadata": {
            "tags": []
          },
          "execution_count": 17
        }
      ]
    },
    {
      "cell_type": "code",
      "metadata": {
        "colab": {
          "base_uri": "https://localhost:8080/"
        },
        "id": "zcQ2nCysvCD7",
        "outputId": "dc3ef61d-f6b5-4a4c-d846-af879c26d0dd"
      },
      "source": [
        "username=input(\"please enter your name:\")"
      ],
      "execution_count": null,
      "outputs": [
        {
          "output_type": "stream",
          "text": [
            "please enter your name:shreshtha\n"
          ],
          "name": "stdout"
        }
      ]
    },
    {
      "cell_type": "code",
      "metadata": {
        "colab": {
          "base_uri": "https://localhost:8080/"
        },
        "id": "hA5rw-BQvM3P",
        "outputId": "a68f0ef8-1c22-4ca7-febb-107b2a745a93"
      },
      "source": [
        "print(\"welcome\"  + \"   \" + username)"
      ],
      "execution_count": null,
      "outputs": [
        {
          "output_type": "stream",
          "text": [
            "welcome   shreshtha\n"
          ],
          "name": "stdout"
        }
      ]
    },
    {
      "cell_type": "code",
      "metadata": {
        "colab": {
          "base_uri": "https://localhost:8080/"
        },
        "id": "rOrBHxmgveWZ",
        "outputId": "ee18832b-2591-4ffb-cbfb-bc81a9d7e5a0"
      },
      "source": [
        "#comments\r\n",
        "#develop a program to accept the name,age and occupation of the user and display that on screen\r\n",
        "name=input(\"please enter your name:\")\r\n",
        "age=input(\"please enter your age:\")\r\n",
        "occupation=input(\"please enter your occupation:\")\r\n",
        "print(\"name:\" + name)\r\n",
        "print(\"age:\" + age)\r\n",
        "print(\"occupation:\" + occupation)"
      ],
      "execution_count": null,
      "outputs": [
        {
          "output_type": "stream",
          "text": [
            "please enter your name:shreshtha\n",
            "please enter your age:21\n",
            "please enter your occupation:student\n",
            "name:shreshtha\n",
            "age:21\n",
            "occupation:student\n"
          ],
          "name": "stdout"
        }
      ]
    },
    {
      "cell_type": "code",
      "metadata": {
        "colab": {
          "base_uri": "https://localhost:8080/"
        },
        "id": "oh9VZSBFxyk4",
        "outputId": "8e7fd210-d875-48f5-97d7-30d95b3fe384"
      },
      "source": [
        "#develop a program to compute the number of days a person has lived by accepting their age\r\n",
        "age=int(input(\"please enter your age:\")) #type casting or type conversion\r\n",
        "print(\"you have lived: \",age*365)\r\n"
      ],
      "execution_count": null,
      "outputs": [
        {
          "output_type": "stream",
          "text": [
            "please enter your age:21\n",
            "you have lived:  7665\n"
          ],
          "name": "stdout"
        }
      ]
    },
    {
      "cell_type": "code",
      "metadata": {
        "colab": {
          "base_uri": "https://localhost:8080/",
          "height": 35
        },
        "id": "NyytM2Vn3ZDW",
        "outputId": "2bd0748e-9cf4-4204-a615-7e09e5977548"
      },
      "source": [
        "mytext=\"be best in python programming\"\r\n",
        "mytext.upper()"
      ],
      "execution_count": null,
      "outputs": [
        {
          "output_type": "execute_result",
          "data": {
            "application/vnd.google.colaboratory.intrinsic+json": {
              "type": "string"
            },
            "text/plain": [
              "'BE BEST IN PYTHON PROGRAMMING'"
            ]
          },
          "metadata": {
            "tags": []
          },
          "execution_count": 31
        }
      ]
    },
    {
      "cell_type": "code",
      "metadata": {
        "id": "Ax5dtCnd3gCp"
      },
      "source": [
        "zen='''Beautiful is better than ugly.\r\n",
        "Explicit is better than implicit.\r\n",
        "Simple is better than complex.\r\n",
        "Complex is better than complicated.\r\n",
        "Flat is better than nested.\r\n",
        "Sparse is better than dense.\r\n",
        "Readability counts.\r\n",
        "Special cases aren't special enough to break the rules.\r\n",
        "Although practicality beats purity.\r\n",
        "Errors should never pass silently.\r\n",
        "Unless explicitly silenced.\r\n",
        "In the face of ambiguity, refuse the temptation to guess.\r\n",
        "There should be one-- and preferably only one --obvious way to do it.\r\n",
        "Although that way may not be obvious at first unless you're Dutch.\r\n",
        "Now is better than never.\r\n",
        "Although never is often better than *right* now.\r\n",
        "If the implementation is hard to explain, it's a bad idea.\r\n",
        "If the implementation is easy to explain, it may be a good idea.\r\n",
        "Namespaces are one honking great idea -- let's do more of those!'''"
      ],
      "execution_count": null,
      "outputs": []
    },
    {
      "cell_type": "code",
      "metadata": {
        "colab": {
          "base_uri": "https://localhost:8080/",
          "height": 120
        },
        "id": "mBvcH004Di7T",
        "outputId": "95821a2e-2cb5-435f-d552-9ecf36f243b0"
      },
      "source": [
        "zen"
      ],
      "execution_count": null,
      "outputs": [
        {
          "output_type": "execute_result",
          "data": {
            "application/vnd.google.colaboratory.intrinsic+json": {
              "type": "string"
            },
            "text/plain": [
              "\"Beautiful is better than ugly.\\nExplicit is better than implicit.\\nSimple is better than complex.\\nComplex is better than complicated.\\nFlat is better than nested.\\nSparse is better than dense.\\nReadability counts.\\nSpecial cases aren't special enough to break the rules.\\nAlthough practicality beats purity.\\nErrors should never pass silently.\\nUnless explicitly silenced.\\nIn the face of ambiguity, refuse the temptation to guess.\\nThere should be one-- and preferably only one --obvious way to do it.\\nAlthough that way may not be obvious at first unless you're Dutch.\\nNow is better than never.\\nAlthough never is often better than *right* now.\\nIf the implementation is hard to explain, it's a bad idea.\\nIf the implementation is easy to explain, it may be a good idea.\\nNamespaces are one honking great idea -- let's do more of those!\""
            ]
          },
          "metadata": {
            "tags": []
          },
          "execution_count": 3
        }
      ]
    },
    {
      "cell_type": "code",
      "metadata": {
        "id": "oaGhhxxBDkdT"
      },
      "source": [
        "#split the text into its constituent words\r\n",
        "#count the number of times better and idea occurs\r\n",
        "z=zen.replace(\".\",\" \")\r\n",
        "words=z.split()"
      ],
      "execution_count": null,
      "outputs": []
    },
    {
      "cell_type": "code",
      "metadata": {
        "colab": {
          "base_uri": "https://localhost:8080/"
        },
        "id": "9pNiX7tZFOFq",
        "outputId": "066b3d94-c27a-4b23-b42d-5ed2f0b00b1d"
      },
      "source": [
        "words.count('better')"
      ],
      "execution_count": null,
      "outputs": [
        {
          "output_type": "execute_result",
          "data": {
            "text/plain": [
              "8"
            ]
          },
          "metadata": {
            "tags": []
          },
          "execution_count": 11
        }
      ]
    },
    {
      "cell_type": "code",
      "metadata": {
        "colab": {
          "base_uri": "https://localhost:8080/"
        },
        "id": "vjiQnhMMF6mB",
        "outputId": "d190f081-d5a9-4883-aea0-4d8b410968b6"
      },
      "source": [
        "words.count('idea')"
      ],
      "execution_count": null,
      "outputs": [
        {
          "output_type": "execute_result",
          "data": {
            "text/plain": [
              "3"
            ]
          },
          "metadata": {
            "tags": []
          },
          "execution_count": 13
        }
      ]
    },
    {
      "cell_type": "code",
      "metadata": {
        "colab": {
          "base_uri": "https://localhost:8080/"
        },
        "id": "NnsZGp58G11p",
        "outputId": "0b6a488c-c13d-4b8b-bff6-fb893e5dd19f"
      },
      "source": [
        "name=('Savio','saldhana')\r\n",
        "type(name)"
      ],
      "execution_count": null,
      "outputs": [
        {
          "output_type": "execute_result",
          "data": {
            "text/plain": [
              "tuple"
            ]
          },
          "metadata": {
            "tags": []
          },
          "execution_count": 14
        }
      ]
    },
    {
      "cell_type": "code",
      "metadata": {
        "colab": {
          "base_uri": "https://localhost:8080/",
          "height": 35
        },
        "id": "3KvSDJWSHGa1",
        "outputId": "05bc90c9-5008-42af-d2ed-b81cc4865ff6"
      },
      "source": [
        "name[0]"
      ],
      "execution_count": null,
      "outputs": [
        {
          "output_type": "execute_result",
          "data": {
            "application/vnd.google.colaboratory.intrinsic+json": {
              "type": "string"
            },
            "text/plain": [
              "'Savio'"
            ]
          },
          "metadata": {
            "tags": []
          },
          "execution_count": 15
        }
      ]
    },
    {
      "cell_type": "code",
      "metadata": {
        "colab": {
          "base_uri": "https://localhost:8080/",
          "height": 163
        },
        "id": "AfikDrtoHIP4",
        "outputId": "fea1ca4b-6376-4e0d-d3d4-e7437dab28d5"
      },
      "source": [
        "name[1]='Shreshtha'"
      ],
      "execution_count": null,
      "outputs": [
        {
          "output_type": "error",
          "ename": "TypeError",
          "evalue": "ignored",
          "traceback": [
            "\u001b[0;31m---------------------------------------------------------------------------\u001b[0m",
            "\u001b[0;31mTypeError\u001b[0m                                 Traceback (most recent call last)",
            "\u001b[0;32m<ipython-input-16-87146b458bef>\u001b[0m in \u001b[0;36m<module>\u001b[0;34m()\u001b[0m\n\u001b[0;32m----> 1\u001b[0;31m \u001b[0mname\u001b[0m\u001b[0;34m[\u001b[0m\u001b[0;36m1\u001b[0m\u001b[0;34m]\u001b[0m\u001b[0;34m=\u001b[0m\u001b[0;34m'Shreshtha'\u001b[0m\u001b[0;34m\u001b[0m\u001b[0;34m\u001b[0m\u001b[0m\n\u001b[0m",
            "\u001b[0;31mTypeError\u001b[0m: 'tuple' object does not support item assignment"
          ]
        }
      ]
    },
    {
      "cell_type": "code",
      "metadata": {
        "colab": {
          "base_uri": "https://localhost:8080/"
        },
        "id": "wpsxhjvZHMv1",
        "outputId": "ff9cfeeb-7a25-4905-aa0c-472c7a36398d"
      },
      "source": [
        "indiacityset={'Mumbai','Chennai','Cochin','Hyderabad'}\r\n",
        "type(indiacityset)"
      ],
      "execution_count": null,
      "outputs": [
        {
          "output_type": "execute_result",
          "data": {
            "text/plain": [
              "set"
            ]
          },
          "metadata": {
            "tags": []
          },
          "execution_count": 17
        }
      ]
    },
    {
      "cell_type": "code",
      "metadata": {
        "id": "XkxsEoQQHjAB"
      },
      "source": [
        "worldcityset={'London','New York','Paris','Dubai','San Francisco','Mumbai','Delhi'}\r\n"
      ],
      "execution_count": null,
      "outputs": []
    },
    {
      "cell_type": "code",
      "metadata": {
        "colab": {
          "base_uri": "https://localhost:8080/"
        },
        "id": "ZGFwgBDTIAlp",
        "outputId": "5a6b80a4-000b-4b34-b731-024c3fed750b"
      },
      "source": [
        "indiacityset"
      ],
      "execution_count": null,
      "outputs": [
        {
          "output_type": "execute_result",
          "data": {
            "text/plain": [
              "{'Chennai', 'Cochin', 'Hyderabad', 'Mumbai'}"
            ]
          },
          "metadata": {
            "tags": []
          },
          "execution_count": 19
        }
      ]
    },
    {
      "cell_type": "code",
      "metadata": {
        "colab": {
          "base_uri": "https://localhost:8080/"
        },
        "id": "zK96k6PNICHS",
        "outputId": "3c82382c-eefa-44df-ab21-f182c2dc53ec"
      },
      "source": [
        "worldcityset"
      ],
      "execution_count": null,
      "outputs": [
        {
          "output_type": "execute_result",
          "data": {
            "text/plain": [
              "{'Delhi', 'Dubai', 'London', 'Mumbai', 'New York', 'Paris', 'San Francisco'}"
            ]
          },
          "metadata": {
            "tags": []
          },
          "execution_count": 20
        }
      ]
    },
    {
      "cell_type": "code",
      "metadata": {
        "id": "FsX_tU9LIIPB"
      },
      "source": [
        "indiacityset.add(\"Mumbai\")"
      ],
      "execution_count": null,
      "outputs": []
    },
    {
      "cell_type": "code",
      "metadata": {
        "colab": {
          "base_uri": "https://localhost:8080/"
        },
        "id": "rS9TUWCtIsIa",
        "outputId": "7e8dfa4f-e682-42a7-9a81-873dc50c5ebd"
      },
      "source": [
        "indiacityset"
      ],
      "execution_count": null,
      "outputs": [
        {
          "output_type": "execute_result",
          "data": {
            "text/plain": [
              "{'Chennai', 'Cochin', 'Hyderabad', 'Mumbai'}"
            ]
          },
          "metadata": {
            "tags": []
          },
          "execution_count": 22
        }
      ]
    },
    {
      "cell_type": "code",
      "metadata": {
        "colab": {
          "base_uri": "https://localhost:8080/"
        },
        "id": "MIEm03PKIuX8",
        "outputId": "0571d4ee-a5a0-4143-c924-af298f8d4e2b"
      },
      "source": [
        "worldcityset.union(indiacityset)"
      ],
      "execution_count": null,
      "outputs": [
        {
          "output_type": "execute_result",
          "data": {
            "text/plain": [
              "{'Chennai',\n",
              " 'Cochin',\n",
              " 'Delhi',\n",
              " 'Dubai',\n",
              " 'Hyderabad',\n",
              " 'London',\n",
              " 'Mumbai',\n",
              " 'New York',\n",
              " 'Paris',\n",
              " 'San Francisco'}"
            ]
          },
          "metadata": {
            "tags": []
          },
          "execution_count": 23
        }
      ]
    },
    {
      "cell_type": "code",
      "metadata": {
        "colab": {
          "base_uri": "https://localhost:8080/"
        },
        "id": "3uiVurrtJECg",
        "outputId": "5317ef4a-927c-4053-b2ef-be97bf5038e8"
      },
      "source": [
        "worldcityset.intersection(indiacityset)"
      ],
      "execution_count": null,
      "outputs": [
        {
          "output_type": "execute_result",
          "data": {
            "text/plain": [
              "{'Mumbai'}"
            ]
          },
          "metadata": {
            "tags": []
          },
          "execution_count": 24
        }
      ]
    },
    {
      "cell_type": "code",
      "metadata": {
        "id": "fpFMhBRxJIKb"
      },
      "source": [
        "#dictionary\r\n",
        "#key value pair"
      ],
      "execution_count": null,
      "outputs": []
    },
    {
      "cell_type": "code",
      "metadata": {
        "id": "z7bWcCLlJRsh"
      },
      "source": [
        "user_detail={\"name\":\"Nallani\",\"occupation\":\"Student\"}"
      ],
      "execution_count": null,
      "outputs": []
    },
    {
      "cell_type": "code",
      "metadata": {
        "colab": {
          "base_uri": "https://localhost:8080/"
        },
        "id": "iacK0VKFw3eZ",
        "outputId": "8fba722f-394a-46c6-d83c-54908b19327f"
      },
      "source": [
        "user_detail.keys()"
      ],
      "execution_count": null,
      "outputs": [
        {
          "output_type": "execute_result",
          "data": {
            "text/plain": [
              "dict_keys(['name', 'occupation'])"
            ]
          },
          "metadata": {
            "tags": []
          },
          "execution_count": 4
        }
      ]
    },
    {
      "cell_type": "code",
      "metadata": {
        "colab": {
          "base_uri": "https://localhost:8080/"
        },
        "id": "VFZyMPoFxC-f",
        "outputId": "cf3ce5e8-9843-4799-a70d-d06198110986"
      },
      "source": [
        "user_detail.values()"
      ],
      "execution_count": null,
      "outputs": [
        {
          "output_type": "execute_result",
          "data": {
            "text/plain": [
              "dict_values(['Nallani', 'Student'])"
            ]
          },
          "metadata": {
            "tags": []
          },
          "execution_count": 5
        }
      ]
    },
    {
      "cell_type": "code",
      "metadata": {
        "id": "cVV__HdHxKBe"
      },
      "source": [
        "#create an app that accept the month from the user and gives the corresponding holidays for that in year 2021\r\n",
        "\r\n",
        "holidays={\"january\":[\"New Year's Day\",\"Lohri\",\"Makar sakranti\",\"Pongal\",\"Republic Day\"],\"February\":\"Vasant Panchami\"}"
      ],
      "execution_count": null,
      "outputs": []
    },
    {
      "cell_type": "code",
      "metadata": {
        "colab": {
          "base_uri": "https://localhost:8080/"
        },
        "id": "5fSmghv9zLxz",
        "outputId": "4b9bada4-79d4-4b9a-d68a-8d2eb6bfd82a"
      },
      "source": [
        "month=input(\"please enter the month:\")\r\n",
        "holidays[month.lower()]"
      ],
      "execution_count": null,
      "outputs": [
        {
          "output_type": "stream",
          "text": [
            "please enter the month:JANUARY\n"
          ],
          "name": "stdout"
        },
        {
          "output_type": "execute_result",
          "data": {
            "text/plain": [
              "[\"New Year's Day\", 'Lohri', 'Makar sakranti', 'Pongal', 'Republic Day']"
            ]
          },
          "metadata": {
            "tags": []
          },
          "execution_count": 13
        }
      ]
    },
    {
      "cell_type": "code",
      "metadata": {
        "colab": {
          "base_uri": "https://localhost:8080/",
          "height": 35
        },
        "id": "ICXWBhzbzNUb",
        "outputId": "e6a57346-4474-4ac0-adc8-0e62ae732549"
      },
      "source": [
        "user_detail['name']"
      ],
      "execution_count": null,
      "outputs": [
        {
          "output_type": "execute_result",
          "data": {
            "application/vnd.google.colaboratory.intrinsic+json": {
              "type": "string"
            },
            "text/plain": [
              "'Nallani'"
            ]
          },
          "metadata": {
            "tags": []
          },
          "execution_count": 9
        }
      ]
    },
    {
      "cell_type": "code",
      "metadata": {
        "colab": {
          "base_uri": "https://localhost:8080/"
        },
        "id": "B3w5O2VVzYgy",
        "outputId": "f9ef90c9-cd8d-4c60-9c14-eedc471b1e4a"
      },
      "source": [
        "#create a program to recommend the mode of travel for customers according to their budget\r\n",
        "#budget>=2000,then recommend air travel\r\n",
        "#budget<500,then please increase the budget\r\n",
        "budget=int(input(\"please enter your budget\"))\r\n",
        "if budget>=2000:\r\n",
        "  print(\"we recommend air travel.\")\r\n",
        "elif(budget > 1500 and budget < 2000):\r\n",
        "  print(\"We recommend you to train travel\")\r\n",
        "elif(budget > 1000 and budget < 1500):\r\n",
        "  print(\"We recommend you to bus travel\")\r\n",
        "else:\r\n",
        "  print(\"please increase the budget.\")"
      ],
      "execution_count": null,
      "outputs": [
        {
          "output_type": "stream",
          "text": [
            "please enter your budget300\n",
            "please increase the budget.\n"
          ],
          "name": "stdout"
        }
      ]
    },
    {
      "cell_type": "code",
      "metadata": {
        "colab": {
          "base_uri": "https://localhost:8080/"
        },
        "id": "XEGKHbCS2oni",
        "outputId": "513ba5ca-3ec7-4913-c629-85e4a96a0ac3"
      },
      "source": [
        "#loops goes till n-1\r\n",
        "for i in range(10):\r\n",
        "  print(i)\r\n"
      ],
      "execution_count": null,
      "outputs": [
        {
          "output_type": "stream",
          "text": [
            "0\n",
            "1\n",
            "2\n",
            "3\n",
            "4\n",
            "5\n",
            "6\n",
            "7\n",
            "8\n",
            "9\n"
          ],
          "name": "stdout"
        }
      ]
    },
    {
      "cell_type": "code",
      "metadata": {
        "colab": {
          "base_uri": "https://localhost:8080/"
        },
        "id": "jiu-4XN-5mhj",
        "outputId": "29837982-1ecb-4ff3-99a8-439c1636e1c7"
      },
      "source": [
        "#create a program that accepts the two digit number guess from user and inform the user their match is right or not.\r\n",
        "number=15\r\n",
        "counter=5\r\n",
        "while counter>0:\r\n",
        "  guess=int(input(\"please enter the number:\"))\r\n",
        "  if number==guess:\r\n",
        "    print(\"Your guess is right.\")\r\n",
        "    break\r\n",
        "  else:\r\n",
        "    print(\"Wrong guess!\")\r\n",
        "  counter=counter-1\r\n",
        "print(\"Thank you for playing!\")\r\n"
      ],
      "execution_count": null,
      "outputs": [
        {
          "output_type": "stream",
          "text": [
            "please enter the number:23\n",
            "Wrong guess!\n",
            "please enter the number:15\n",
            "Your guess is right.\n",
            "Thank you for playing!\n"
          ],
          "name": "stdout"
        }
      ]
    },
    {
      "cell_type": "code",
      "metadata": {
        "colab": {
          "base_uri": "https://localhost:8080/"
        },
        "id": "OjciMRJL6t6G",
        "outputId": "137ccf5e-37c4-4202-bd71-6415a06c6b51"
      },
      "source": [
        "#functions\r\n",
        "#write a function to print out the name of the user\r\n",
        "def name():\r\n",
        "  username=input(\"please enter your name: \")\r\n",
        "  print(\"The name you entered was \",username)\r\n",
        "name()\r\n"
      ],
      "execution_count": null,
      "outputs": [
        {
          "output_type": "stream",
          "text": [
            "please enter your name: shreshtha\n",
            "The name you entered was  shreshtha\n"
          ],
          "name": "stdout"
        }
      ]
    },
    {
      "cell_type": "code",
      "metadata": {
        "id": "G8tLeHG8H4EO"
      },
      "source": [
        "#functions are used for modular programming."
      ],
      "execution_count": null,
      "outputs": []
    },
    {
      "cell_type": "code",
      "metadata": {
        "id": "vciykhhKUC3j"
      },
      "source": [
        "#data track\r\n",
        "#packages in python\r\n",
        "#pandas\r\n",
        "import pandas as pd"
      ],
      "execution_count": null,
      "outputs": []
    },
    {
      "cell_type": "code",
      "metadata": {
        "id": "wpHoeje9Upu4"
      },
      "source": [
        "\r\n",
        "baseball=pd.read_excel(\"https://github.com/SavioSal/datasets/raw/master/Baseball%20Salaries%202011%20Extra.xlsx\")\r\n",
        "\r\n"
      ],
      "execution_count": null,
      "outputs": []
    },
    {
      "cell_type": "code",
      "metadata": {
        "id": "oKClVbpcV_Oc"
      },
      "source": [
        "#data types in pandas\r\n",
        "#1.Series-one dimension data structure\r\n",
        "#2.Dataframe-two dimension data structure\r\n"
      ],
      "execution_count": null,
      "outputs": []
    },
    {
      "cell_type": "code",
      "metadata": {
        "colab": {
          "base_uri": "https://localhost:8080/"
        },
        "id": "E0wxRZfFXYAS",
        "outputId": "4a3772ca-82d4-44b0-bf26-750421931649"
      },
      "source": [
        "baseball.Player"
      ],
      "execution_count": null,
      "outputs": [
        {
          "output_type": "execute_result",
          "data": {
            "text/plain": [
              "0                   A.J. Burnett\n",
              "1                     A.J. Ellis\n",
              "2                A.J. Pierzynski\n",
              "3                     Aaron Cook\n",
              "4                     Aaron Crow\n",
              "                 ...            \n",
              "838                Yunel Escobar\n",
              "839    Yuniesky Betancourt-Perez\n",
              "840                Zach Braddock\n",
              "841                    Zach Duke\n",
              "842                 Zack Greinke\n",
              "Name: Player, Length: 843, dtype: object"
            ]
          },
          "metadata": {
            "tags": []
          },
          "execution_count": 12
        }
      ]
    },
    {
      "cell_type": "code",
      "metadata": {
        "colab": {
          "base_uri": "https://localhost:8080/"
        },
        "id": "SOlRCtJ5XdBm",
        "outputId": "47c57060-e1f5-48ad-8771-42d6b88647ef"
      },
      "source": [
        "baseball['Team']"
      ],
      "execution_count": null,
      "outputs": [
        {
          "output_type": "execute_result",
          "data": {
            "text/plain": [
              "0          New York Yankees\n",
              "1       Los Angeles Dodgers\n",
              "2         Chicago White Sox\n",
              "3          Colorado Rockies\n",
              "4        Kansas City Royals\n",
              "               ...         \n",
              "838       Toronto Blue Jays\n",
              "839       Milwaukee Brewers\n",
              "840       Milwaukee Brewers\n",
              "841    Arizona Diamondbacks\n",
              "842       Milwaukee Brewers\n",
              "Name: Team, Length: 843, dtype: object"
            ]
          },
          "metadata": {
            "tags": []
          },
          "execution_count": 14
        }
      ]
    },
    {
      "cell_type": "code",
      "metadata": {
        "colab": {
          "base_uri": "https://localhost:8080/"
        },
        "id": "RPUwaLhdXftR",
        "outputId": "79aa16ea-67ce-4ca5-cbae-7e3f25446a33"
      },
      "source": [
        "type(baseball['Team'])"
      ],
      "execution_count": null,
      "outputs": [
        {
          "output_type": "execute_result",
          "data": {
            "text/plain": [
              "pandas.core.series.Series"
            ]
          },
          "metadata": {
            "tags": []
          },
          "execution_count": 15
        }
      ]
    },
    {
      "cell_type": "code",
      "metadata": {
        "colab": {
          "base_uri": "https://localhost:8080/"
        },
        "id": "QQn0HyDEXsKz",
        "outputId": "32ecf7c0-a2f2-4c31-9947-8bfefe9fecbf"
      },
      "source": [
        "type(baseball[['Team']])"
      ],
      "execution_count": null,
      "outputs": [
        {
          "output_type": "execute_result",
          "data": {
            "text/plain": [
              "pandas.core.frame.DataFrame"
            ]
          },
          "metadata": {
            "tags": []
          },
          "execution_count": 16
        }
      ]
    },
    {
      "cell_type": "code",
      "metadata": {
        "colab": {
          "base_uri": "https://localhost:8080/",
          "height": 419
        },
        "id": "_jm_KyONXwLr",
        "outputId": "2e8abfd0-0dc4-46c8-b3aa-4884f8206cbe"
      },
      "source": [
        "baseball[['Team','Player']]"
      ],
      "execution_count": null,
      "outputs": [
        {
          "output_type": "execute_result",
          "data": {
            "text/html": [
              "<div>\n",
              "<style scoped>\n",
              "    .dataframe tbody tr th:only-of-type {\n",
              "        vertical-align: middle;\n",
              "    }\n",
              "\n",
              "    .dataframe tbody tr th {\n",
              "        vertical-align: top;\n",
              "    }\n",
              "\n",
              "    .dataframe thead th {\n",
              "        text-align: right;\n",
              "    }\n",
              "</style>\n",
              "<table border=\"1\" class=\"dataframe\">\n",
              "  <thead>\n",
              "    <tr style=\"text-align: right;\">\n",
              "      <th></th>\n",
              "      <th>Team</th>\n",
              "      <th>Player</th>\n",
              "    </tr>\n",
              "  </thead>\n",
              "  <tbody>\n",
              "    <tr>\n",
              "      <th>0</th>\n",
              "      <td>New York Yankees</td>\n",
              "      <td>A.J. Burnett</td>\n",
              "    </tr>\n",
              "    <tr>\n",
              "      <th>1</th>\n",
              "      <td>Los Angeles Dodgers</td>\n",
              "      <td>A.J. Ellis</td>\n",
              "    </tr>\n",
              "    <tr>\n",
              "      <th>2</th>\n",
              "      <td>Chicago White Sox</td>\n",
              "      <td>A.J. Pierzynski</td>\n",
              "    </tr>\n",
              "    <tr>\n",
              "      <th>3</th>\n",
              "      <td>Colorado Rockies</td>\n",
              "      <td>Aaron Cook</td>\n",
              "    </tr>\n",
              "    <tr>\n",
              "      <th>4</th>\n",
              "      <td>Kansas City Royals</td>\n",
              "      <td>Aaron Crow</td>\n",
              "    </tr>\n",
              "    <tr>\n",
              "      <th>...</th>\n",
              "      <td>...</td>\n",
              "      <td>...</td>\n",
              "    </tr>\n",
              "    <tr>\n",
              "      <th>838</th>\n",
              "      <td>Toronto Blue Jays</td>\n",
              "      <td>Yunel Escobar</td>\n",
              "    </tr>\n",
              "    <tr>\n",
              "      <th>839</th>\n",
              "      <td>Milwaukee Brewers</td>\n",
              "      <td>Yuniesky Betancourt-Perez</td>\n",
              "    </tr>\n",
              "    <tr>\n",
              "      <th>840</th>\n",
              "      <td>Milwaukee Brewers</td>\n",
              "      <td>Zach Braddock</td>\n",
              "    </tr>\n",
              "    <tr>\n",
              "      <th>841</th>\n",
              "      <td>Arizona Diamondbacks</td>\n",
              "      <td>Zach Duke</td>\n",
              "    </tr>\n",
              "    <tr>\n",
              "      <th>842</th>\n",
              "      <td>Milwaukee Brewers</td>\n",
              "      <td>Zack Greinke</td>\n",
              "    </tr>\n",
              "  </tbody>\n",
              "</table>\n",
              "<p>843 rows × 2 columns</p>\n",
              "</div>"
            ],
            "text/plain": [
              "                     Team                     Player\n",
              "0        New York Yankees               A.J. Burnett\n",
              "1     Los Angeles Dodgers                 A.J. Ellis\n",
              "2       Chicago White Sox            A.J. Pierzynski\n",
              "3        Colorado Rockies                 Aaron Cook\n",
              "4      Kansas City Royals                 Aaron Crow\n",
              "..                    ...                        ...\n",
              "838     Toronto Blue Jays              Yunel Escobar\n",
              "839     Milwaukee Brewers  Yuniesky Betancourt-Perez\n",
              "840     Milwaukee Brewers              Zach Braddock\n",
              "841  Arizona Diamondbacks                  Zach Duke\n",
              "842     Milwaukee Brewers               Zack Greinke\n",
              "\n",
              "[843 rows x 2 columns]"
            ]
          },
          "metadata": {
            "tags": []
          },
          "execution_count": 17
        }
      ]
    },
    {
      "cell_type": "code",
      "metadata": {
        "colab": {
          "base_uri": "https://localhost:8080/"
        },
        "id": "gBTlrISSX3j8",
        "outputId": "1b663ae2-7cd6-45e5-9f7c-d9024473d508"
      },
      "source": [
        "#central tendency-mean,median and mode\r\n",
        "baseball['Salary'].mean()"
      ],
      "execution_count": null,
      "outputs": [
        {
          "output_type": "execute_result",
          "data": {
            "text/plain": [
              "3305054.674970344"
            ]
          },
          "metadata": {
            "tags": []
          },
          "execution_count": 18
        }
      ]
    },
    {
      "cell_type": "code",
      "metadata": {
        "colab": {
          "base_uri": "https://localhost:8080/"
        },
        "id": "Cgkqe5VrZMx8",
        "outputId": "b4229353-b189-46ab-c227-ed58875cf3cc"
      },
      "source": [
        "baseball['Salary'].median()"
      ],
      "execution_count": null,
      "outputs": [
        {
          "output_type": "execute_result",
          "data": {
            "text/plain": [
              "1175000.0"
            ]
          },
          "metadata": {
            "tags": []
          },
          "execution_count": 19
        }
      ]
    },
    {
      "cell_type": "code",
      "metadata": {
        "colab": {
          "base_uri": "https://localhost:8080/"
        },
        "id": "DiHufAOPZRLc",
        "outputId": "d5f43ae5-6d55-4a5a-9f79-b342384e4faa"
      },
      "source": [
        "baseball['Salary'].mode()"
      ],
      "execution_count": null,
      "outputs": [
        {
          "output_type": "execute_result",
          "data": {
            "text/plain": [
              "0    414000\n",
              "dtype: int64"
            ]
          },
          "metadata": {
            "tags": []
          },
          "execution_count": 20
        }
      ]
    },
    {
      "cell_type": "code",
      "metadata": {
        "colab": {
          "base_uri": "https://localhost:8080/",
          "height": 204
        },
        "id": "9KGWTWTdZUQK",
        "outputId": "729dc18a-fa73-4cef-adba-5b21d049599e"
      },
      "source": [
        "baseball.head()"
      ],
      "execution_count": null,
      "outputs": [
        {
          "output_type": "execute_result",
          "data": {
            "text/html": [
              "<div>\n",
              "<style scoped>\n",
              "    .dataframe tbody tr th:only-of-type {\n",
              "        vertical-align: middle;\n",
              "    }\n",
              "\n",
              "    .dataframe tbody tr th {\n",
              "        vertical-align: top;\n",
              "    }\n",
              "\n",
              "    .dataframe thead th {\n",
              "        text-align: right;\n",
              "    }\n",
              "</style>\n",
              "<table border=\"1\" class=\"dataframe\">\n",
              "  <thead>\n",
              "    <tr style=\"text-align: right;\">\n",
              "      <th></th>\n",
              "      <th>Player</th>\n",
              "      <th>Team</th>\n",
              "      <th>Position</th>\n",
              "      <th>Pitcher</th>\n",
              "      <th>League</th>\n",
              "      <th>Division</th>\n",
              "      <th>Yankees</th>\n",
              "      <th>Playoff Team 2011</th>\n",
              "      <th>World Series Team 2011</th>\n",
              "      <th>Salary</th>\n",
              "    </tr>\n",
              "  </thead>\n",
              "  <tbody>\n",
              "    <tr>\n",
              "      <th>0</th>\n",
              "      <td>A.J. Burnett</td>\n",
              "      <td>New York Yankees</td>\n",
              "      <td>Pitcher</td>\n",
              "      <td>Yes</td>\n",
              "      <td>American</td>\n",
              "      <td>American East</td>\n",
              "      <td>Yes</td>\n",
              "      <td>Yes</td>\n",
              "      <td>No</td>\n",
              "      <td>16500000</td>\n",
              "    </tr>\n",
              "    <tr>\n",
              "      <th>1</th>\n",
              "      <td>A.J. Ellis</td>\n",
              "      <td>Los Angeles Dodgers</td>\n",
              "      <td>Catcher</td>\n",
              "      <td>No</td>\n",
              "      <td>National</td>\n",
              "      <td>National West</td>\n",
              "      <td>No</td>\n",
              "      <td>No</td>\n",
              "      <td>No</td>\n",
              "      <td>421000</td>\n",
              "    </tr>\n",
              "    <tr>\n",
              "      <th>2</th>\n",
              "      <td>A.J. Pierzynski</td>\n",
              "      <td>Chicago White Sox</td>\n",
              "      <td>Catcher</td>\n",
              "      <td>No</td>\n",
              "      <td>American</td>\n",
              "      <td>American Central</td>\n",
              "      <td>No</td>\n",
              "      <td>No</td>\n",
              "      <td>No</td>\n",
              "      <td>2000000</td>\n",
              "    </tr>\n",
              "    <tr>\n",
              "      <th>3</th>\n",
              "      <td>Aaron Cook</td>\n",
              "      <td>Colorado Rockies</td>\n",
              "      <td>Pitcher</td>\n",
              "      <td>Yes</td>\n",
              "      <td>National</td>\n",
              "      <td>National West</td>\n",
              "      <td>No</td>\n",
              "      <td>No</td>\n",
              "      <td>No</td>\n",
              "      <td>9875000</td>\n",
              "    </tr>\n",
              "    <tr>\n",
              "      <th>4</th>\n",
              "      <td>Aaron Crow</td>\n",
              "      <td>Kansas City Royals</td>\n",
              "      <td>Pitcher</td>\n",
              "      <td>Yes</td>\n",
              "      <td>American</td>\n",
              "      <td>American Central</td>\n",
              "      <td>No</td>\n",
              "      <td>No</td>\n",
              "      <td>No</td>\n",
              "      <td>1400000</td>\n",
              "    </tr>\n",
              "  </tbody>\n",
              "</table>\n",
              "</div>"
            ],
            "text/plain": [
              "            Player                 Team  ... World Series Team 2011    Salary\n",
              "0     A.J. Burnett     New York Yankees  ...                     No  16500000\n",
              "1       A.J. Ellis  Los Angeles Dodgers  ...                     No    421000\n",
              "2  A.J. Pierzynski    Chicago White Sox  ...                     No   2000000\n",
              "3       Aaron Cook     Colorado Rockies  ...                     No   9875000\n",
              "4       Aaron Crow   Kansas City Royals  ...                     No   1400000\n",
              "\n",
              "[5 rows x 10 columns]"
            ]
          },
          "metadata": {
            "tags": []
          },
          "execution_count": 21
        }
      ]
    },
    {
      "cell_type": "code",
      "metadata": {
        "colab": {
          "base_uri": "https://localhost:8080/",
          "height": 359
        },
        "id": "Wd2vYcRjaRFx",
        "outputId": "f90b5923-11c2-4018-8290-6d930a6fdf28"
      },
      "source": [
        "baseball.groupby('Position').sum()"
      ],
      "execution_count": null,
      "outputs": [
        {
          "output_type": "execute_result",
          "data": {
            "text/html": [
              "<div>\n",
              "<style scoped>\n",
              "    .dataframe tbody tr th:only-of-type {\n",
              "        vertical-align: middle;\n",
              "    }\n",
              "\n",
              "    .dataframe tbody tr th {\n",
              "        vertical-align: top;\n",
              "    }\n",
              "\n",
              "    .dataframe thead th {\n",
              "        text-align: right;\n",
              "    }\n",
              "</style>\n",
              "<table border=\"1\" class=\"dataframe\">\n",
              "  <thead>\n",
              "    <tr style=\"text-align: right;\">\n",
              "      <th></th>\n",
              "      <th>Salary</th>\n",
              "    </tr>\n",
              "    <tr>\n",
              "      <th>Position</th>\n",
              "      <th></th>\n",
              "    </tr>\n",
              "  </thead>\n",
              "  <tbody>\n",
              "    <tr>\n",
              "      <th>Catcher</th>\n",
              "      <td>155441868</td>\n",
              "    </tr>\n",
              "    <tr>\n",
              "      <th>Designated Hitter</th>\n",
              "      <td>56881455</td>\n",
              "    </tr>\n",
              "    <tr>\n",
              "      <th>First Baseman</th>\n",
              "      <td>228993946</td>\n",
              "    </tr>\n",
              "    <tr>\n",
              "      <th>Infielder</th>\n",
              "      <td>22138751</td>\n",
              "    </tr>\n",
              "    <tr>\n",
              "      <th>Outfielder</th>\n",
              "      <td>610766446</td>\n",
              "    </tr>\n",
              "    <tr>\n",
              "      <th>Pitcher</th>\n",
              "      <td>1215811443</td>\n",
              "    </tr>\n",
              "    <tr>\n",
              "      <th>Second Baseman</th>\n",
              "      <td>163795632</td>\n",
              "    </tr>\n",
              "    <tr>\n",
              "      <th>Shortstop</th>\n",
              "      <td>134078135</td>\n",
              "    </tr>\n",
              "    <tr>\n",
              "      <th>Third Baseman</th>\n",
              "      <td>198253415</td>\n",
              "    </tr>\n",
              "  </tbody>\n",
              "</table>\n",
              "</div>"
            ],
            "text/plain": [
              "                       Salary\n",
              "Position                     \n",
              "Catcher             155441868\n",
              "Designated Hitter    56881455\n",
              "First Baseman       228993946\n",
              "Infielder            22138751\n",
              "Outfielder          610766446\n",
              "Pitcher            1215811443\n",
              "Second Baseman      163795632\n",
              "Shortstop           134078135\n",
              "Third Baseman       198253415"
            ]
          },
          "metadata": {
            "tags": []
          },
          "execution_count": 22
        }
      ]
    },
    {
      "cell_type": "code",
      "metadata": {
        "colab": {
          "base_uri": "https://localhost:8080/",
          "height": 359
        },
        "id": "_ik20Qwmaiuo",
        "outputId": "7b3c8908-4aa2-4b14-a47f-b6d24c0b380a"
      },
      "source": [
        "baseball.groupby('Position').mean()"
      ],
      "execution_count": null,
      "outputs": [
        {
          "output_type": "execute_result",
          "data": {
            "text/html": [
              "<div>\n",
              "<style scoped>\n",
              "    .dataframe tbody tr th:only-of-type {\n",
              "        vertical-align: middle;\n",
              "    }\n",
              "\n",
              "    .dataframe tbody tr th {\n",
              "        vertical-align: top;\n",
              "    }\n",
              "\n",
              "    .dataframe thead th {\n",
              "        text-align: right;\n",
              "    }\n",
              "</style>\n",
              "<table border=\"1\" class=\"dataframe\">\n",
              "  <thead>\n",
              "    <tr style=\"text-align: right;\">\n",
              "      <th></th>\n",
              "      <th>Salary</th>\n",
              "    </tr>\n",
              "    <tr>\n",
              "      <th>Position</th>\n",
              "      <th></th>\n",
              "    </tr>\n",
              "  </thead>\n",
              "  <tbody>\n",
              "    <tr>\n",
              "      <th>Catcher</th>\n",
              "      <td>2.252781e+06</td>\n",
              "    </tr>\n",
              "    <tr>\n",
              "      <th>Designated Hitter</th>\n",
              "      <td>7.110182e+06</td>\n",
              "    </tr>\n",
              "    <tr>\n",
              "      <th>First Baseman</th>\n",
              "      <td>5.452237e+06</td>\n",
              "    </tr>\n",
              "    <tr>\n",
              "      <th>Infielder</th>\n",
              "      <td>3.162679e+06</td>\n",
              "    </tr>\n",
              "    <tr>\n",
              "      <th>Outfielder</th>\n",
              "      <td>4.018200e+06</td>\n",
              "    </tr>\n",
              "    <tr>\n",
              "      <th>Pitcher</th>\n",
              "      <td>2.943853e+06</td>\n",
              "    </tr>\n",
              "    <tr>\n",
              "      <th>Second Baseman</th>\n",
              "      <td>2.776197e+06</td>\n",
              "    </tr>\n",
              "    <tr>\n",
              "      <th>Shortstop</th>\n",
              "      <td>2.852726e+06</td>\n",
              "    </tr>\n",
              "    <tr>\n",
              "      <th>Third Baseman</th>\n",
              "      <td>4.309857e+06</td>\n",
              "    </tr>\n",
              "  </tbody>\n",
              "</table>\n",
              "</div>"
            ],
            "text/plain": [
              "                         Salary\n",
              "Position                       \n",
              "Catcher            2.252781e+06\n",
              "Designated Hitter  7.110182e+06\n",
              "First Baseman      5.452237e+06\n",
              "Infielder          3.162679e+06\n",
              "Outfielder         4.018200e+06\n",
              "Pitcher            2.943853e+06\n",
              "Second Baseman     2.776197e+06\n",
              "Shortstop          2.852726e+06\n",
              "Third Baseman      4.309857e+06"
            ]
          },
          "metadata": {
            "tags": []
          },
          "execution_count": 23
        }
      ]
    },
    {
      "cell_type": "code",
      "metadata": {
        "colab": {
          "base_uri": "https://localhost:8080/",
          "height": 359
        },
        "id": "Zqzq2CQ7atXL",
        "outputId": "60233464-9554-4665-ac52-b857be40dbb7"
      },
      "source": [
        "baseball.groupby('Position').median()"
      ],
      "execution_count": null,
      "outputs": [
        {
          "output_type": "execute_result",
          "data": {
            "text/html": [
              "<div>\n",
              "<style scoped>\n",
              "    .dataframe tbody tr th:only-of-type {\n",
              "        vertical-align: middle;\n",
              "    }\n",
              "\n",
              "    .dataframe tbody tr th {\n",
              "        vertical-align: top;\n",
              "    }\n",
              "\n",
              "    .dataframe thead th {\n",
              "        text-align: right;\n",
              "    }\n",
              "</style>\n",
              "<table border=\"1\" class=\"dataframe\">\n",
              "  <thead>\n",
              "    <tr style=\"text-align: right;\">\n",
              "      <th></th>\n",
              "      <th>Salary</th>\n",
              "    </tr>\n",
              "    <tr>\n",
              "      <th>Position</th>\n",
              "      <th></th>\n",
              "    </tr>\n",
              "  </thead>\n",
              "  <tbody>\n",
              "    <tr>\n",
              "      <th>Catcher</th>\n",
              "      <td>850000.0</td>\n",
              "    </tr>\n",
              "    <tr>\n",
              "      <th>Designated Hitter</th>\n",
              "      <td>5930727.5</td>\n",
              "    </tr>\n",
              "    <tr>\n",
              "      <th>First Baseman</th>\n",
              "      <td>2000000.0</td>\n",
              "    </tr>\n",
              "    <tr>\n",
              "      <th>Infielder</th>\n",
              "      <td>428600.0</td>\n",
              "    </tr>\n",
              "    <tr>\n",
              "      <th>Outfielder</th>\n",
              "      <td>1275000.0</td>\n",
              "    </tr>\n",
              "    <tr>\n",
              "      <th>Pitcher</th>\n",
              "      <td>1095000.0</td>\n",
              "    </tr>\n",
              "    <tr>\n",
              "      <th>Second Baseman</th>\n",
              "      <td>1000000.0</td>\n",
              "    </tr>\n",
              "    <tr>\n",
              "      <th>Shortstop</th>\n",
              "      <td>1350000.0</td>\n",
              "    </tr>\n",
              "    <tr>\n",
              "      <th>Third Baseman</th>\n",
              "      <td>2150000.0</td>\n",
              "    </tr>\n",
              "  </tbody>\n",
              "</table>\n",
              "</div>"
            ],
            "text/plain": [
              "                      Salary\n",
              "Position                    \n",
              "Catcher             850000.0\n",
              "Designated Hitter  5930727.5\n",
              "First Baseman      2000000.0\n",
              "Infielder           428600.0\n",
              "Outfielder         1275000.0\n",
              "Pitcher            1095000.0\n",
              "Second Baseman     1000000.0\n",
              "Shortstop          1350000.0\n",
              "Third Baseman      2150000.0"
            ]
          },
          "metadata": {
            "tags": []
          },
          "execution_count": 24
        }
      ]
    },
    {
      "cell_type": "code",
      "metadata": {
        "colab": {
          "base_uri": "https://localhost:8080/",
          "height": 295
        },
        "id": "p15oKX4sa_xm",
        "outputId": "eef82c31-15c8-419a-96ff-166914f15cd4"
      },
      "source": [
        "baseball.groupby('Position').median().plot(kind='barh')"
      ],
      "execution_count": null,
      "outputs": [
        {
          "output_type": "execute_result",
          "data": {
            "text/plain": [
              "<matplotlib.axes._subplots.AxesSubplot at 0x7f40458bfb70>"
            ]
          },
          "metadata": {
            "tags": []
          },
          "execution_count": 30
        },
        {
          "output_type": "display_data",
          "data": {
            "image/png": "[encoded data removed]",
            "text/plain": [
              "<Figure size 432x288 with 1 Axes>"
            ]
          },
          "metadata": {
            "tags": [],
            "needs_background": "light"
          }
        }
      ]
    },
    {
      "cell_type": "code",
      "metadata": {
        "colab": {
          "base_uri": "https://localhost:8080/",
          "height": 1000
        },
        "id": "z6QCgxyFbgKT",
        "outputId": "555f4480-5274-42bb-fb9d-5d3d21f54777"
      },
      "source": [
        "baseball[['Position','Salary']].groupby('Position').plot(kind='box')"
      ],
      "execution_count": null,
      "outputs": [
        {
          "output_type": "execute_result",
          "data": {
            "text/plain": [
              "Position\n",
              "Catcher              AxesSubplot(0.125,0.125;0.775x0.755)\n",
              "Designated Hitter    AxesSubplot(0.125,0.125;0.775x0.755)\n",
              "First Baseman        AxesSubplot(0.125,0.125;0.775x0.755)\n",
              "Infielder            AxesSubplot(0.125,0.125;0.775x0.755)\n",
              "Outfielder           AxesSubplot(0.125,0.125;0.775x0.755)\n",
              "Pitcher              AxesSubplot(0.125,0.125;0.775x0.755)\n",
              "Second Baseman       AxesSubplot(0.125,0.125;0.775x0.755)\n",
              "Shortstop            AxesSubplot(0.125,0.125;0.775x0.755)\n",
              "Third Baseman        AxesSubplot(0.125,0.125;0.775x0.755)\n",
              "dtype: object"
            ]
          },
          "metadata": {
            "tags": []
          },
          "execution_count": 32
        },
        {
          "output_type": "display_data",
          "data": {
            "image/png": "[encoded data removed]",
            "text/plain": [
              "<Figure size 432x288 with 1 Axes>"
            ]
          },
          "metadata": {
            "tags": [],
            "needs_background": "light"
          }
        },
        {
          "output_type": "display_data",
          "data": {
            "image/png": "[encoded data removed]",
            "text/plain": [
              "<Figure size 432x288 with 1 Axes>"
            ]
          },
          "metadata": {
            "tags": [],
            "needs_background": "light"
          }
        },
        {
          "output_type": "display_data",
          "data": {
            "image/png": "[encoded data removed]",
            "text/plain": [
              "<Figure size 432x288 with 1 Axes>"
            ]
          },
          "metadata": {
            "tags": [],
            "needs_background": "light"
          }
        },
        {
          "output_type": "display_data",
          "data": {
            "image/png": "[encoded data removed]",
            "text/plain": [
              "<Figure size 432x288 with 1 Axes>"
            ]
          },
          "metadata": {
            "tags": [],
            "needs_background": "light"
          }
        },
        {
          "output_type": "display_data",
          "data": {
            "image/png": "[encoded data removed]",
            "text/plain": [
              "<Figure size 432x288 with 1 Axes>"
            ]
          },
          "metadata": {
            "tags": [],
            "needs_background": "light"
          }
        },
        {
          "output_type": "display_data",
          "data": {
            "image/png": "[encoded data removed]",
            "text/plain": [
              "<Figure size 432x288 with 1 Axes>"
            ]
          },
          "metadata": {
            "tags": [],
            "needs_background": "light"
          }
        },
        {
          "output_type": "display_data",
          "data": {
            "image/png": "[encoded data removed]",
            "text/plain": [
              "<Figure size 432x288 with 1 Axes>"
            ]
          },
          "metadata": {
            "tags": [],
            "needs_background": "light"
          }
        },
        {
          "output_type": "display_data",
          "data": {
            "image/png": "[encoded data removed]",
            "text/plain": [
              "<Figure size 432x288 with 1 Axes>"
            ]
          },
          "metadata": {
            "tags": [],
            "needs_background": "light"
          }
        },
        {
          "output_type": "display_data",
          "data": {
            "image/png": "[encoded data removed]",
            "text/plain": [
              "<Figure size 432x288 with 1 Axes>"
            ]
          },
          "metadata": {
            "tags": [],
            "needs_background": "light"
          }
        }
      ]
    },
    {
      "cell_type": "code",
      "metadata": {
        "colab": {
          "base_uri": "https://localhost:8080/",
          "height": 204
        },
        "id": "2Suq4uoycxDu",
        "outputId": "e81d5fc1-290b-47b9-dcb0-45ccd5de30b5"
      },
      "source": [
        "baseball.head()"
      ],
      "execution_count": null,
      "outputs": [
        {
          "output_type": "execute_result",
          "data": {
            "text/html": [
              "<div>\n",
              "<style scoped>\n",
              "    .dataframe tbody tr th:only-of-type {\n",
              "        vertical-align: middle;\n",
              "    }\n",
              "\n",
              "    .dataframe tbody tr th {\n",
              "        vertical-align: top;\n",
              "    }\n",
              "\n",
              "    .dataframe thead th {\n",
              "        text-align: right;\n",
              "    }\n",
              "</style>\n",
              "<table border=\"1\" class=\"dataframe\">\n",
              "  <thead>\n",
              "    <tr style=\"text-align: right;\">\n",
              "      <th></th>\n",
              "      <th>Player</th>\n",
              "      <th>Team</th>\n",
              "      <th>Position</th>\n",
              "      <th>Pitcher</th>\n",
              "      <th>League</th>\n",
              "      <th>Division</th>\n",
              "      <th>Yankees</th>\n",
              "      <th>Playoff Team 2011</th>\n",
              "      <th>World Series Team 2011</th>\n",
              "      <th>Salary</th>\n",
              "    </tr>\n",
              "  </thead>\n",
              "  <tbody>\n",
              "    <tr>\n",
              "      <th>0</th>\n",
              "      <td>A.J. Burnett</td>\n",
              "      <td>New York Yankees</td>\n",
              "      <td>Pitcher</td>\n",
              "      <td>Yes</td>\n",
              "      <td>American</td>\n",
              "      <td>American East</td>\n",
              "      <td>Yes</td>\n",
              "      <td>Yes</td>\n",
              "      <td>No</td>\n",
              "      <td>16500000</td>\n",
              "    </tr>\n",
              "    <tr>\n",
              "      <th>1</th>\n",
              "      <td>A.J. Ellis</td>\n",
              "      <td>Los Angeles Dodgers</td>\n",
              "      <td>Catcher</td>\n",
              "      <td>No</td>\n",
              "      <td>National</td>\n",
              "      <td>National West</td>\n",
              "      <td>No</td>\n",
              "      <td>No</td>\n",
              "      <td>No</td>\n",
              "      <td>421000</td>\n",
              "    </tr>\n",
              "    <tr>\n",
              "      <th>2</th>\n",
              "      <td>A.J. Pierzynski</td>\n",
              "      <td>Chicago White Sox</td>\n",
              "      <td>Catcher</td>\n",
              "      <td>No</td>\n",
              "      <td>American</td>\n",
              "      <td>American Central</td>\n",
              "      <td>No</td>\n",
              "      <td>No</td>\n",
              "      <td>No</td>\n",
              "      <td>2000000</td>\n",
              "    </tr>\n",
              "    <tr>\n",
              "      <th>3</th>\n",
              "      <td>Aaron Cook</td>\n",
              "      <td>Colorado Rockies</td>\n",
              "      <td>Pitcher</td>\n",
              "      <td>Yes</td>\n",
              "      <td>National</td>\n",
              "      <td>National West</td>\n",
              "      <td>No</td>\n",
              "      <td>No</td>\n",
              "      <td>No</td>\n",
              "      <td>9875000</td>\n",
              "    </tr>\n",
              "    <tr>\n",
              "      <th>4</th>\n",
              "      <td>Aaron Crow</td>\n",
              "      <td>Kansas City Royals</td>\n",
              "      <td>Pitcher</td>\n",
              "      <td>Yes</td>\n",
              "      <td>American</td>\n",
              "      <td>American Central</td>\n",
              "      <td>No</td>\n",
              "      <td>No</td>\n",
              "      <td>No</td>\n",
              "      <td>1400000</td>\n",
              "    </tr>\n",
              "  </tbody>\n",
              "</table>\n",
              "</div>"
            ],
            "text/plain": [
              "            Player                 Team  ... World Series Team 2011    Salary\n",
              "0     A.J. Burnett     New York Yankees  ...                     No  16500000\n",
              "1       A.J. Ellis  Los Angeles Dodgers  ...                     No    421000\n",
              "2  A.J. Pierzynski    Chicago White Sox  ...                     No   2000000\n",
              "3       Aaron Cook     Colorado Rockies  ...                     No   9875000\n",
              "4       Aaron Crow   Kansas City Royals  ...                     No   1400000\n",
              "\n",
              "[5 rows x 10 columns]"
            ]
          },
          "metadata": {
            "tags": []
          },
          "execution_count": 33
        }
      ]
    },
    {
      "cell_type": "code",
      "metadata": {
        "colab": {
          "base_uri": "https://localhost:8080/",
          "height": 296
        },
        "id": "9onuMJHbdJlA",
        "outputId": "3a1fea24-77fa-479d-8b77-7759f5cba017"
      },
      "source": [
        "#average salaries of players in each team\r\n",
        "baseball.groupby('Team').mean().plot(kind='barh')"
      ],
      "execution_count": null,
      "outputs": [
        {
          "output_type": "execute_result",
          "data": {
            "text/plain": [
              "<matplotlib.axes._subplots.AxesSubplot at 0x7f404531fcf8>"
            ]
          },
          "metadata": {
            "tags": []
          },
          "execution_count": 37
        },
        {
          "output_type": "display_data",
          "data": {
            "image/png": "[encoded data removed]",
            "text/plain": [
              "<Figure size 432x288 with 1 Axes>"
            ]
          },
          "metadata": {
            "tags": [],
            "needs_background": "light"
          }
        }
      ]
    },
    {
      "cell_type": "code",
      "metadata": {
        "id": "i64wSSTYdaFL"
      },
      "source": [
        "catalog=pd.read_excel(\"https://github.com/SavioSal/datasets/raw/master/Catalog%20Marketing.xlsx\")"
      ],
      "execution_count": null,
      "outputs": []
    },
    {
      "cell_type": "code",
      "metadata": {
        "colab": {
          "base_uri": "https://localhost:8080/",
          "height": 204
        },
        "id": "EFiKpzB7erTL",
        "outputId": "85f3ae00-d476-4e1a-efed-3057419d8f5b"
      },
      "source": [
        "catalog.head()"
      ],
      "execution_count": null,
      "outputs": [
        {
          "output_type": "execute_result",
          "data": {
            "text/html": [
              "<div>\n",
              "<style scoped>\n",
              "    .dataframe tbody tr th:only-of-type {\n",
              "        vertical-align: middle;\n",
              "    }\n",
              "\n",
              "    .dataframe tbody tr th {\n",
              "        vertical-align: top;\n",
              "    }\n",
              "\n",
              "    .dataframe thead th {\n",
              "        text-align: right;\n",
              "    }\n",
              "</style>\n",
              "<table border=\"1\" class=\"dataframe\">\n",
              "  <thead>\n",
              "    <tr style=\"text-align: right;\">\n",
              "      <th></th>\n",
              "      <th>Person</th>\n",
              "      <th>Age</th>\n",
              "      <th>Gender</th>\n",
              "      <th>Own Home</th>\n",
              "      <th>Married</th>\n",
              "      <th>Close</th>\n",
              "      <th>Salary</th>\n",
              "      <th>Children</th>\n",
              "      <th>History</th>\n",
              "      <th>Catalogs</th>\n",
              "      <th>Region</th>\n",
              "      <th>State</th>\n",
              "      <th>City</th>\n",
              "      <th>First Purchase</th>\n",
              "      <th>Amount Spent</th>\n",
              "    </tr>\n",
              "  </thead>\n",
              "  <tbody>\n",
              "    <tr>\n",
              "      <th>0</th>\n",
              "      <td>1</td>\n",
              "      <td>1</td>\n",
              "      <td>0</td>\n",
              "      <td>0</td>\n",
              "      <td>0</td>\n",
              "      <td>1</td>\n",
              "      <td>16400</td>\n",
              "      <td>1</td>\n",
              "      <td>1.0</td>\n",
              "      <td>12</td>\n",
              "      <td>South</td>\n",
              "      <td>Florida</td>\n",
              "      <td>Orlando</td>\n",
              "      <td>2014-10-23</td>\n",
              "      <td>217.691</td>\n",
              "    </tr>\n",
              "    <tr>\n",
              "      <th>1</th>\n",
              "      <td>2</td>\n",
              "      <td>2</td>\n",
              "      <td>0</td>\n",
              "      <td>1</td>\n",
              "      <td>1</td>\n",
              "      <td>0</td>\n",
              "      <td>108100</td>\n",
              "      <td>3</td>\n",
              "      <td>3.0</td>\n",
              "      <td>18</td>\n",
              "      <td>Midwest</td>\n",
              "      <td>Illinois</td>\n",
              "      <td>Chicago</td>\n",
              "      <td>2012-05-25</td>\n",
              "      <td>2632.462</td>\n",
              "    </tr>\n",
              "    <tr>\n",
              "      <th>2</th>\n",
              "      <td>3</td>\n",
              "      <td>2</td>\n",
              "      <td>1</td>\n",
              "      <td>1</td>\n",
              "      <td>1</td>\n",
              "      <td>1</td>\n",
              "      <td>97300</td>\n",
              "      <td>1</td>\n",
              "      <td>NaN</td>\n",
              "      <td>12</td>\n",
              "      <td>South</td>\n",
              "      <td>Florida</td>\n",
              "      <td>Orlando</td>\n",
              "      <td>2018-08-18</td>\n",
              "      <td>3047.563</td>\n",
              "    </tr>\n",
              "    <tr>\n",
              "      <th>3</th>\n",
              "      <td>4</td>\n",
              "      <td>3</td>\n",
              "      <td>1</td>\n",
              "      <td>1</td>\n",
              "      <td>1</td>\n",
              "      <td>1</td>\n",
              "      <td>26800</td>\n",
              "      <td>0</td>\n",
              "      <td>1.0</td>\n",
              "      <td>12</td>\n",
              "      <td>East</td>\n",
              "      <td>Ohio</td>\n",
              "      <td>Cleveland</td>\n",
              "      <td>2015-12-26</td>\n",
              "      <td>434.606</td>\n",
              "    </tr>\n",
              "    <tr>\n",
              "      <th>4</th>\n",
              "      <td>5</td>\n",
              "      <td>1</td>\n",
              "      <td>1</td>\n",
              "      <td>0</td>\n",
              "      <td>0</td>\n",
              "      <td>1</td>\n",
              "      <td>11200</td>\n",
              "      <td>0</td>\n",
              "      <td>NaN</td>\n",
              "      <td>6</td>\n",
              "      <td>Midwest</td>\n",
              "      <td>Illinois</td>\n",
              "      <td>Chicago</td>\n",
              "      <td>2018-08-04</td>\n",
              "      <td>105.624</td>\n",
              "    </tr>\n",
              "  </tbody>\n",
              "</table>\n",
              "</div>"
            ],
            "text/plain": [
              "   Person  Age  Gender  ...       City  First Purchase  Amount Spent\n",
              "0       1    1       0  ...    Orlando      2014-10-23       217.691\n",
              "1       2    2       0  ...    Chicago      2012-05-25      2632.462\n",
              "2       3    2       1  ...    Orlando      2018-08-18      3047.563\n",
              "3       4    3       1  ...  Cleveland      2015-12-26       434.606\n",
              "4       5    1       1  ...    Chicago      2018-08-04       105.624\n",
              "\n",
              "[5 rows x 15 columns]"
            ]
          },
          "metadata": {
            "tags": []
          },
          "execution_count": 41
        }
      ]
    },
    {
      "cell_type": "code",
      "metadata": {
        "colab": {
          "base_uri": "https://localhost:8080/",
          "height": 824
        },
        "id": "wqHoE67Xe6v7",
        "outputId": "ed524a88-2a0d-48da-b367-f7736ded1ec6"
      },
      "source": [
        ""
      ],
      "execution_count": null,
      "outputs": [
        {
          "output_type": "execute_result",
          "data": {
            "text/html": [
              "<div>\n",
              "<style scoped>\n",
              "    .dataframe tbody tr th:only-of-type {\n",
              "        vertical-align: middle;\n",
              "    }\n",
              "\n",
              "    .dataframe tbody tr th {\n",
              "        vertical-align: top;\n",
              "    }\n",
              "\n",
              "    .dataframe thead th {\n",
              "        text-align: right;\n",
              "    }\n",
              "</style>\n",
              "<table border=\"1\" class=\"dataframe\">\n",
              "  <thead>\n",
              "    <tr style=\"text-align: right;\">\n",
              "      <th></th>\n",
              "      <th>Person</th>\n",
              "      <th>Age</th>\n",
              "      <th>Gender</th>\n",
              "      <th>Own Home</th>\n",
              "      <th>Married</th>\n",
              "      <th>Close</th>\n",
              "      <th>Salary</th>\n",
              "      <th>Children</th>\n",
              "      <th>History</th>\n",
              "      <th>Catalogs</th>\n",
              "      <th>Amount Spent</th>\n",
              "    </tr>\n",
              "    <tr>\n",
              "      <th>City</th>\n",
              "      <th></th>\n",
              "      <th></th>\n",
              "      <th></th>\n",
              "      <th></th>\n",
              "      <th></th>\n",
              "      <th></th>\n",
              "      <th></th>\n",
              "      <th></th>\n",
              "      <th></th>\n",
              "      <th></th>\n",
              "      <th></th>\n",
              "    </tr>\n",
              "  </thead>\n",
              "  <tbody>\n",
              "    <tr>\n",
              "      <th>Boston</th>\n",
              "      <td>510.216216</td>\n",
              "      <td>2.243243</td>\n",
              "      <td>0.567568</td>\n",
              "      <td>0.540541</td>\n",
              "      <td>0.621622</td>\n",
              "      <td>0.702703</td>\n",
              "      <td>60070.270270</td>\n",
              "      <td>0.486486</td>\n",
              "      <td>2.380952</td>\n",
              "      <td>14.918919</td>\n",
              "      <td>1395.769865</td>\n",
              "    </tr>\n",
              "    <tr>\n",
              "      <th>Buffalo</th>\n",
              "      <td>485.102564</td>\n",
              "      <td>1.897436</td>\n",
              "      <td>0.538462</td>\n",
              "      <td>0.358974</td>\n",
              "      <td>0.487179</td>\n",
              "      <td>0.615385</td>\n",
              "      <td>47364.102564</td>\n",
              "      <td>0.897436</td>\n",
              "      <td>1.862069</td>\n",
              "      <td>13.538462</td>\n",
              "      <td>991.823641</td>\n",
              "    </tr>\n",
              "    <tr>\n",
              "      <th>Chicago</th>\n",
              "      <td>532.920000</td>\n",
              "      <td>1.820000</td>\n",
              "      <td>0.440000</td>\n",
              "      <td>0.500000</td>\n",
              "      <td>0.400000</td>\n",
              "      <td>0.760000</td>\n",
              "      <td>52142.000000</td>\n",
              "      <td>0.980000</td>\n",
              "      <td>1.942857</td>\n",
              "      <td>14.640000</td>\n",
              "      <td>1160.422100</td>\n",
              "    </tr>\n",
              "    <tr>\n",
              "      <th>Cincinnati</th>\n",
              "      <td>467.868421</td>\n",
              "      <td>1.868421</td>\n",
              "      <td>0.552632</td>\n",
              "      <td>0.578947</td>\n",
              "      <td>0.526316</td>\n",
              "      <td>0.578947</td>\n",
              "      <td>54365.789474</td>\n",
              "      <td>0.868421</td>\n",
              "      <td>2.185185</td>\n",
              "      <td>14.842105</td>\n",
              "      <td>1088.720395</td>\n",
              "    </tr>\n",
              "    <tr>\n",
              "      <th>Cleveland</th>\n",
              "      <td>462.145455</td>\n",
              "      <td>1.909091</td>\n",
              "      <td>0.581818</td>\n",
              "      <td>0.545455</td>\n",
              "      <td>0.563636</td>\n",
              "      <td>0.636364</td>\n",
              "      <td>54732.727273</td>\n",
              "      <td>1.036364</td>\n",
              "      <td>2.000000</td>\n",
              "      <td>14.836364</td>\n",
              "      <td>1120.472764</td>\n",
              "    </tr>\n",
              "    <tr>\n",
              "      <th>Dallas</th>\n",
              "      <td>548.269231</td>\n",
              "      <td>1.769231</td>\n",
              "      <td>0.615385</td>\n",
              "      <td>0.500000</td>\n",
              "      <td>0.384615</td>\n",
              "      <td>0.846154</td>\n",
              "      <td>51976.923077</td>\n",
              "      <td>0.884615</td>\n",
              "      <td>2.055556</td>\n",
              "      <td>13.846154</td>\n",
              "      <td>1071.154692</td>\n",
              "    </tr>\n",
              "    <tr>\n",
              "      <th>Denver</th>\n",
              "      <td>476.843750</td>\n",
              "      <td>2.000000</td>\n",
              "      <td>0.468750</td>\n",
              "      <td>0.593750</td>\n",
              "      <td>0.531250</td>\n",
              "      <td>0.718750</td>\n",
              "      <td>66440.625000</td>\n",
              "      <td>0.968750</td>\n",
              "      <td>2.217391</td>\n",
              "      <td>16.687500</td>\n",
              "      <td>1642.870500</td>\n",
              "    </tr>\n",
              "    <tr>\n",
              "      <th>Houston</th>\n",
              "      <td>463.543478</td>\n",
              "      <td>1.956522</td>\n",
              "      <td>0.434783</td>\n",
              "      <td>0.500000</td>\n",
              "      <td>0.521739</td>\n",
              "      <td>0.630435</td>\n",
              "      <td>56204.347826</td>\n",
              "      <td>1.108696</td>\n",
              "      <td>2.083333</td>\n",
              "      <td>15.000000</td>\n",
              "      <td>1208.600804</td>\n",
              "    </tr>\n",
              "    <tr>\n",
              "      <th>Indianapolis</th>\n",
              "      <td>534.333333</td>\n",
              "      <td>1.888889</td>\n",
              "      <td>0.592593</td>\n",
              "      <td>0.425926</td>\n",
              "      <td>0.462963</td>\n",
              "      <td>0.685185</td>\n",
              "      <td>51824.074074</td>\n",
              "      <td>0.851852</td>\n",
              "      <td>2.027778</td>\n",
              "      <td>15.111111</td>\n",
              "      <td>1232.691481</td>\n",
              "    </tr>\n",
              "    <tr>\n",
              "      <th>Kansas City</th>\n",
              "      <td>504.869565</td>\n",
              "      <td>1.695652</td>\n",
              "      <td>0.456522</td>\n",
              "      <td>0.456522</td>\n",
              "      <td>0.500000</td>\n",
              "      <td>0.695652</td>\n",
              "      <td>56906.521739</td>\n",
              "      <td>0.891304</td>\n",
              "      <td>1.933333</td>\n",
              "      <td>13.043478</td>\n",
              "      <td>1307.039370</td>\n",
              "    </tr>\n",
              "    <tr>\n",
              "      <th>Los Angeles</th>\n",
              "      <td>476.342105</td>\n",
              "      <td>1.921053</td>\n",
              "      <td>0.447368</td>\n",
              "      <td>0.473684</td>\n",
              "      <td>0.421053</td>\n",
              "      <td>0.710526</td>\n",
              "      <td>48810.526316</td>\n",
              "      <td>0.631579</td>\n",
              "      <td>2.034483</td>\n",
              "      <td>14.526316</td>\n",
              "      <td>1041.576868</td>\n",
              "    </tr>\n",
              "    <tr>\n",
              "      <th>Louisville</th>\n",
              "      <td>497.953488</td>\n",
              "      <td>1.976744</td>\n",
              "      <td>0.325581</td>\n",
              "      <td>0.651163</td>\n",
              "      <td>0.581395</td>\n",
              "      <td>0.651163</td>\n",
              "      <td>59725.581395</td>\n",
              "      <td>0.953488</td>\n",
              "      <td>2.121212</td>\n",
              "      <td>14.790698</td>\n",
              "      <td>1268.998070</td>\n",
              "    </tr>\n",
              "    <tr>\n",
              "      <th>Memphis</th>\n",
              "      <td>480.023256</td>\n",
              "      <td>2.023256</td>\n",
              "      <td>0.441860</td>\n",
              "      <td>0.465116</td>\n",
              "      <td>0.465116</td>\n",
              "      <td>0.651163</td>\n",
              "      <td>55146.511628</td>\n",
              "      <td>1.046512</td>\n",
              "      <td>1.906250</td>\n",
              "      <td>14.511628</td>\n",
              "      <td>1155.182023</td>\n",
              "    </tr>\n",
              "    <tr>\n",
              "      <th>Miami</th>\n",
              "      <td>432.083333</td>\n",
              "      <td>1.770833</td>\n",
              "      <td>0.562500</td>\n",
              "      <td>0.500000</td>\n",
              "      <td>0.479167</td>\n",
              "      <td>0.666667</td>\n",
              "      <td>56212.500000</td>\n",
              "      <td>0.895833</td>\n",
              "      <td>2.058824</td>\n",
              "      <td>14.750000</td>\n",
              "      <td>1269.658958</td>\n",
              "    </tr>\n",
              "    <tr>\n",
              "      <th>New Orleans</th>\n",
              "      <td>491.977778</td>\n",
              "      <td>1.888889</td>\n",
              "      <td>0.444444</td>\n",
              "      <td>0.533333</td>\n",
              "      <td>0.466667</td>\n",
              "      <td>0.777778</td>\n",
              "      <td>57357.777778</td>\n",
              "      <td>1.311111</td>\n",
              "      <td>1.864865</td>\n",
              "      <td>14.533333</td>\n",
              "      <td>962.973511</td>\n",
              "    </tr>\n",
              "    <tr>\n",
              "      <th>New York</th>\n",
              "      <td>517.692308</td>\n",
              "      <td>2.102564</td>\n",
              "      <td>0.358974</td>\n",
              "      <td>0.641026</td>\n",
              "      <td>0.487179</td>\n",
              "      <td>0.794872</td>\n",
              "      <td>54800.000000</td>\n",
              "      <td>0.948718</td>\n",
              "      <td>1.821429</td>\n",
              "      <td>11.846154</td>\n",
              "      <td>949.769564</td>\n",
              "    </tr>\n",
              "    <tr>\n",
              "      <th>Orlando</th>\n",
              "      <td>514.866667</td>\n",
              "      <td>1.777778</td>\n",
              "      <td>0.600000</td>\n",
              "      <td>0.533333</td>\n",
              "      <td>0.577778</td>\n",
              "      <td>0.688889</td>\n",
              "      <td>57206.666667</td>\n",
              "      <td>0.888889</td>\n",
              "      <td>2.038462</td>\n",
              "      <td>15.333333</td>\n",
              "      <td>1547.354244</td>\n",
              "    </tr>\n",
              "    <tr>\n",
              "      <th>Philadelphia</th>\n",
              "      <td>492.358974</td>\n",
              "      <td>1.948718</td>\n",
              "      <td>0.461538</td>\n",
              "      <td>0.589744</td>\n",
              "      <td>0.538462</td>\n",
              "      <td>0.846154</td>\n",
              "      <td>63169.230769</td>\n",
              "      <td>1.153846</td>\n",
              "      <td>1.925926</td>\n",
              "      <td>14.769231</td>\n",
              "      <td>1259.702615</td>\n",
              "    </tr>\n",
              "    <tr>\n",
              "      <th>Phoenix</th>\n",
              "      <td>572.195652</td>\n",
              "      <td>1.978261</td>\n",
              "      <td>0.434783</td>\n",
              "      <td>0.543478</td>\n",
              "      <td>0.413043</td>\n",
              "      <td>0.673913</td>\n",
              "      <td>51971.739130</td>\n",
              "      <td>0.782609</td>\n",
              "      <td>2.032258</td>\n",
              "      <td>14.739130</td>\n",
              "      <td>1183.278000</td>\n",
              "    </tr>\n",
              "    <tr>\n",
              "      <th>Pittsburgh</th>\n",
              "      <td>531.209302</td>\n",
              "      <td>2.023256</td>\n",
              "      <td>0.418605</td>\n",
              "      <td>0.441860</td>\n",
              "      <td>0.581395</td>\n",
              "      <td>0.767442</td>\n",
              "      <td>60444.186047</td>\n",
              "      <td>1.023256</td>\n",
              "      <td>2.266667</td>\n",
              "      <td>15.906977</td>\n",
              "      <td>1391.445791</td>\n",
              "    </tr>\n",
              "    <tr>\n",
              "      <th>Salt Lake City</th>\n",
              "      <td>543.000000</td>\n",
              "      <td>2.000000</td>\n",
              "      <td>0.585366</td>\n",
              "      <td>0.560976</td>\n",
              "      <td>0.463415</td>\n",
              "      <td>0.707317</td>\n",
              "      <td>54973.170732</td>\n",
              "      <td>0.878049</td>\n",
              "      <td>2.033333</td>\n",
              "      <td>15.219512</td>\n",
              "      <td>1362.206195</td>\n",
              "    </tr>\n",
              "    <tr>\n",
              "      <th>San Francisco</th>\n",
              "      <td>501.351351</td>\n",
              "      <td>1.972973</td>\n",
              "      <td>0.459459</td>\n",
              "      <td>0.567568</td>\n",
              "      <td>0.702703</td>\n",
              "      <td>0.810811</td>\n",
              "      <td>66694.594595</td>\n",
              "      <td>0.729730</td>\n",
              "      <td>2.400000</td>\n",
              "      <td>14.918919</td>\n",
              "      <td>1384.023378</td>\n",
              "    </tr>\n",
              "    <tr>\n",
              "      <th>Seattle</th>\n",
              "      <td>499.950000</td>\n",
              "      <td>1.875000</td>\n",
              "      <td>0.575000</td>\n",
              "      <td>0.425000</td>\n",
              "      <td>0.500000</td>\n",
              "      <td>0.825000</td>\n",
              "      <td>61147.500000</td>\n",
              "      <td>1.125000</td>\n",
              "      <td>2.000000</td>\n",
              "      <td>14.400000</td>\n",
              "      <td>1182.953550</td>\n",
              "    </tr>\n",
              "    <tr>\n",
              "      <th>St. Louis</th>\n",
              "      <td>479.233333</td>\n",
              "      <td>1.766667</td>\n",
              "      <td>0.500000</td>\n",
              "      <td>0.500000</td>\n",
              "      <td>0.333333</td>\n",
              "      <td>0.700000</td>\n",
              "      <td>48856.666667</td>\n",
              "      <td>0.933333</td>\n",
              "      <td>1.777778</td>\n",
              "      <td>15.800000</td>\n",
              "      <td>1006.007700</td>\n",
              "    </tr>\n",
              "  </tbody>\n",
              "</table>\n",
              "</div>"
            ],
            "text/plain": [
              "                    Person       Age  ...   Catalogs  Amount Spent\n",
              "City                                  ...                         \n",
              "Boston          510.216216  2.243243  ...  14.918919   1395.769865\n",
              "Buffalo         485.102564  1.897436  ...  13.538462    991.823641\n",
              "Chicago         532.920000  1.820000  ...  14.640000   1160.422100\n",
              "Cincinnati      467.868421  1.868421  ...  14.842105   1088.720395\n",
              "Cleveland       462.145455  1.909091  ...  14.836364   1120.472764\n",
              "Dallas          548.269231  1.769231  ...  13.846154   1071.154692\n",
              "Denver          476.843750  2.000000  ...  16.687500   1642.870500\n",
              "Houston         463.543478  1.956522  ...  15.000000   1208.600804\n",
              "Indianapolis    534.333333  1.888889  ...  15.111111   1232.691481\n",
              "Kansas City     504.869565  1.695652  ...  13.043478   1307.039370\n",
              "Los Angeles     476.342105  1.921053  ...  14.526316   1041.576868\n",
              "Louisville      497.953488  1.976744  ...  14.790698   1268.998070\n",
              "Memphis         480.023256  2.023256  ...  14.511628   1155.182023\n",
              "Miami           432.083333  1.770833  ...  14.750000   1269.658958\n",
              "New Orleans     491.977778  1.888889  ...  14.533333    962.973511\n",
              "New York        517.692308  2.102564  ...  11.846154    949.769564\n",
              "Orlando         514.866667  1.777778  ...  15.333333   1547.354244\n",
              "Philadelphia    492.358974  1.948718  ...  14.769231   1259.702615\n",
              "Phoenix         572.195652  1.978261  ...  14.739130   1183.278000\n",
              "Pittsburgh      531.209302  2.023256  ...  15.906977   1391.445791\n",
              "Salt Lake City  543.000000  2.000000  ...  15.219512   1362.206195\n",
              "San Francisco   501.351351  1.972973  ...  14.918919   1384.023378\n",
              "Seattle         499.950000  1.875000  ...  14.400000   1182.953550\n",
              "St. Louis       479.233333  1.766667  ...  15.800000   1006.007700\n",
              "\n",
              "[24 rows x 11 columns]"
            ]
          },
          "metadata": {
            "tags": []
          },
          "execution_count": 50
        }
      ]
    },
    {
      "cell_type": "code",
      "metadata": {
        "colab": {
          "base_uri": "https://localhost:8080/",
          "height": 111
        },
        "id": "q-tmLCHSfL8Q",
        "outputId": "ea09f359-d4d9-4f57-d9ba-0fcd168ad31e"
      },
      "source": [
        "#correlation is the measure of interdependence among two variables\r\n",
        "catalog[['Salary','Amount Spent']].corr()"
      ],
      "execution_count": null,
      "outputs": [
        {
          "output_type": "execute_result",
          "data": {
            "text/html": [
              "<div>\n",
              "<style scoped>\n",
              "    .dataframe tbody tr th:only-of-type {\n",
              "        vertical-align: middle;\n",
              "    }\n",
              "\n",
              "    .dataframe tbody tr th {\n",
              "        vertical-align: top;\n",
              "    }\n",
              "\n",
              "    .dataframe thead th {\n",
              "        text-align: right;\n",
              "    }\n",
              "</style>\n",
              "<table border=\"1\" class=\"dataframe\">\n",
              "  <thead>\n",
              "    <tr style=\"text-align: right;\">\n",
              "      <th></th>\n",
              "      <th>Salary</th>\n",
              "      <th>Amount Spent</th>\n",
              "    </tr>\n",
              "  </thead>\n",
              "  <tbody>\n",
              "    <tr>\n",
              "      <th>Salary</th>\n",
              "      <td>1.000000</td>\n",
              "      <td>0.699598</td>\n",
              "    </tr>\n",
              "    <tr>\n",
              "      <th>Amount Spent</th>\n",
              "      <td>0.699598</td>\n",
              "      <td>1.000000</td>\n",
              "    </tr>\n",
              "  </tbody>\n",
              "</table>\n",
              "</div>"
            ],
            "text/plain": [
              "                Salary  Amount Spent\n",
              "Salary        1.000000      0.699598\n",
              "Amount Spent  0.699598      1.000000"
            ]
          },
          "metadata": {
            "tags": []
          },
          "execution_count": 52
        }
      ]
    },
    {
      "cell_type": "code",
      "metadata": {
        "colab": {
          "base_uri": "https://localhost:8080/",
          "height": 111
        },
        "id": "n80XXvCRhu6o",
        "outputId": "fd04fab4-006e-4b41-db45-b2e67da33c2a"
      },
      "source": [
        "#weak correlation\r\n",
        "catalog[['Catalogs','Amount Spent']].corr()"
      ],
      "execution_count": null,
      "outputs": [
        {
          "output_type": "execute_result",
          "data": {
            "text/html": [
              "<div>\n",
              "<style scoped>\n",
              "    .dataframe tbody tr th:only-of-type {\n",
              "        vertical-align: middle;\n",
              "    }\n",
              "\n",
              "    .dataframe tbody tr th {\n",
              "        vertical-align: top;\n",
              "    }\n",
              "\n",
              "    .dataframe thead th {\n",
              "        text-align: right;\n",
              "    }\n",
              "</style>\n",
              "<table border=\"1\" class=\"dataframe\">\n",
              "  <thead>\n",
              "    <tr style=\"text-align: right;\">\n",
              "      <th></th>\n",
              "      <th>Catalogs</th>\n",
              "      <th>Amount Spent</th>\n",
              "    </tr>\n",
              "  </thead>\n",
              "  <tbody>\n",
              "    <tr>\n",
              "      <th>Catalogs</th>\n",
              "      <td>1.000000</td>\n",
              "      <td>0.472644</td>\n",
              "    </tr>\n",
              "    <tr>\n",
              "      <th>Amount Spent</th>\n",
              "      <td>0.472644</td>\n",
              "      <td>1.000000</td>\n",
              "    </tr>\n",
              "  </tbody>\n",
              "</table>\n",
              "</div>"
            ],
            "text/plain": [
              "              Catalogs  Amount Spent\n",
              "Catalogs      1.000000      0.472644\n",
              "Amount Spent  0.472644      1.000000"
            ]
          },
          "metadata": {
            "tags": []
          },
          "execution_count": 54
        }
      ]
    },
    {
      "cell_type": "code",
      "metadata": {
        "colab": {
          "base_uri": "https://localhost:8080/",
          "height": 390
        },
        "id": "_ZYZryGWiZSl",
        "outputId": "47307a18-1711-44ab-9932-46836fdd6c76"
      },
      "source": [
        "catalog.corr()"
      ],
      "execution_count": null,
      "outputs": [
        {
          "output_type": "execute_result",
          "data": {
            "text/html": [
              "<div>\n",
              "<style scoped>\n",
              "    .dataframe tbody tr th:only-of-type {\n",
              "        vertical-align: middle;\n",
              "    }\n",
              "\n",
              "    .dataframe tbody tr th {\n",
              "        vertical-align: top;\n",
              "    }\n",
              "\n",
              "    .dataframe thead th {\n",
              "        text-align: right;\n",
              "    }\n",
              "</style>\n",
              "<table border=\"1\" class=\"dataframe\">\n",
              "  <thead>\n",
              "    <tr style=\"text-align: right;\">\n",
              "      <th></th>\n",
              "      <th>Person</th>\n",
              "      <th>Age</th>\n",
              "      <th>Gender</th>\n",
              "      <th>Own Home</th>\n",
              "      <th>Married</th>\n",
              "      <th>Close</th>\n",
              "      <th>Salary</th>\n",
              "      <th>Children</th>\n",
              "      <th>History</th>\n",
              "      <th>Catalogs</th>\n",
              "      <th>Amount Spent</th>\n",
              "    </tr>\n",
              "  </thead>\n",
              "  <tbody>\n",
              "    <tr>\n",
              "      <th>Person</th>\n",
              "      <td>1.000000</td>\n",
              "      <td>-0.034690</td>\n",
              "      <td>-0.020093</td>\n",
              "      <td>-0.015693</td>\n",
              "      <td>0.015408</td>\n",
              "      <td>-0.037614</td>\n",
              "      <td>0.013182</td>\n",
              "      <td>0.002295</td>\n",
              "      <td>0.021056</td>\n",
              "      <td>-0.040440</td>\n",
              "      <td>0.001910</td>\n",
              "    </tr>\n",
              "    <tr>\n",
              "      <th>Age</th>\n",
              "      <td>-0.034690</td>\n",
              "      <td>1.000000</td>\n",
              "      <td>0.001459</td>\n",
              "      <td>0.428897</td>\n",
              "      <td>0.255993</td>\n",
              "      <td>0.013350</td>\n",
              "      <td>0.384719</td>\n",
              "      <td>-0.271118</td>\n",
              "      <td>0.395073</td>\n",
              "      <td>0.124460</td>\n",
              "      <td>0.348248</td>\n",
              "    </tr>\n",
              "    <tr>\n",
              "      <th>Gender</th>\n",
              "      <td>-0.020093</td>\n",
              "      <td>0.001459</td>\n",
              "      <td>1.000000</td>\n",
              "      <td>0.084433</td>\n",
              "      <td>0.116057</td>\n",
              "      <td>0.005554</td>\n",
              "      <td>0.261492</td>\n",
              "      <td>-0.105469</td>\n",
              "      <td>0.274855</td>\n",
              "      <td>0.087351</td>\n",
              "      <td>0.201687</td>\n",
              "    </tr>\n",
              "    <tr>\n",
              "      <th>Own Home</th>\n",
              "      <td>-0.015693</td>\n",
              "      <td>0.428897</td>\n",
              "      <td>0.084433</td>\n",
              "      <td>1.000000</td>\n",
              "      <td>0.264009</td>\n",
              "      <td>0.033691</td>\n",
              "      <td>0.460736</td>\n",
              "      <td>-0.032274</td>\n",
              "      <td>0.382031</td>\n",
              "      <td>0.093132</td>\n",
              "      <td>0.350811</td>\n",
              "    </tr>\n",
              "    <tr>\n",
              "      <th>Married</th>\n",
              "      <td>0.015408</td>\n",
              "      <td>0.255993</td>\n",
              "      <td>0.116057</td>\n",
              "      <td>0.264009</td>\n",
              "      <td>1.000000</td>\n",
              "      <td>0.006964</td>\n",
              "      <td>0.675633</td>\n",
              "      <td>0.009770</td>\n",
              "      <td>0.482053</td>\n",
              "      <td>0.137060</td>\n",
              "      <td>0.475879</td>\n",
              "    </tr>\n",
              "    <tr>\n",
              "      <th>Close</th>\n",
              "      <td>-0.037614</td>\n",
              "      <td>0.013350</td>\n",
              "      <td>0.005554</td>\n",
              "      <td>0.033691</td>\n",
              "      <td>0.006964</td>\n",
              "      <td>1.000000</td>\n",
              "      <td>0.037127</td>\n",
              "      <td>-0.002391</td>\n",
              "      <td>-0.232452</td>\n",
              "      <td>-0.128581</td>\n",
              "      <td>-0.252622</td>\n",
              "    </tr>\n",
              "    <tr>\n",
              "      <th>Salary</th>\n",
              "      <td>0.013182</td>\n",
              "      <td>0.384719</td>\n",
              "      <td>0.261492</td>\n",
              "      <td>0.460736</td>\n",
              "      <td>0.675633</td>\n",
              "      <td>0.037127</td>\n",
              "      <td>1.000000</td>\n",
              "      <td>0.049663</td>\n",
              "      <td>0.697616</td>\n",
              "      <td>0.183551</td>\n",
              "      <td>0.699598</td>\n",
              "    </tr>\n",
              "    <tr>\n",
              "      <th>Children</th>\n",
              "      <td>0.002295</td>\n",
              "      <td>-0.271118</td>\n",
              "      <td>-0.105469</td>\n",
              "      <td>-0.032274</td>\n",
              "      <td>0.009770</td>\n",
              "      <td>-0.002391</td>\n",
              "      <td>0.049663</td>\n",
              "      <td>1.000000</td>\n",
              "      <td>-0.403087</td>\n",
              "      <td>-0.113455</td>\n",
              "      <td>-0.222302</td>\n",
              "    </tr>\n",
              "    <tr>\n",
              "      <th>History</th>\n",
              "      <td>0.021056</td>\n",
              "      <td>0.395073</td>\n",
              "      <td>0.274855</td>\n",
              "      <td>0.382031</td>\n",
              "      <td>0.482053</td>\n",
              "      <td>-0.232452</td>\n",
              "      <td>0.697616</td>\n",
              "      <td>-0.403087</td>\n",
              "      <td>1.000000</td>\n",
              "      <td>0.359897</td>\n",
              "      <td>0.766673</td>\n",
              "    </tr>\n",
              "    <tr>\n",
              "      <th>Catalogs</th>\n",
              "      <td>-0.040440</td>\n",
              "      <td>0.124460</td>\n",
              "      <td>0.087351</td>\n",
              "      <td>0.093132</td>\n",
              "      <td>0.137060</td>\n",
              "      <td>-0.128581</td>\n",
              "      <td>0.183551</td>\n",
              "      <td>-0.113455</td>\n",
              "      <td>0.359897</td>\n",
              "      <td>1.000000</td>\n",
              "      <td>0.472644</td>\n",
              "    </tr>\n",
              "    <tr>\n",
              "      <th>Amount Spent</th>\n",
              "      <td>0.001910</td>\n",
              "      <td>0.348248</td>\n",
              "      <td>0.201687</td>\n",
              "      <td>0.350811</td>\n",
              "      <td>0.475879</td>\n",
              "      <td>-0.252622</td>\n",
              "      <td>0.699598</td>\n",
              "      <td>-0.222302</td>\n",
              "      <td>0.766673</td>\n",
              "      <td>0.472644</td>\n",
              "      <td>1.000000</td>\n",
              "    </tr>\n",
              "  </tbody>\n",
              "</table>\n",
              "</div>"
            ],
            "text/plain": [
              "                Person       Age    Gender  ...   History  Catalogs  Amount Spent\n",
              "Person        1.000000 -0.034690 -0.020093  ...  0.021056 -0.040440      0.001910\n",
              "Age          -0.034690  1.000000  0.001459  ...  0.395073  0.124460      0.348248\n",
              "Gender       -0.020093  0.001459  1.000000  ...  0.274855  0.087351      0.201687\n",
              "Own Home     -0.015693  0.428897  0.084433  ...  0.382031  0.093132      0.350811\n",
              "Married       0.015408  0.255993  0.116057  ...  0.482053  0.137060      0.475879\n",
              "Close        -0.037614  0.013350  0.005554  ... -0.232452 -0.128581     -0.252622\n",
              "Salary        0.013182  0.384719  0.261492  ...  0.697616  0.183551      0.699598\n",
              "Children      0.002295 -0.271118 -0.105469  ... -0.403087 -0.113455     -0.222302\n",
              "History       0.021056  0.395073  0.274855  ...  1.000000  0.359897      0.766673\n",
              "Catalogs     -0.040440  0.124460  0.087351  ...  0.359897  1.000000      0.472644\n",
              "Amount Spent  0.001910  0.348248  0.201687  ...  0.766673  0.472644      1.000000\n",
              "\n",
              "[11 rows x 11 columns]"
            ]
          },
          "metadata": {
            "tags": []
          },
          "execution_count": 55
        }
      ]
    },
    {
      "cell_type": "code",
      "metadata": {
        "id": "UE3bC7TQi9PP"
      },
      "source": [
        "citysales=catalog[['City','Amount Spent']].groupby('City').sum()"
      ],
      "execution_count": null,
      "outputs": []
    },
    {
      "cell_type": "code",
      "metadata": {
        "colab": {
          "base_uri": "https://localhost:8080/",
          "height": 824
        },
        "id": "Pl-rHuADo6ck",
        "outputId": "28274284-20bd-4555-a7ec-43b0f5b63d14"
      },
      "source": [
        "citysales.sort_values(by='Amount Spent')"
      ],
      "execution_count": null,
      "outputs": [
        {
          "output_type": "execute_result",
          "data": {
            "text/html": [
              "<div>\n",
              "<style scoped>\n",
              "    .dataframe tbody tr th:only-of-type {\n",
              "        vertical-align: middle;\n",
              "    }\n",
              "\n",
              "    .dataframe tbody tr th {\n",
              "        vertical-align: top;\n",
              "    }\n",
              "\n",
              "    .dataframe thead th {\n",
              "        text-align: right;\n",
              "    }\n",
              "</style>\n",
              "<table border=\"1\" class=\"dataframe\">\n",
              "  <thead>\n",
              "    <tr style=\"text-align: right;\">\n",
              "      <th></th>\n",
              "      <th>Amount Spent</th>\n",
              "    </tr>\n",
              "    <tr>\n",
              "      <th>City</th>\n",
              "      <th></th>\n",
              "    </tr>\n",
              "  </thead>\n",
              "  <tbody>\n",
              "    <tr>\n",
              "      <th>Dallas</th>\n",
              "      <td>27850.022</td>\n",
              "    </tr>\n",
              "    <tr>\n",
              "      <th>St. Louis</th>\n",
              "      <td>30180.231</td>\n",
              "    </tr>\n",
              "    <tr>\n",
              "      <th>New York</th>\n",
              "      <td>37041.013</td>\n",
              "    </tr>\n",
              "    <tr>\n",
              "      <th>Buffalo</th>\n",
              "      <td>38681.122</td>\n",
              "    </tr>\n",
              "    <tr>\n",
              "      <th>Los Angeles</th>\n",
              "      <td>39579.921</td>\n",
              "    </tr>\n",
              "    <tr>\n",
              "      <th>Cincinnati</th>\n",
              "      <td>41371.375</td>\n",
              "    </tr>\n",
              "    <tr>\n",
              "      <th>New Orleans</th>\n",
              "      <td>43333.808</td>\n",
              "    </tr>\n",
              "    <tr>\n",
              "      <th>Seattle</th>\n",
              "      <td>47318.142</td>\n",
              "    </tr>\n",
              "    <tr>\n",
              "      <th>Philadelphia</th>\n",
              "      <td>49128.402</td>\n",
              "    </tr>\n",
              "    <tr>\n",
              "      <th>Memphis</th>\n",
              "      <td>49672.827</td>\n",
              "    </tr>\n",
              "    <tr>\n",
              "      <th>San Francisco</th>\n",
              "      <td>51208.865</td>\n",
              "    </tr>\n",
              "    <tr>\n",
              "      <th>Boston</th>\n",
              "      <td>51643.485</td>\n",
              "    </tr>\n",
              "    <tr>\n",
              "      <th>Denver</th>\n",
              "      <td>52571.856</td>\n",
              "    </tr>\n",
              "    <tr>\n",
              "      <th>Phoenix</th>\n",
              "      <td>54430.788</td>\n",
              "    </tr>\n",
              "    <tr>\n",
              "      <th>Louisville</th>\n",
              "      <td>54566.917</td>\n",
              "    </tr>\n",
              "    <tr>\n",
              "      <th>Houston</th>\n",
              "      <td>55595.637</td>\n",
              "    </tr>\n",
              "    <tr>\n",
              "      <th>Salt Lake City</th>\n",
              "      <td>55850.454</td>\n",
              "    </tr>\n",
              "    <tr>\n",
              "      <th>Chicago</th>\n",
              "      <td>58021.105</td>\n",
              "    </tr>\n",
              "    <tr>\n",
              "      <th>Pittsburgh</th>\n",
              "      <td>59832.169</td>\n",
              "    </tr>\n",
              "    <tr>\n",
              "      <th>Kansas City</th>\n",
              "      <td>60123.811</td>\n",
              "    </tr>\n",
              "    <tr>\n",
              "      <th>Miami</th>\n",
              "      <td>60943.630</td>\n",
              "    </tr>\n",
              "    <tr>\n",
              "      <th>Cleveland</th>\n",
              "      <td>61626.002</td>\n",
              "    </tr>\n",
              "    <tr>\n",
              "      <th>Indianapolis</th>\n",
              "      <td>66565.340</td>\n",
              "    </tr>\n",
              "    <tr>\n",
              "      <th>Orlando</th>\n",
              "      <td>69630.941</td>\n",
              "    </tr>\n",
              "  </tbody>\n",
              "</table>\n",
              "</div>"
            ],
            "text/plain": [
              "                Amount Spent\n",
              "City                        \n",
              "Dallas             27850.022\n",
              "St. Louis          30180.231\n",
              "New York           37041.013\n",
              "Buffalo            38681.122\n",
              "Los Angeles        39579.921\n",
              "Cincinnati         41371.375\n",
              "New Orleans        43333.808\n",
              "Seattle            47318.142\n",
              "Philadelphia       49128.402\n",
              "Memphis            49672.827\n",
              "San Francisco      51208.865\n",
              "Boston             51643.485\n",
              "Denver             52571.856\n",
              "Phoenix            54430.788\n",
              "Louisville         54566.917\n",
              "Houston            55595.637\n",
              "Salt Lake City     55850.454\n",
              "Chicago            58021.105\n",
              "Pittsburgh         59832.169\n",
              "Kansas City        60123.811\n",
              "Miami              60943.630\n",
              "Cleveland          61626.002\n",
              "Indianapolis       66565.340\n",
              "Orlando            69630.941"
            ]
          },
          "metadata": {
            "tags": []
          },
          "execution_count": 57
        }
      ]
    },
    {
      "cell_type": "code",
      "metadata": {
        "id": "W62uXv97o_qc"
      },
      "source": [
        "citysales=catalog[['City','Amount Spent']].groupby('City').mean()"
      ],
      "execution_count": null,
      "outputs": []
    },
    {
      "cell_type": "code",
      "metadata": {
        "colab": {
          "base_uri": "https://localhost:8080/",
          "height": 824
        },
        "id": "zybHsmKSpJT7",
        "outputId": "7e8960ef-2535-4753-f5df-5ce4a1841c18"
      },
      "source": [
        "citysales.sort_values(by='Amount Spent')"
      ],
      "execution_count": null,
      "outputs": [
        {
          "output_type": "execute_result",
          "data": {
            "text/html": [
              "<div>\n",
              "<style scoped>\n",
              "    .dataframe tbody tr th:only-of-type {\n",
              "        vertical-align: middle;\n",
              "    }\n",
              "\n",
              "    .dataframe tbody tr th {\n",
              "        vertical-align: top;\n",
              "    }\n",
              "\n",
              "    .dataframe thead th {\n",
              "        text-align: right;\n",
              "    }\n",
              "</style>\n",
              "<table border=\"1\" class=\"dataframe\">\n",
              "  <thead>\n",
              "    <tr style=\"text-align: right;\">\n",
              "      <th></th>\n",
              "      <th>Amount Spent</th>\n",
              "    </tr>\n",
              "    <tr>\n",
              "      <th>City</th>\n",
              "      <th></th>\n",
              "    </tr>\n",
              "  </thead>\n",
              "  <tbody>\n",
              "    <tr>\n",
              "      <th>New York</th>\n",
              "      <td>949.769564</td>\n",
              "    </tr>\n",
              "    <tr>\n",
              "      <th>New Orleans</th>\n",
              "      <td>962.973511</td>\n",
              "    </tr>\n",
              "    <tr>\n",
              "      <th>Buffalo</th>\n",
              "      <td>991.823641</td>\n",
              "    </tr>\n",
              "    <tr>\n",
              "      <th>St. Louis</th>\n",
              "      <td>1006.007700</td>\n",
              "    </tr>\n",
              "    <tr>\n",
              "      <th>Los Angeles</th>\n",
              "      <td>1041.576868</td>\n",
              "    </tr>\n",
              "    <tr>\n",
              "      <th>Dallas</th>\n",
              "      <td>1071.154692</td>\n",
              "    </tr>\n",
              "    <tr>\n",
              "      <th>Cincinnati</th>\n",
              "      <td>1088.720395</td>\n",
              "    </tr>\n",
              "    <tr>\n",
              "      <th>Cleveland</th>\n",
              "      <td>1120.472764</td>\n",
              "    </tr>\n",
              "    <tr>\n",
              "      <th>Memphis</th>\n",
              "      <td>1155.182023</td>\n",
              "    </tr>\n",
              "    <tr>\n",
              "      <th>Chicago</th>\n",
              "      <td>1160.422100</td>\n",
              "    </tr>\n",
              "    <tr>\n",
              "      <th>Seattle</th>\n",
              "      <td>1182.953550</td>\n",
              "    </tr>\n",
              "    <tr>\n",
              "      <th>Phoenix</th>\n",
              "      <td>1183.278000</td>\n",
              "    </tr>\n",
              "    <tr>\n",
              "      <th>Houston</th>\n",
              "      <td>1208.600804</td>\n",
              "    </tr>\n",
              "    <tr>\n",
              "      <th>Indianapolis</th>\n",
              "      <td>1232.691481</td>\n",
              "    </tr>\n",
              "    <tr>\n",
              "      <th>Philadelphia</th>\n",
              "      <td>1259.702615</td>\n",
              "    </tr>\n",
              "    <tr>\n",
              "      <th>Louisville</th>\n",
              "      <td>1268.998070</td>\n",
              "    </tr>\n",
              "    <tr>\n",
              "      <th>Miami</th>\n",
              "      <td>1269.658958</td>\n",
              "    </tr>\n",
              "    <tr>\n",
              "      <th>Kansas City</th>\n",
              "      <td>1307.039370</td>\n",
              "    </tr>\n",
              "    <tr>\n",
              "      <th>Salt Lake City</th>\n",
              "      <td>1362.206195</td>\n",
              "    </tr>\n",
              "    <tr>\n",
              "      <th>San Francisco</th>\n",
              "      <td>1384.023378</td>\n",
              "    </tr>\n",
              "    <tr>\n",
              "      <th>Pittsburgh</th>\n",
              "      <td>1391.445791</td>\n",
              "    </tr>\n",
              "    <tr>\n",
              "      <th>Boston</th>\n",
              "      <td>1395.769865</td>\n",
              "    </tr>\n",
              "    <tr>\n",
              "      <th>Orlando</th>\n",
              "      <td>1547.354244</td>\n",
              "    </tr>\n",
              "    <tr>\n",
              "      <th>Denver</th>\n",
              "      <td>1642.870500</td>\n",
              "    </tr>\n",
              "  </tbody>\n",
              "</table>\n",
              "</div>"
            ],
            "text/plain": [
              "                Amount Spent\n",
              "City                        \n",
              "New York          949.769564\n",
              "New Orleans       962.973511\n",
              "Buffalo           991.823641\n",
              "St. Louis        1006.007700\n",
              "Los Angeles      1041.576868\n",
              "Dallas           1071.154692\n",
              "Cincinnati       1088.720395\n",
              "Cleveland        1120.472764\n",
              "Memphis          1155.182023\n",
              "Chicago          1160.422100\n",
              "Seattle          1182.953550\n",
              "Phoenix          1183.278000\n",
              "Houston          1208.600804\n",
              "Indianapolis     1232.691481\n",
              "Philadelphia     1259.702615\n",
              "Louisville       1268.998070\n",
              "Miami            1269.658958\n",
              "Kansas City      1307.039370\n",
              "Salt Lake City   1362.206195\n",
              "San Francisco    1384.023378\n",
              "Pittsburgh       1391.445791\n",
              "Boston           1395.769865\n",
              "Orlando          1547.354244\n",
              "Denver           1642.870500"
            ]
          },
          "metadata": {
            "tags": []
          },
          "execution_count": 59
        }
      ]
    },
    {
      "cell_type": "code",
      "metadata": {
        "colab": {
          "base_uri": "https://localhost:8080/",
          "height": 51
        },
        "id": "_rano0APpLuS",
        "outputId": "e0a1dba9-02ad-40e0-b881-bf5c72a47e43"
      },
      "source": [
        "#visualization\r\n",
        "#matplotlib\r\n",
        "#seaborn\r\n",
        "#empty figure with no axes\r\n",
        "import matplotlib.pyplot as plt\r\n",
        "plt.figure()\r\n",
        "\r\n"
      ],
      "execution_count": null,
      "outputs": [
        {
          "output_type": "execute_result",
          "data": {
            "text/plain": [
              "<Figure size 432x288 with 0 Axes>"
            ]
          },
          "metadata": {
            "tags": []
          },
          "execution_count": 1
        },
        {
          "output_type": "display_data",
          "data": {
            "text/plain": [
              "<Figure size 432x288 with 0 Axes>"
            ]
          },
          "metadata": {
            "tags": []
          }
        }
      ]
    },
    {
      "cell_type": "code",
      "metadata": {
        "colab": {
          "base_uri": "https://localhost:8080/",
          "height": 371
        },
        "id": "FlGaWaxbxeoy",
        "outputId": "dcd5fb8e-9ada-4710-eb32-f9ff21597e86"
      },
      "source": [
        "#2 by 2 grid of subplots\r\n",
        "plt.subplots(2,2)\r\n"
      ],
      "execution_count": null,
      "outputs": [
        {
          "output_type": "execute_result",
          "data": {
            "text/plain": [
              "(<Figure size 432x288 with 4 Axes>,\n",
              " array([[<matplotlib.axes._subplots.AxesSubplot object at 0x7feee3565a20>,\n",
              "         <matplotlib.axes._subplots.AxesSubplot object at 0x7feee337fa58>],\n",
              "        [<matplotlib.axes._subplots.AxesSubplot object at 0x7feee33b4c88>,\n",
              "         <matplotlib.axes._subplots.AxesSubplot object at 0x7feee3369eb8>]],\n",
              "       dtype=object))"
            ]
          },
          "metadata": {
            "tags": []
          },
          "execution_count": 2
        },
        {
          "output_type": "display_data",
          "data": {
            "image/png": "[encoded data removed]",
            "text/plain": [
              "<Figure size 432x288 with 4 Axes>"
            ]
          },
          "metadata": {
            "tags": [],
            "needs_background": "light"
          }
        }
      ]
    },
    {
      "cell_type": "code",
      "metadata": {
        "colab": {
          "base_uri": "https://localhost:8080/",
          "height": 51
        },
        "id": "5_kJeLa1xqcg",
        "outputId": "b81d0827-319d-413a-c8fb-f5c6b34b55b5"
      },
      "source": [
        "plt.suptitle(\"No axes for this visual\")"
      ],
      "execution_count": null,
      "outputs": [
        {
          "output_type": "execute_result",
          "data": {
            "text/plain": [
              "Text(0.5, 0.98, 'No axes for this visual')"
            ]
          },
          "metadata": {
            "tags": []
          },
          "execution_count": 3
        },
        {
          "output_type": "display_data",
          "data": {
            "text/plain": [
              "<Figure size 432x288 with 0 Axes>"
            ]
          },
          "metadata": {
            "tags": []
          }
        }
      ]
    },
    {
      "cell_type": "code",
      "metadata": {
        "colab": {
          "base_uri": "https://localhost:8080/",
          "height": 282
        },
        "id": "sfZtA3sNyA-a",
        "outputId": "b9750f75-cae0-4d29-a2eb-b22a23f4c79d"
      },
      "source": [
        "plt.plot([1,2,3,4])"
      ],
      "execution_count": null,
      "outputs": [
        {
          "output_type": "execute_result",
          "data": {
            "text/plain": [
              "[<matplotlib.lines.Line2D at 0x7feedb0ca208>]"
            ]
          },
          "metadata": {
            "tags": []
          },
          "execution_count": 4
        },
        {
          "output_type": "display_data",
          "data": {
            "image/png": "[encoded data removed]",
            "text/plain": [
              "<Figure size 432x288 with 1 Axes>"
            ]
          },
          "metadata": {
            "tags": [],
            "needs_background": "light"
          }
        }
      ]
    },
    {
      "cell_type": "code",
      "metadata": {
        "colab": {
          "base_uri": "https://localhost:8080/",
          "height": 286
        },
        "id": "2QboD4mcymAX",
        "outputId": "fbf578cf-573a-46b4-f896-8c0da674546f"
      },
      "source": [
        "plt.ylabel(\"some numbers\")"
      ],
      "execution_count": null,
      "outputs": [
        {
          "output_type": "execute_result",
          "data": {
            "text/plain": [
              "Text(0, 0.5, 'some numbers')"
            ]
          },
          "metadata": {
            "tags": []
          },
          "execution_count": 5
        },
        {
          "output_type": "display_data",
          "data": {
            "image/png": "[encoded data removed]",
            "text/plain": [
              "<Figure size 432x288 with 1 Axes>"
            ]
          },
          "metadata": {
            "tags": [],
            "needs_background": "light"
          }
        }
      ]
    },
    {
      "cell_type": "code",
      "metadata": {
        "colab": {
          "base_uri": "https://localhost:8080/",
          "height": 51
        },
        "id": "dFYbJk5dyw7j",
        "outputId": "a361760b-8c51-490b-be15-1e911bbabf1c"
      },
      "source": [
        "plt.suptitle(\"This is the title to my chart\")"
      ],
      "execution_count": null,
      "outputs": [
        {
          "output_type": "execute_result",
          "data": {
            "text/plain": [
              "Text(0.5, 0.98, 'This is the title to my chart')"
            ]
          },
          "metadata": {
            "tags": []
          },
          "execution_count": 6
        },
        {
          "output_type": "display_data",
          "data": {
            "text/plain": [
              "<Figure size 432x288 with 0 Axes>"
            ]
          },
          "metadata": {
            "tags": []
          }
        }
      ]
    },
    {
      "cell_type": "code",
      "metadata": {
        "colab": {
          "base_uri": "https://localhost:8080/"
        },
        "id": "S7aZjXDmy3Tv",
        "outputId": "fa6182fe-1286-4965-d7ee-21b0575a2d9c"
      },
      "source": [
        "pip install gapminder"
      ],
      "execution_count": null,
      "outputs": [
        {
          "output_type": "stream",
          "text": [
            "Collecting gapminder\n",
            "  Downloading https://files.pythonhosted.org/packages/85/83/57293b277ac2990ea1d3d0439183da8a3466be58174f822c69b02e584863/gapminder-0.1-py3-none-any.whl\n",
            "Requirement already satisfied: pandas in /usr/local/lib/python3.6/dist-packages (from gapminder) (1.1.5)\n",
            "Requirement already satisfied: python-dateutil>=2.7.3 in /usr/local/lib/python3.6/dist-packages (from pandas->gapminder) (2.8.1)\n",
            "Requirement already satisfied: numpy>=1.15.4 in /usr/local/lib/python3.6/dist-packages (from pandas->gapminder) (1.19.5)\n",
            "Requirement already satisfied: pytz>=2017.2 in /usr/local/lib/python3.6/dist-packages (from pandas->gapminder) (2018.9)\n",
            "Requirement already satisfied: six>=1.5 in /usr/local/lib/python3.6/dist-packages (from python-dateutil>=2.7.3->pandas->gapminder) (1.15.0)\n",
            "Installing collected packages: gapminder\n",
            "Successfully installed gapminder-0.1\n"
          ],
          "name": "stdout"
        }
      ]
    },
    {
      "cell_type": "code",
      "metadata": {
        "id": "QOcNy-XizVR3"
      },
      "source": [
        "import pandas"
      ],
      "execution_count": null,
      "outputs": []
    },
    {
      "cell_type": "code",
      "metadata": {
        "id": "TXtQsfXh0E66"
      },
      "source": [
        "from gapminder import gapminder"
      ],
      "execution_count": null,
      "outputs": []
    },
    {
      "cell_type": "code",
      "metadata": {
        "colab": {
          "base_uri": "https://localhost:8080/",
          "height": 419
        },
        "id": "OirednyC1XGf",
        "outputId": "54fdaf24-fc42-4a05-8693-25edb9fd2986"
      },
      "source": [
        "gapminder"
      ],
      "execution_count": null,
      "outputs": [
        {
          "output_type": "execute_result",
          "data": {
            "text/html": [
              "<div>\n",
              "<style scoped>\n",
              "    .dataframe tbody tr th:only-of-type {\n",
              "        vertical-align: middle;\n",
              "    }\n",
              "\n",
              "    .dataframe tbody tr th {\n",
              "        vertical-align: top;\n",
              "    }\n",
              "\n",
              "    .dataframe thead th {\n",
              "        text-align: right;\n",
              "    }\n",
              "</style>\n",
              "<table border=\"1\" class=\"dataframe\">\n",
              "  <thead>\n",
              "    <tr style=\"text-align: right;\">\n",
              "      <th></th>\n",
              "      <th>country</th>\n",
              "      <th>continent</th>\n",
              "      <th>year</th>\n",
              "      <th>lifeExp</th>\n",
              "      <th>pop</th>\n",
              "      <th>gdpPercap</th>\n",
              "    </tr>\n",
              "  </thead>\n",
              "  <tbody>\n",
              "    <tr>\n",
              "      <th>0</th>\n",
              "      <td>Afghanistan</td>\n",
              "      <td>Asia</td>\n",
              "      <td>1952</td>\n",
              "      <td>28.801</td>\n",
              "      <td>8425333</td>\n",
              "      <td>779.445314</td>\n",
              "    </tr>\n",
              "    <tr>\n",
              "      <th>1</th>\n",
              "      <td>Afghanistan</td>\n",
              "      <td>Asia</td>\n",
              "      <td>1957</td>\n",
              "      <td>30.332</td>\n",
              "      <td>9240934</td>\n",
              "      <td>820.853030</td>\n",
              "    </tr>\n",
              "    <tr>\n",
              "      <th>2</th>\n",
              "      <td>Afghanistan</td>\n",
              "      <td>Asia</td>\n",
              "      <td>1962</td>\n",
              "      <td>31.997</td>\n",
              "      <td>10267083</td>\n",
              "      <td>853.100710</td>\n",
              "    </tr>\n",
              "    <tr>\n",
              "      <th>3</th>\n",
              "      <td>Afghanistan</td>\n",
              "      <td>Asia</td>\n",
              "      <td>1967</td>\n",
              "      <td>34.020</td>\n",
              "      <td>11537966</td>\n",
              "      <td>836.197138</td>\n",
              "    </tr>\n",
              "    <tr>\n",
              "      <th>4</th>\n",
              "      <td>Afghanistan</td>\n",
              "      <td>Asia</td>\n",
              "      <td>1972</td>\n",
              "      <td>36.088</td>\n",
              "      <td>13079460</td>\n",
              "      <td>739.981106</td>\n",
              "    </tr>\n",
              "    <tr>\n",
              "      <th>...</th>\n",
              "      <td>...</td>\n",
              "      <td>...</td>\n",
              "      <td>...</td>\n",
              "      <td>...</td>\n",
              "      <td>...</td>\n",
              "      <td>...</td>\n",
              "    </tr>\n",
              "    <tr>\n",
              "      <th>1699</th>\n",
              "      <td>Zimbabwe</td>\n",
              "      <td>Africa</td>\n",
              "      <td>1987</td>\n",
              "      <td>62.351</td>\n",
              "      <td>9216418</td>\n",
              "      <td>706.157306</td>\n",
              "    </tr>\n",
              "    <tr>\n",
              "      <th>1700</th>\n",
              "      <td>Zimbabwe</td>\n",
              "      <td>Africa</td>\n",
              "      <td>1992</td>\n",
              "      <td>60.377</td>\n",
              "      <td>10704340</td>\n",
              "      <td>693.420786</td>\n",
              "    </tr>\n",
              "    <tr>\n",
              "      <th>1701</th>\n",
              "      <td>Zimbabwe</td>\n",
              "      <td>Africa</td>\n",
              "      <td>1997</td>\n",
              "      <td>46.809</td>\n",
              "      <td>11404948</td>\n",
              "      <td>792.449960</td>\n",
              "    </tr>\n",
              "    <tr>\n",
              "      <th>1702</th>\n",
              "      <td>Zimbabwe</td>\n",
              "      <td>Africa</td>\n",
              "      <td>2002</td>\n",
              "      <td>39.989</td>\n",
              "      <td>11926563</td>\n",
              "      <td>672.038623</td>\n",
              "    </tr>\n",
              "    <tr>\n",
              "      <th>1703</th>\n",
              "      <td>Zimbabwe</td>\n",
              "      <td>Africa</td>\n",
              "      <td>2007</td>\n",
              "      <td>43.487</td>\n",
              "      <td>12311143</td>\n",
              "      <td>469.709298</td>\n",
              "    </tr>\n",
              "  </tbody>\n",
              "</table>\n",
              "<p>1704 rows × 6 columns</p>\n",
              "</div>"
            ],
            "text/plain": [
              "          country continent  year  lifeExp       pop   gdpPercap\n",
              "0     Afghanistan      Asia  1952   28.801   8425333  779.445314\n",
              "1     Afghanistan      Asia  1957   30.332   9240934  820.853030\n",
              "2     Afghanistan      Asia  1962   31.997  10267083  853.100710\n",
              "3     Afghanistan      Asia  1967   34.020  11537966  836.197138\n",
              "4     Afghanistan      Asia  1972   36.088  13079460  739.981106\n",
              "...           ...       ...   ...      ...       ...         ...\n",
              "1699     Zimbabwe    Africa  1987   62.351   9216418  706.157306\n",
              "1700     Zimbabwe    Africa  1992   60.377  10704340  693.420786\n",
              "1701     Zimbabwe    Africa  1997   46.809  11404948  792.449960\n",
              "1702     Zimbabwe    Africa  2002   39.989  11926563  672.038623\n",
              "1703     Zimbabwe    Africa  2007   43.487  12311143  469.709298\n",
              "\n",
              "[1704 rows x 6 columns]"
            ]
          },
          "metadata": {
            "tags": []
          },
          "execution_count": 6
        }
      ]
    },
    {
      "cell_type": "code",
      "metadata": {
        "colab": {
          "base_uri": "https://localhost:8080/",
          "height": 293
        },
        "id": "FPuVjusm1ZGW",
        "outputId": "55b2c417-121b-4e26-c13f-e6dcfaada86e"
      },
      "source": [
        "year=gapminder['year']\r\n",
        "pop=gapminder['pop']\r\n",
        "plt.plot(year,pop)"
      ],
      "execution_count": null,
      "outputs": [
        {
          "output_type": "execute_result",
          "data": {
            "text/plain": [
              "[<matplotlib.lines.Line2D at 0x7ff4ea64a518>]"
            ]
          },
          "metadata": {
            "tags": []
          },
          "execution_count": 7
        },
        {
          "output_type": "display_data",
          "data": {
            "image/png": "[encoded data removed]",
            "text/plain": [
              "<Figure size 432x288 with 1 Axes>"
            ]
          },
          "metadata": {
            "tags": [],
            "needs_background": "light"
          }
        }
      ]
    },
    {
      "cell_type": "code",
      "metadata": {
        "colab": {
          "base_uri": "https://localhost:8080/",
          "height": 282
        },
        "id": "7mNm5SNT1iE3",
        "outputId": "eaeba1c4-4587-4444-a6a3-2f0769546429"
      },
      "source": [
        "plt.plot(gapminder['gdpPercap'],gapminder['lifeExp'])"
      ],
      "execution_count": null,
      "outputs": [
        {
          "output_type": "execute_result",
          "data": {
            "text/plain": [
              "[<matplotlib.lines.Line2D at 0x7ff4e9cc34a8>]"
            ]
          },
          "metadata": {
            "tags": []
          },
          "execution_count": 8
        },
        {
          "output_type": "display_data",
          "data": {
            "image/png": "[encoded data removed]",
            "text/plain": [
              "<Figure size 432x288 with 1 Axes>"
            ]
          },
          "metadata": {
            "tags": [],
            "needs_background": "light"
          }
        }
      ]
    },
    {
      "cell_type": "code",
      "metadata": {
        "colab": {
          "base_uri": "https://localhost:8080/",
          "height": 282
        },
        "id": "ur6HRNtF12_r",
        "outputId": "e9795a7f-ee56-4f6c-cee1-2670f05937bd"
      },
      "source": [
        "#scatter plot-relationship between two numeric variables\r\n",
        "plt.scatter(gapminder['gdpPercap'],gapminder['lifeExp'])"
      ],
      "execution_count": null,
      "outputs": [
        {
          "output_type": "execute_result",
          "data": {
            "text/plain": [
              "<matplotlib.collections.PathCollection at 0x7ff4e9ca1c18>"
            ]
          },
          "metadata": {
            "tags": []
          },
          "execution_count": 9
        },
        {
          "output_type": "display_data",
          "data": {
            "image/png": "[encoded data removed]",
            "text/plain": [
              "<Figure size 432x288 with 1 Axes>"
            ]
          },
          "metadata": {
            "tags": [],
            "needs_background": "light"
          }
        }
      ]
    },
    {
      "cell_type": "code",
      "metadata": {
        "colab": {
          "base_uri": "https://localhost:8080/",
          "height": 293
        },
        "id": "Sf2R0dtQ2HH4",
        "outputId": "63034bb6-a892-4907-9ff6-18690a09d28c"
      },
      "source": [
        "plt.scatter(year,pop)"
      ],
      "execution_count": null,
      "outputs": [
        {
          "output_type": "execute_result",
          "data": {
            "text/plain": [
              "<matplotlib.collections.PathCollection at 0x7ff4e9c07be0>"
            ]
          },
          "metadata": {
            "tags": []
          },
          "execution_count": 10
        },
        {
          "output_type": "display_data",
          "data": {
            "image/png": "[encoded data removed]",
            "text/plain": [
              "<Figure size 432x288 with 1 Axes>"
            ]
          },
          "metadata": {
            "tags": [],
            "needs_background": "light"
          }
        }
      ]
    },
    {
      "cell_type": "code",
      "metadata": {
        "colab": {
          "base_uri": "https://localhost:8080/",
          "height": 333
        },
        "id": "0lKkms_g2O1r",
        "outputId": "9efea9a0-3d83-4872-b513-db988b383360"
      },
      "source": [
        "#create a histogram for life expectancy\r\n",
        "plt.hist(gapminder['lifeExp'])"
      ],
      "execution_count": null,
      "outputs": [
        {
          "output_type": "execute_result",
          "data": {
            "text/plain": [
              "(array([  2.,  33., 130., 223., 213., 192., 187., 293., 320., 111.]),\n",
              " array([23.599 , 29.4994, 35.3998, 41.3002, 47.2006, 53.101 , 59.0014,\n",
              "        64.9018, 70.8022, 76.7026, 82.603 ]),\n",
              " <a list of 10 Patch objects>)"
            ]
          },
          "metadata": {
            "tags": []
          },
          "execution_count": 11
        },
        {
          "output_type": "display_data",
          "data": {
            "image/png": "[encoded data removed]",
            "text/plain": [
              "<Figure size 432x288 with 1 Axes>"
            ]
          },
          "metadata": {
            "tags": [],
            "needs_background": "light"
          }
        }
      ]
    },
    {
      "cell_type": "code",
      "metadata": {
        "colab": {
          "base_uri": "https://localhost:8080/",
          "height": 350
        },
        "id": "co_JkfBz2gQI",
        "outputId": "9d81045f-e9ae-4d5d-d034-da705ff79dc0"
      },
      "source": [
        "#visualize the histogram of GDP for the year 2002\r\n",
        "gap2002=gapminder[gapminder['year']==2002]\r\n",
        "plt.hist(gap2002['gdpPercap'])"
      ],
      "execution_count": null,
      "outputs": [
        {
          "output_type": "execute_result",
          "data": {
            "text/plain": [
              "(array([68., 27., 11.,  3.,  7.,  5., 11.,  7.,  2.,  1.]),\n",
              " array([  241.1658765 ,  4685.44681385,  9129.7277512 , 13574.00868855,\n",
              "        18018.2896259 , 22462.57056325, 26906.8515006 , 31351.13243795,\n",
              "        35795.4133753 , 40239.69431265, 44683.97525   ]),\n",
              " <a list of 10 Patch objects>)"
            ]
          },
          "metadata": {
            "tags": []
          },
          "execution_count": 12
        },
        {
          "output_type": "display_data",
          "data": {
            "image/png": "[encoded data removed]",
            "text/plain": [
              "<Figure size 432x288 with 1 Axes>"
            ]
          },
          "metadata": {
            "tags": [],
            "needs_background": "light"
          }
        }
      ]
    },
    {
      "cell_type": "code",
      "metadata": {
        "colab": {
          "base_uri": "https://localhost:8080/",
          "height": 371
        },
        "id": "yfXsYZ203IeY",
        "outputId": "b9725395-d1a9-41ce-9db6-68ea0b98ffab"
      },
      "source": [
        "plt.hist(gapminder['lifeExp'],20)"
      ],
      "execution_count": null,
      "outputs": [
        {
          "output_type": "execute_result",
          "data": {
            "text/plain": [
              "(array([  1.,   1.,  11.,  22.,  46.,  84., 110., 113., 109., 104.,  94.,\n",
              "         98.,  97.,  90., 116., 177., 191., 129.,  83.,  28.]),\n",
              " array([23.599 , 26.5492, 29.4994, 32.4496, 35.3998, 38.35  , 41.3002,\n",
              "        44.2504, 47.2006, 50.1508, 53.101 , 56.0512, 59.0014, 61.9516,\n",
              "        64.9018, 67.852 , 70.8022, 73.7524, 76.7026, 79.6528, 82.603 ]),\n",
              " <a list of 20 Patch objects>)"
            ]
          },
          "metadata": {
            "tags": []
          },
          "execution_count": 13
        },
        {
          "output_type": "display_data",
          "data": {
            "image/png": "[encoded data removed]",
            "text/plain": [
              "<Figure size 432x288 with 1 Axes>"
            ]
          },
          "metadata": {
            "tags": [],
            "needs_background": "light"
          }
        }
      ]
    },
    {
      "cell_type": "code",
      "metadata": {
        "colab": {
          "base_uri": "https://localhost:8080/",
          "height": 367
        },
        "id": "P1erXtuH4sMb",
        "outputId": "a13ea111-9a8f-48de-a56e-8eaa89091313"
      },
      "source": [
        "#compare the life expectancy in 2007 and 1950.Use 15 bins and derive insights.\r\n",
        "gap2007=gapminder[gapminder['year']==2007]\r\n",
        "gap1952=gapminder[gapminder['year']==1952]\r\n",
        "plt.hist(gap2007['lifeExp'],15)\r\n",
        "plt.hist(gap1952['lifeExp'],15)\r\n",
        "\r\n",
        "\r\n"
      ],
      "execution_count": null,
      "outputs": [
        {
          "output_type": "execute_result",
          "data": {
            "text/plain": [
              "(array([ 5.,  8., 14., 17., 20., 11.,  7.,  7.,  4.,  7.,  9.,  6., 11.,\n",
              "        11.,  5.]),\n",
              " array([28.801 , 31.7256, 34.6502, 37.5748, 40.4994, 43.424 , 46.3486,\n",
              "        49.2732, 52.1978, 55.1224, 58.047 , 60.9716, 63.8962, 66.8208,\n",
              "        69.7454, 72.67  ]),\n",
              " <a list of 15 Patch objects>)"
            ]
          },
          "metadata": {
            "tags": []
          },
          "execution_count": 14
        },
        {
          "output_type": "display_data",
          "data": {
            "image/png": "[encoded data removed]",
            "text/plain": [
              "<Figure size 432x288 with 1 Axes>"
            ]
          },
          "metadata": {
            "tags": [],
            "needs_background": "light"
          }
        }
      ]
    },
    {
      "cell_type": "code",
      "metadata": {
        "colab": {
          "base_uri": "https://localhost:8080/",
          "height": 269
        },
        "id": "S8QAy_jb5mcH",
        "outputId": "d3106da8-438d-4d93-ef0b-de949060a1ca"
      },
      "source": [
        "plt.scatter(gapminder['gdpPercap'],gapminder['lifeExp'])\r\n",
        "plt.xscale('log')"
      ],
      "execution_count": null,
      "outputs": [
        {
          "output_type": "display_data",
          "data": {
            "image/png": "[encoded data removed]",
            "text/plain": [
              "<Figure size 432x288 with 1 Axes>"
            ]
          },
          "metadata": {
            "tags": [],
            "needs_background": "light"
          }
        }
      ]
    },
    {
      "cell_type": "code",
      "metadata": {
        "colab": {
          "base_uri": "https://localhost:8080/",
          "height": 269
        },
        "id": "IZWT0PN18P0w",
        "outputId": "d5f4c076-1ff0-4e57-dd26-2cff35f2a799"
      },
      "source": [
        "#use log scale if data is skewed to one side\r\n",
        "plt.scatter(gap2007['gdpPercap'],gap2007['lifeExp'])\r\n",
        "plt.xscale('log')\r\n"
      ],
      "execution_count": null,
      "outputs": [
        {
          "output_type": "display_data",
          "data": {
            "image/png": "[encoded data removed]",
            "text/plain": [
              "<Figure size 432x288 with 1 Axes>"
            ]
          },
          "metadata": {
            "tags": [],
            "needs_background": "light"
          }
        }
      ]
    },
    {
      "cell_type": "code",
      "metadata": {
        "colab": {
          "base_uri": "https://localhost:8080/",
          "height": 363
        },
        "id": "vt9fWje79M68",
        "outputId": "51811ad0-9074-49f9-ccb8-84fd7fc12d56"
      },
      "source": [
        "\r\n",
        "plt.scatter(gap2007['gdpPercap'],gap2007['lifeExp'])\r\n",
        "plt.xscale('log')\r\n",
        "plt.ylabel('Life Expectancy in years')\r\n",
        "plt.xlabel('GDP per capita in US dollars')\r\n",
        "plt.title('World development in 2007')\r\n",
        "plt.xticks([1000,10000,100000],['1k','10k','100k'])"
      ],
      "execution_count": null,
      "outputs": [
        {
          "output_type": "execute_result",
          "data": {
            "text/plain": [
              "([<matplotlib.axis.XTick at 0x7ff4e8494630>,\n",
              "  <matplotlib.axis.XTick at 0x7ff4e8494c18>,\n",
              "  <matplotlib.axis.XTick at 0x7ff4e843e0f0>],\n",
              " [Text(0, 0, '1k'), Text(0, 0, '10k'), Text(0, 0, '100k')])"
            ]
          },
          "metadata": {
            "tags": []
          },
          "execution_count": 19
        },
        {
          "output_type": "display_data",
          "data": {
            "image/png": "[encoded data removed]",
            "text/plain": [
              "<Figure size 432x288 with 1 Axes>"
            ]
          },
          "metadata": {
            "tags": [],
            "needs_background": "light"
          }
        }
      ]
    },
    {
      "cell_type": "code",
      "metadata": {
        "colab": {
          "base_uri": "https://localhost:8080/",
          "height": 295
        },
        "id": "g3cs6N8hW1uE",
        "outputId": "663443e1-1770-44d8-be6f-2ea4ac06ea0c"
      },
      "source": [
        "import numpy as np\r\n",
        "plt.scatter(gap2007['gdpPercap'],gap2007['lifeExp'],s =np.array(gap2007['pop'])**0.25,alpha=0.8)\r\n",
        "plt.xscale('log')\r\n",
        "plt.ylabel('Life Expectancy in years')\r\n",
        "plt.xlabel('GDP per capita in US dollars')\r\n",
        "plt.title('World development in 2007')\r\n",
        "plt.xticks([1000,10000,100000],['1k','10k','100k'])\r\n",
        "plt.show()"
      ],
      "execution_count": null,
      "outputs": [
        {
          "output_type": "display_data",
          "data": {
            "image/png": "[encoded data removed]",
            "text/plain": [
              "<Figure size 432x288 with 1 Axes>"
            ]
          },
          "metadata": {
            "tags": [],
            "needs_background": "light"
          }
        }
      ]
    },
    {
      "cell_type": "code",
      "metadata": {
        "colab": {
          "base_uri": "https://localhost:8080/",
          "height": 295
        },
        "id": "4NROEP0MXee1",
        "outputId": "843233b0-33b1-4c5d-b3f9-04dc3e9db825"
      },
      "source": [
        "import numpy as np\r\n",
        "plt.scatter(gap2007['gdpPercap'],gap2007['lifeExp'],s =np.array(gap2007['pop'])**0.25,alpha=0.8)\r\n",
        "plt.xscale('log')\r\n",
        "plt.ylabel('Life Expectancy in years')\r\n",
        "plt.xlabel('GDP per capita in US dollars')\r\n",
        "plt.title('World development in 2007')\r\n",
        "plt.xticks([1000,10000,100000],['1k','10k','100k'])\r\n",
        "plt.text(1550,66,'India')\r\n",
        "plt.text(4100,75,'China')\r\n",
        "plt.grid(True)\r\n",
        "plt.show()"
      ],
      "execution_count": null,
      "outputs": [
        {
          "output_type": "display_data",
          "data": {
            "image/png": "[encoded data removed]",
            "text/plain": [
              "<Figure size 432x288 with 1 Axes>"
            ]
          },
          "metadata": {
            "tags": [],
            "needs_background": "light"
          }
        }
      ]
    },
    {
      "cell_type": "code",
      "metadata": {
        "id": "Mh5nTYR0X2eb"
      },
      "source": [
        "#create a program that works as a calculator to compute the values of an investment in a bank.\r\n",
        "#user must specify the tenure of investment,the principal amount.\r\n",
        "#The rate of return is 7#p.a\r\n",
        "#Show the calculator for as long as the user wants it.\r\n"
      ],
      "execution_count": null,
      "outputs": []
    },
    {
      "cell_type": "code",
      "metadata": {
        "colab": {
          "base_uri": "https://localhost:8080/"
        },
        "id": "YcN0GSiE_FW4",
        "outputId": "d6adb451-7948-4f0b-95ac-c36ca913f026"
      },
      "source": [
        "principal=float(input(\"Please enter the principal amount:\"))\r\n",
        "tenure=int(input(\"Please enter the tenure of your investment in years:\"))\r\n",
        "rate=0.07\r\n",
        "maturity_amount=principal*(1+rate)**tenure\r\n",
        "print(\"The maturity amount of your investment will be :\",maturity_amount)\r\n",
        "\r\n"
      ],
      "execution_count": null,
      "outputs": [
        {
          "output_type": "stream",
          "text": [
            "Please enter the principal amount:10000\n",
            "Please enter the tenure of your investment in years:3\n",
            "The maturity amount of your investment will be : 12250.43\n"
          ],
          "name": "stdout"
        }
      ]
    },
    {
      "cell_type": "code",
      "metadata": {
        "id": "WHcDdlIA_w59"
      },
      "source": [
        "\r\n",
        "#Association Rules-Association between products\r\n",
        "#mining-to dig out information from heaps of data\r\n",
        "#Apriori algorithm\r\n",
        "#support-default popularity of the item =transaction with item/total number of transactions\r\n",
        "#confidence= transaction with products A and B/transaction with A (the likelihood that another item B will be purchased if product A is going to be purchased.)\r\n",
        "#lift=increase in the ratio of sale of product B when A is sold\r\n",
        "#confidence/support\r\n",
        "\r\n",
        "\r\n",
        "\r\n",
        "\r\n"
      ],
      "execution_count": null,
      "outputs": []
    },
    {
      "cell_type": "code",
      "metadata": {
        "id": "sDoh7Lh2Gyms"
      },
      "source": [
        "import pandas as pd\r\n",
        "supermarket=pd.read_csv(\"https://github.com/SavioSal/datasets/raw/master/store_data_association_rules.csv\")\r\n"
      ],
      "execution_count": null,
      "outputs": []
    },
    {
      "cell_type": "code",
      "metadata": {
        "colab": {
          "base_uri": "https://localhost:8080/",
          "height": 292
        },
        "id": "kVcKyM1hHfWs",
        "outputId": "49f8f30a-d033-430c-900d-5ea44b23031a"
      },
      "source": [
        "supermarket.head()"
      ],
      "execution_count": null,
      "outputs": [
        {
          "output_type": "execute_result",
          "data": {
            "text/html": [
              "<div>\n",
              "<style scoped>\n",
              "    .dataframe tbody tr th:only-of-type {\n",
              "        vertical-align: middle;\n",
              "    }\n",
              "\n",
              "    .dataframe tbody tr th {\n",
              "        vertical-align: top;\n",
              "    }\n",
              "\n",
              "    .dataframe thead th {\n",
              "        text-align: right;\n",
              "    }\n",
              "</style>\n",
              "<table border=\"1\" class=\"dataframe\">\n",
              "  <thead>\n",
              "    <tr style=\"text-align: right;\">\n",
              "      <th></th>\n",
              "      <th>shrimp</th>\n",
              "      <th>almonds</th>\n",
              "      <th>avocado</th>\n",
              "      <th>vegetables mix</th>\n",
              "      <th>green grapes</th>\n",
              "      <th>whole weat flour</th>\n",
              "      <th>yams</th>\n",
              "      <th>cottage cheese</th>\n",
              "      <th>energy drink</th>\n",
              "      <th>tomato juice</th>\n",
              "      <th>low fat yogurt</th>\n",
              "      <th>green tea</th>\n",
              "      <th>honey</th>\n",
              "      <th>salad</th>\n",
              "      <th>mineral water</th>\n",
              "      <th>salmon</th>\n",
              "      <th>antioxydant juice</th>\n",
              "      <th>frozen smoothie</th>\n",
              "      <th>spinach</th>\n",
              "      <th>olive oil</th>\n",
              "    </tr>\n",
              "  </thead>\n",
              "  <tbody>\n",
              "    <tr>\n",
              "      <th>0</th>\n",
              "      <td>burgers</td>\n",
              "      <td>meatballs</td>\n",
              "      <td>eggs</td>\n",
              "      <td>NaN</td>\n",
              "      <td>NaN</td>\n",
              "      <td>NaN</td>\n",
              "      <td>NaN</td>\n",
              "      <td>NaN</td>\n",
              "      <td>NaN</td>\n",
              "      <td>NaN</td>\n",
              "      <td>NaN</td>\n",
              "      <td>NaN</td>\n",
              "      <td>NaN</td>\n",
              "      <td>NaN</td>\n",
              "      <td>NaN</td>\n",
              "      <td>NaN</td>\n",
              "      <td>NaN</td>\n",
              "      <td>NaN</td>\n",
              "      <td>NaN</td>\n",
              "      <td>NaN</td>\n",
              "    </tr>\n",
              "    <tr>\n",
              "      <th>1</th>\n",
              "      <td>chutney</td>\n",
              "      <td>NaN</td>\n",
              "      <td>NaN</td>\n",
              "      <td>NaN</td>\n",
              "      <td>NaN</td>\n",
              "      <td>NaN</td>\n",
              "      <td>NaN</td>\n",
              "      <td>NaN</td>\n",
              "      <td>NaN</td>\n",
              "      <td>NaN</td>\n",
              "      <td>NaN</td>\n",
              "      <td>NaN</td>\n",
              "      <td>NaN</td>\n",
              "      <td>NaN</td>\n",
              "      <td>NaN</td>\n",
              "      <td>NaN</td>\n",
              "      <td>NaN</td>\n",
              "      <td>NaN</td>\n",
              "      <td>NaN</td>\n",
              "      <td>NaN</td>\n",
              "    </tr>\n",
              "    <tr>\n",
              "      <th>2</th>\n",
              "      <td>turkey</td>\n",
              "      <td>avocado</td>\n",
              "      <td>NaN</td>\n",
              "      <td>NaN</td>\n",
              "      <td>NaN</td>\n",
              "      <td>NaN</td>\n",
              "      <td>NaN</td>\n",
              "      <td>NaN</td>\n",
              "      <td>NaN</td>\n",
              "      <td>NaN</td>\n",
              "      <td>NaN</td>\n",
              "      <td>NaN</td>\n",
              "      <td>NaN</td>\n",
              "      <td>NaN</td>\n",
              "      <td>NaN</td>\n",
              "      <td>NaN</td>\n",
              "      <td>NaN</td>\n",
              "      <td>NaN</td>\n",
              "      <td>NaN</td>\n",
              "      <td>NaN</td>\n",
              "    </tr>\n",
              "    <tr>\n",
              "      <th>3</th>\n",
              "      <td>mineral water</td>\n",
              "      <td>milk</td>\n",
              "      <td>energy bar</td>\n",
              "      <td>whole wheat rice</td>\n",
              "      <td>green tea</td>\n",
              "      <td>NaN</td>\n",
              "      <td>NaN</td>\n",
              "      <td>NaN</td>\n",
              "      <td>NaN</td>\n",
              "      <td>NaN</td>\n",
              "      <td>NaN</td>\n",
              "      <td>NaN</td>\n",
              "      <td>NaN</td>\n",
              "      <td>NaN</td>\n",
              "      <td>NaN</td>\n",
              "      <td>NaN</td>\n",
              "      <td>NaN</td>\n",
              "      <td>NaN</td>\n",
              "      <td>NaN</td>\n",
              "      <td>NaN</td>\n",
              "    </tr>\n",
              "    <tr>\n",
              "      <th>4</th>\n",
              "      <td>low fat yogurt</td>\n",
              "      <td>NaN</td>\n",
              "      <td>NaN</td>\n",
              "      <td>NaN</td>\n",
              "      <td>NaN</td>\n",
              "      <td>NaN</td>\n",
              "      <td>NaN</td>\n",
              "      <td>NaN</td>\n",
              "      <td>NaN</td>\n",
              "      <td>NaN</td>\n",
              "      <td>NaN</td>\n",
              "      <td>NaN</td>\n",
              "      <td>NaN</td>\n",
              "      <td>NaN</td>\n",
              "      <td>NaN</td>\n",
              "      <td>NaN</td>\n",
              "      <td>NaN</td>\n",
              "      <td>NaN</td>\n",
              "      <td>NaN</td>\n",
              "      <td>NaN</td>\n",
              "    </tr>\n",
              "  </tbody>\n",
              "</table>\n",
              "</div>"
            ],
            "text/plain": [
              "           shrimp    almonds     avocado  ... frozen smoothie spinach olive oil\n",
              "0         burgers  meatballs        eggs  ...             NaN     NaN       NaN\n",
              "1         chutney        NaN         NaN  ...             NaN     NaN       NaN\n",
              "2          turkey    avocado         NaN  ...             NaN     NaN       NaN\n",
              "3   mineral water       milk  energy bar  ...             NaN     NaN       NaN\n",
              "4  low fat yogurt        NaN         NaN  ...             NaN     NaN       NaN\n",
              "\n",
              "[5 rows x 20 columns]"
            ]
          },
          "metadata": {
            "tags": []
          },
          "execution_count": 12
        }
      ]
    },
    {
      "cell_type": "code",
      "metadata": {
        "colab": {
          "base_uri": "https://localhost:8080/",
          "height": 255
        },
        "id": "bDbFONZVHg0q",
        "outputId": "b606da0c-f29e-497a-b907-c4c802eb1704"
      },
      "source": [
        "supermarket=pd.read_csv(\"https://github.com/SavioSal/datasets/raw/master/store_data_association_rules.csv\",header=None)\r\n",
        "\r\n",
        "supermarket=supermarket.fillna(\"\")\r\n",
        "supermarket.head()"
      ],
      "execution_count": null,
      "outputs": [
        {
          "output_type": "execute_result",
          "data": {
            "text/html": [
              "<div>\n",
              "<style scoped>\n",
              "    .dataframe tbody tr th:only-of-type {\n",
              "        vertical-align: middle;\n",
              "    }\n",
              "\n",
              "    .dataframe tbody tr th {\n",
              "        vertical-align: top;\n",
              "    }\n",
              "\n",
              "    .dataframe thead th {\n",
              "        text-align: right;\n",
              "    }\n",
              "</style>\n",
              "<table border=\"1\" class=\"dataframe\">\n",
              "  <thead>\n",
              "    <tr style=\"text-align: right;\">\n",
              "      <th></th>\n",
              "      <th>0</th>\n",
              "      <th>1</th>\n",
              "      <th>2</th>\n",
              "      <th>3</th>\n",
              "      <th>4</th>\n",
              "      <th>5</th>\n",
              "      <th>6</th>\n",
              "      <th>7</th>\n",
              "      <th>8</th>\n",
              "      <th>9</th>\n",
              "      <th>10</th>\n",
              "      <th>11</th>\n",
              "      <th>12</th>\n",
              "      <th>13</th>\n",
              "      <th>14</th>\n",
              "      <th>15</th>\n",
              "      <th>16</th>\n",
              "      <th>17</th>\n",
              "      <th>18</th>\n",
              "      <th>19</th>\n",
              "    </tr>\n",
              "  </thead>\n",
              "  <tbody>\n",
              "    <tr>\n",
              "      <th>0</th>\n",
              "      <td>shrimp</td>\n",
              "      <td>almonds</td>\n",
              "      <td>avocado</td>\n",
              "      <td>vegetables mix</td>\n",
              "      <td>green grapes</td>\n",
              "      <td>whole weat flour</td>\n",
              "      <td>yams</td>\n",
              "      <td>cottage cheese</td>\n",
              "      <td>energy drink</td>\n",
              "      <td>tomato juice</td>\n",
              "      <td>low fat yogurt</td>\n",
              "      <td>green tea</td>\n",
              "      <td>honey</td>\n",
              "      <td>salad</td>\n",
              "      <td>mineral water</td>\n",
              "      <td>salmon</td>\n",
              "      <td>antioxydant juice</td>\n",
              "      <td>frozen smoothie</td>\n",
              "      <td>spinach</td>\n",
              "      <td>olive oil</td>\n",
              "    </tr>\n",
              "    <tr>\n",
              "      <th>1</th>\n",
              "      <td>burgers</td>\n",
              "      <td>meatballs</td>\n",
              "      <td>eggs</td>\n",
              "      <td></td>\n",
              "      <td></td>\n",
              "      <td></td>\n",
              "      <td></td>\n",
              "      <td></td>\n",
              "      <td></td>\n",
              "      <td></td>\n",
              "      <td></td>\n",
              "      <td></td>\n",
              "      <td></td>\n",
              "      <td></td>\n",
              "      <td></td>\n",
              "      <td></td>\n",
              "      <td></td>\n",
              "      <td></td>\n",
              "      <td></td>\n",
              "      <td></td>\n",
              "    </tr>\n",
              "    <tr>\n",
              "      <th>2</th>\n",
              "      <td>chutney</td>\n",
              "      <td></td>\n",
              "      <td></td>\n",
              "      <td></td>\n",
              "      <td></td>\n",
              "      <td></td>\n",
              "      <td></td>\n",
              "      <td></td>\n",
              "      <td></td>\n",
              "      <td></td>\n",
              "      <td></td>\n",
              "      <td></td>\n",
              "      <td></td>\n",
              "      <td></td>\n",
              "      <td></td>\n",
              "      <td></td>\n",
              "      <td></td>\n",
              "      <td></td>\n",
              "      <td></td>\n",
              "      <td></td>\n",
              "    </tr>\n",
              "    <tr>\n",
              "      <th>3</th>\n",
              "      <td>turkey</td>\n",
              "      <td>avocado</td>\n",
              "      <td></td>\n",
              "      <td></td>\n",
              "      <td></td>\n",
              "      <td></td>\n",
              "      <td></td>\n",
              "      <td></td>\n",
              "      <td></td>\n",
              "      <td></td>\n",
              "      <td></td>\n",
              "      <td></td>\n",
              "      <td></td>\n",
              "      <td></td>\n",
              "      <td></td>\n",
              "      <td></td>\n",
              "      <td></td>\n",
              "      <td></td>\n",
              "      <td></td>\n",
              "      <td></td>\n",
              "    </tr>\n",
              "    <tr>\n",
              "      <th>4</th>\n",
              "      <td>mineral water</td>\n",
              "      <td>milk</td>\n",
              "      <td>energy bar</td>\n",
              "      <td>whole wheat rice</td>\n",
              "      <td>green tea</td>\n",
              "      <td></td>\n",
              "      <td></td>\n",
              "      <td></td>\n",
              "      <td></td>\n",
              "      <td></td>\n",
              "      <td></td>\n",
              "      <td></td>\n",
              "      <td></td>\n",
              "      <td></td>\n",
              "      <td></td>\n",
              "      <td></td>\n",
              "      <td></td>\n",
              "      <td></td>\n",
              "      <td></td>\n",
              "      <td></td>\n",
              "    </tr>\n",
              "  </tbody>\n",
              "</table>\n",
              "</div>"
            ],
            "text/plain": [
              "              0          1           2   ...               17       18         19\n",
              "0         shrimp    almonds     avocado  ...  frozen smoothie  spinach  olive oil\n",
              "1        burgers  meatballs        eggs  ...                                     \n",
              "2        chutney                         ...                                     \n",
              "3         turkey    avocado              ...                                     \n",
              "4  mineral water       milk  energy bar  ...                                     \n",
              "\n",
              "[5 rows x 20 columns]"
            ]
          },
          "metadata": {
            "tags": []
          },
          "execution_count": 22
        }
      ]
    },
    {
      "cell_type": "code",
      "metadata": {
        "colab": {
          "base_uri": "https://localhost:8080/"
        },
        "id": "Zem8D8GtH4r1",
        "outputId": "83de3024-9943-4396-9a52-1fe334800436"
      },
      "source": [
        "pip install apyori"
      ],
      "execution_count": null,
      "outputs": [
        {
          "output_type": "stream",
          "text": [
            "Requirement already satisfied: apyori in /usr/local/lib/python3.6/dist-packages (1.1.2)\n"
          ],
          "name": "stdout"
        }
      ]
    },
    {
      "cell_type": "code",
      "metadata": {
        "id": "oWScoog3IQo4"
      },
      "source": [
        "from apyori import apriori\r\n",
        "import matplotlib.pyplot as plt\r\n"
      ],
      "execution_count": null,
      "outputs": []
    },
    {
      "cell_type": "code",
      "metadata": {
        "id": "YL2g733CIpps"
      },
      "source": [
        "superlist=supermarket.values.tolist()"
      ],
      "execution_count": null,
      "outputs": []
    },
    {
      "cell_type": "code",
      "metadata": {
        "id": "CV40T1t_I4Qb"
      },
      "source": [
        "association_rules=apriori(superlist,min_support=0.005,min_confidence=0.2,min_lift=2)\r\n",
        "rule_list=list(association_rules)"
      ],
      "execution_count": null,
      "outputs": []
    },
    {
      "cell_type": "code",
      "metadata": {
        "colab": {
          "base_uri": "https://localhost:8080/"
        },
        "id": "8KcmZwwlJjSF",
        "outputId": "3841849a-1198-4ecf-b15d-94d7c0c5a298"
      },
      "source": [
        "association_rules"
      ],
      "execution_count": null,
      "outputs": [
        {
          "output_type": "execute_result",
          "data": {
            "text/plain": [
              "<generator object apriori at 0x7fb214a12780>"
            ]
          },
          "metadata": {
            "tags": []
          },
          "execution_count": 34
        }
      ]
    },
    {
      "cell_type": "code",
      "metadata": {
        "colab": {
          "base_uri": "https://localhost:8080/"
        },
        "id": "yL8VoN7DJk0E",
        "outputId": "9578e374-0229-4173-a6f9-ecf9309932a8"
      },
      "source": [
        "for i in rule_list:\r\n",
        "  print(i)"
      ],
      "execution_count": null,
      "outputs": [
        {
          "output_type": "stream",
          "text": [
            "RelationRecord(items=frozenset({'almonds', 'burgers'}), support=0.005199306759098787, ordered_statistics=[OrderedStatistic(items_base=frozenset({'almonds'}), items_add=frozenset({'burgers'}), confidence=0.25490196078431376, lift=2.923577382023146)])\n",
            "RelationRecord(items=frozenset({'ham', 'burgers'}), support=0.005599253432875617, ordered_statistics=[OrderedStatistic(items_base=frozenset({'ham'}), items_add=frozenset({'burgers'}), confidence=0.21105527638190955, lift=2.420681388594348)])\n",
            "RelationRecord(items=frozenset({'cereals', 'milk'}), support=0.007065724570057326, ordered_statistics=[OrderedStatistic(items_base=frozenset({'cereals'}), items_add=frozenset({'milk'}), confidence=0.2746113989637306, lift=2.119197637476279)])\n",
            "RelationRecord(items=frozenset({'tomato sauce', 'chocolate'}), support=0.005065991201173177, ordered_statistics=[OrderedStatistic(items_base=frozenset({'tomato sauce'}), items_add=frozenset({'chocolate'}), confidence=0.3584905660377358, lift=2.1879883936932925)])\n",
            "RelationRecord(items=frozenset({'mushroom cream sauce', 'escalope'}), support=0.005732568990801226, ordered_statistics=[OrderedStatistic(items_base=frozenset({'mushroom cream sauce'}), items_add=frozenset({'escalope'}), confidence=0.3006993006993007, lift=3.790832696715049)])\n",
            "RelationRecord(items=frozenset({'pasta', 'escalope'}), support=0.005865884548726837, ordered_statistics=[OrderedStatistic(items_base=frozenset({'pasta'}), items_add=frozenset({'escalope'}), confidence=0.3728813559322034, lift=4.700811850163794)])\n",
            "RelationRecord(items=frozenset({'extra dark chocolate', 'mineral water'}), support=0.005732568990801226, ordered_statistics=[OrderedStatistic(items_base=frozenset({'extra dark chocolate'}), items_add=frozenset({'mineral water'}), confidence=0.47777777777777775, lift=2.0043686303753416)])\n",
            "RelationRecord(items=frozenset({'fresh tuna', 'pancakes'}), support=0.005065991201173177, ordered_statistics=[OrderedStatistic(items_base=frozenset({'fresh tuna'}), items_add=frozenset({'pancakes'}), confidence=0.2275449101796407, lift=2.3938490480469636)])\n",
            "RelationRecord(items=frozenset({'parmesan cheese', 'frozen vegetables'}), support=0.005465937874950006, ordered_statistics=[OrderedStatistic(items_base=frozenset({'parmesan cheese'}), items_add=frozenset({'frozen vegetables'}), confidence=0.27516778523489926, lift=2.886760219646125)])\n",
            "RelationRecord(items=frozenset({'shrimp', 'frozen vegetables'}), support=0.01666444474070124, ordered_statistics=[OrderedStatistic(items_base=frozenset({'shrimp'}), items_add=frozenset({'frozen vegetables'}), confidence=0.23320895522388058, lift=2.44657394843962)])\n",
            "RelationRecord(items=frozenset({'frozen vegetables', 'tomatoes'}), support=0.0161311825089988, ordered_statistics=[OrderedStatistic(items_base=frozenset({'tomatoes'}), items_add=frozenset({'frozen vegetables'}), confidence=0.23586744639376217, lift=2.4744639376218323)])\n",
            "RelationRecord(items=frozenset({'ground beef', 'grated cheese'}), support=0.011331822423676844, ordered_statistics=[OrderedStatistic(items_base=frozenset({'grated cheese'}), items_add=frozenset({'ground beef'}), confidence=0.2162849872773537, lift=2.201294015695292)])\n",
            "RelationRecord(items=frozenset({'herb & pepper', 'ground beef'}), support=0.015997866951073192, ordered_statistics=[OrderedStatistic(items_base=frozenset({'herb & pepper'}), items_add=frozenset({'ground beef'}), confidence=0.3234501347708895, lift=3.2919938411349285)])\n",
            "RelationRecord(items=frozenset({'olive oil', 'ground beef'}), support=0.014131449140114652, ordered_statistics=[OrderedStatistic(items_base=frozenset({'olive oil'}), items_add=frozenset({'ground beef'}), confidence=0.2145748987854251, lift=2.183889166607156)])\n",
            "RelationRecord(items=frozenset({'pepper', 'ground beef'}), support=0.006532462338354886, ordered_statistics=[OrderedStatistic(items_base=frozenset({'pepper'}), items_add=frozenset({'ground beef'}), confidence=0.24623115577889446, lift=2.5060785610549354)])\n",
            "RelationRecord(items=frozenset({'ground beef', 'salmon'}), support=0.008932142381015865, ordered_statistics=[OrderedStatistic(items_base=frozenset({'salmon'}), items_add=frozenset({'ground beef'}), confidence=0.21003134796238246, lift=2.137646053006555)])\n",
            "RelationRecord(items=frozenset({'ground beef', 'spaghetti'}), support=0.03919477403012932, ordered_statistics=[OrderedStatistic(items_base=frozenset({'ground beef'}), items_add=frozenset({'spaghetti'}), confidence=0.3989145183175034, lift=2.291162176033379), OrderedStatistic(items_base=frozenset({'spaghetti'}), items_add=frozenset({'ground beef'}), confidence=0.22511485451761104, lift=2.2911621760333793)])\n",
            "RelationRecord(items=frozenset({'tomato sauce', 'ground beef'}), support=0.005332622317024397, ordered_statistics=[OrderedStatistic(items_base=frozenset({'tomato sauce'}), items_add=frozenset({'ground beef'}), confidence=0.3773584905660377, lift=3.840659481324083)])\n",
            "RelationRecord(items=frozenset({'light mayo', 'pancakes'}), support=0.005465937874950006, ordered_statistics=[OrderedStatistic(items_base=frozenset({'light mayo'}), items_add=frozenset({'pancakes'}), confidence=0.20098039215686272, lift=2.1143813766740918)])\n",
            "RelationRecord(items=frozenset({'milk', 'meatballs'}), support=0.005465937874950006, ordered_statistics=[OrderedStatistic(items_base=frozenset({'meatballs'}), items_add=frozenset({'milk'}), confidence=0.2611464968152866, lift=2.0152879347854578)])\n",
            "RelationRecord(items=frozenset({'milk', 'soup'}), support=0.015197973603519531, ordered_statistics=[OrderedStatistic(items_base=frozenset({'soup'}), items_add=frozenset({'milk'}), confidence=0.3007915567282322, lift=2.3212319619531585)])\n",
            "RelationRecord(items=frozenset({'milk', 'whole wheat pasta'}), support=0.009865351286495135, ordered_statistics=[OrderedStatistic(items_base=frozenset({'whole wheat pasta'}), items_add=frozenset({'milk'}), confidence=0.33484162895927605, lift=2.5839990317114503)])\n",
            "RelationRecord(items=frozenset({'nonfat milk', 'mineral water'}), support=0.005065991201173177, ordered_statistics=[OrderedStatistic(items_base=frozenset({'nonfat milk'}), items_add=frozenset({'mineral water'}), confidence=0.4871794871794871, lift=2.0438105891126024)])\n",
            "RelationRecord(items=frozenset({'olive oil', 'whole wheat pasta'}), support=0.007998933475536596, ordered_statistics=[OrderedStatistic(items_base=frozenset({'whole wheat pasta'}), items_add=frozenset({'olive oil'}), confidence=0.2714932126696833, lift=4.122410097642296)])\n",
            "RelationRecord(items=frozenset({'pasta', 'shrimp'}), support=0.005065991201173177, ordered_statistics=[OrderedStatistic(items_base=frozenset({'pasta'}), items_add=frozenset({'shrimp'}), confidence=0.3220338983050847, lift=4.506672147735896)])\n",
            "RelationRecord(items=frozenset({'pepper', 'spaghetti'}), support=0.009865351286495135, ordered_statistics=[OrderedStatistic(items_base=frozenset({'pepper'}), items_add=frozenset({'spaghetti'}), confidence=0.37185929648241206, lift=2.1357707373005916)])\n",
            "RelationRecord(items=frozenset({'red wine', 'spaghetti'}), support=0.010265297960271964, ordered_statistics=[OrderedStatistic(items_base=frozenset({'red wine'}), items_add=frozenset({'spaghetti'}), confidence=0.36492890995260663, lift=2.095966120638976)])\n",
            "RelationRecord(items=frozenset({'tomato sauce', 'spaghetti'}), support=0.006265831222503666, ordered_statistics=[OrderedStatistic(items_base=frozenset({'tomato sauce'}), items_add=frozenset({'spaghetti'}), confidence=0.4433962264150943, lift=2.546642491837383)])\n",
            "RelationRecord(items=frozenset({'', 'almonds', 'burgers'}), support=0.005199306759098787, ordered_statistics=[OrderedStatistic(items_base=frozenset({'almonds'}), items_add=frozenset({'', 'burgers'}), confidence=0.25490196078431376, lift=2.923577382023146), OrderedStatistic(items_base=frozenset({'', 'almonds'}), items_add=frozenset({'burgers'}), confidence=0.2565789473684211, lift=2.942811443746982)])\n",
            "RelationRecord(items=frozenset({'', 'ham', 'burgers'}), support=0.005599253432875617, ordered_statistics=[OrderedStatistic(items_base=frozenset({'ham'}), items_add=frozenset({'', 'burgers'}), confidence=0.21105527638190955, lift=2.420681388594348), OrderedStatistic(items_base=frozenset({'', 'ham'}), items_add=frozenset({'burgers'}), confidence=0.21105527638190955, lift=2.420681388594348)])\n",
            "RelationRecord(items=frozenset({'', 'milk', 'cereals'}), support=0.007065724570057326, ordered_statistics=[OrderedStatistic(items_base=frozenset({'cereals'}), items_add=frozenset({'', 'milk'}), confidence=0.2746113989637306, lift=2.119197637476279), OrderedStatistic(items_base=frozenset({'', 'cereals'}), items_add=frozenset({'milk'}), confidence=0.2746113989637306, lift=2.119197637476279)])\n",
            "RelationRecord(items=frozenset({'', 'tomato sauce', 'chocolate'}), support=0.005065991201173177, ordered_statistics=[OrderedStatistic(items_base=frozenset({'tomato sauce'}), items_add=frozenset({'', 'chocolate'}), confidence=0.3584905660377358, lift=2.1879883936932925), OrderedStatistic(items_base=frozenset({'', 'tomato sauce'}), items_add=frozenset({'chocolate'}), confidence=0.3584905660377358, lift=2.1879883936932925)])\n",
            "RelationRecord(items=frozenset({'', 'mushroom cream sauce', 'escalope'}), support=0.005732568990801226, ordered_statistics=[OrderedStatistic(items_base=frozenset({'mushroom cream sauce'}), items_add=frozenset({'', 'escalope'}), confidence=0.3006993006993007, lift=3.790832696715049), OrderedStatistic(items_base=frozenset({'', 'mushroom cream sauce'}), items_add=frozenset({'escalope'}), confidence=0.3006993006993007, lift=3.790832696715049)])\n",
            "RelationRecord(items=frozenset({'', 'pasta', 'escalope'}), support=0.005865884548726837, ordered_statistics=[OrderedStatistic(items_base=frozenset({'pasta'}), items_add=frozenset({'', 'escalope'}), confidence=0.3728813559322034, lift=4.700811850163794), OrderedStatistic(items_base=frozenset({'', 'pasta'}), items_add=frozenset({'escalope'}), confidence=0.3728813559322034, lift=4.700811850163794)])\n",
            "RelationRecord(items=frozenset({'', 'extra dark chocolate', 'mineral water'}), support=0.005732568990801226, ordered_statistics=[OrderedStatistic(items_base=frozenset({'extra dark chocolate'}), items_add=frozenset({'', 'mineral water'}), confidence=0.47777777777777775, lift=2.0054902692283774), OrderedStatistic(items_base=frozenset({'', 'extra dark chocolate'}), items_add=frozenset({'mineral water'}), confidence=0.47777777777777775, lift=2.0043686303753416)])\n",
            "RelationRecord(items=frozenset({'', 'fresh tuna', 'pancakes'}), support=0.005065991201173177, ordered_statistics=[OrderedStatistic(items_base=frozenset({'fresh tuna'}), items_add=frozenset({'', 'pancakes'}), confidence=0.2275449101796407, lift=2.3938490480469636), OrderedStatistic(items_base=frozenset({'', 'fresh tuna'}), items_add=frozenset({'pancakes'}), confidence=0.2275449101796407, lift=2.3938490480469636)])\n",
            "RelationRecord(items=frozenset({'', 'parmesan cheese', 'frozen vegetables'}), support=0.005465937874950006, ordered_statistics=[OrderedStatistic(items_base=frozenset({'parmesan cheese'}), items_add=frozenset({'', 'frozen vegetables'}), confidence=0.27516778523489926, lift=2.886760219646125), OrderedStatistic(items_base=frozenset({'', 'parmesan cheese'}), items_add=frozenset({'frozen vegetables'}), confidence=0.27516778523489926, lift=2.886760219646125)])\n",
            "RelationRecord(items=frozenset({'', 'shrimp', 'frozen vegetables'}), support=0.01666444474070124, ordered_statistics=[OrderedStatistic(items_base=frozenset({'shrimp'}), items_add=frozenset({'', 'frozen vegetables'}), confidence=0.23320895522388058, lift=2.44657394843962), OrderedStatistic(items_base=frozenset({'', 'shrimp'}), items_add=frozenset({'frozen vegetables'}), confidence=0.23364485981308414, lift=2.4511469838572646)])\n",
            "RelationRecord(items=frozenset({'', 'frozen vegetables', 'tomatoes'}), support=0.0161311825089988, ordered_statistics=[OrderedStatistic(items_base=frozenset({'tomatoes'}), items_add=frozenset({'', 'frozen vegetables'}), confidence=0.23586744639376217, lift=2.4744639376218323), OrderedStatistic(items_base=frozenset({'', 'tomatoes'}), items_add=frozenset({'frozen vegetables'}), confidence=0.23586744639376217, lift=2.4744639376218323)])\n",
            "RelationRecord(items=frozenset({'', 'ground beef', 'grated cheese'}), support=0.011331822423676844, ordered_statistics=[OrderedStatistic(items_base=frozenset({'grated cheese'}), items_add=frozenset({'', 'ground beef'}), confidence=0.2162849872773537, lift=2.201294015695292), OrderedStatistic(items_base=frozenset({'', 'grated cheese'}), items_add=frozenset({'ground beef'}), confidence=0.2162849872773537, lift=2.201294015695292)])\n",
            "RelationRecord(items=frozenset({'', 'herb & pepper', 'ground beef'}), support=0.015997866951073192, ordered_statistics=[OrderedStatistic(items_base=frozenset({'herb & pepper'}), items_add=frozenset({'', 'ground beef'}), confidence=0.3234501347708895, lift=3.2919938411349285), OrderedStatistic(items_base=frozenset({'', 'herb & pepper'}), items_add=frozenset({'ground beef'}), confidence=0.3234501347708895, lift=3.2919938411349285)])\n",
            "RelationRecord(items=frozenset({'', 'olive oil', 'ground beef'}), support=0.014131449140114652, ordered_statistics=[OrderedStatistic(items_base=frozenset({'olive oil'}), items_add=frozenset({'', 'ground beef'}), confidence=0.2145748987854251, lift=2.183889166607156), OrderedStatistic(items_base=frozenset({'', 'olive oil'}), items_add=frozenset({'ground beef'}), confidence=0.2150101419878296, lift=2.188318962076947)])\n",
            "RelationRecord(items=frozenset({'', 'pepper', 'ground beef'}), support=0.006532462338354886, ordered_statistics=[OrderedStatistic(items_base=frozenset({'pepper'}), items_add=frozenset({'', 'ground beef'}), confidence=0.24623115577889446, lift=2.5060785610549354), OrderedStatistic(items_base=frozenset({'', 'pepper'}), items_add=frozenset({'ground beef'}), confidence=0.24623115577889446, lift=2.5060785610549354)])\n",
            "RelationRecord(items=frozenset({'', 'ground beef', 'salmon'}), support=0.008932142381015865, ordered_statistics=[OrderedStatistic(items_base=frozenset({'salmon'}), items_add=frozenset({'', 'ground beef'}), confidence=0.21003134796238246, lift=2.137646053006555), OrderedStatistic(items_base=frozenset({'', 'salmon'}), items_add=frozenset({'ground beef'}), confidence=0.21069182389937108, lift=2.1443682104059465)])\n",
            "RelationRecord(items=frozenset({'', 'ground beef', 'spaghetti'}), support=0.03919477403012932, ordered_statistics=[OrderedStatistic(items_base=frozenset({'ground beef'}), items_add=frozenset({'', 'spaghetti'}), confidence=0.3989145183175034, lift=2.291162176033379), OrderedStatistic(items_base=frozenset({'spaghetti'}), items_add=frozenset({'', 'ground beef'}), confidence=0.22511485451761104, lift=2.2911621760333793), OrderedStatistic(items_base=frozenset({'', 'ground beef'}), items_add=frozenset({'spaghetti'}), confidence=0.3989145183175034, lift=2.291162176033379), OrderedStatistic(items_base=frozenset({'', 'spaghetti'}), items_add=frozenset({'ground beef'}), confidence=0.22511485451761104, lift=2.2911621760333793)])\n",
            "RelationRecord(items=frozenset({'', 'tomato sauce', 'ground beef'}), support=0.005332622317024397, ordered_statistics=[OrderedStatistic(items_base=frozenset({'tomato sauce'}), items_add=frozenset({'', 'ground beef'}), confidence=0.3773584905660377, lift=3.840659481324083), OrderedStatistic(items_base=frozenset({'', 'tomato sauce'}), items_add=frozenset({'ground beef'}), confidence=0.3773584905660377, lift=3.840659481324083)])\n",
            "RelationRecord(items=frozenset({'', 'light mayo', 'pancakes'}), support=0.005465937874950006, ordered_statistics=[OrderedStatistic(items_base=frozenset({'light mayo'}), items_add=frozenset({'', 'pancakes'}), confidence=0.20098039215686272, lift=2.1143813766740918), OrderedStatistic(items_base=frozenset({'', 'light mayo'}), items_add=frozenset({'pancakes'}), confidence=0.20098039215686272, lift=2.1143813766740918)])\n",
            "RelationRecord(items=frozenset({'', 'milk', 'meatballs'}), support=0.005465937874950006, ordered_statistics=[OrderedStatistic(items_base=frozenset({'meatballs'}), items_add=frozenset({'', 'milk'}), confidence=0.2611464968152866, lift=2.0152879347854578), OrderedStatistic(items_base=frozenset({'', 'meatballs'}), items_add=frozenset({'milk'}), confidence=0.2611464968152866, lift=2.0152879347854578)])\n",
            "RelationRecord(items=frozenset({'', 'milk', 'olive oil'}), support=0.017064391414478068, ordered_statistics=[OrderedStatistic(items_base=frozenset({'', 'olive oil'}), items_add=frozenset({'milk'}), confidence=0.2596348884381338, lift=2.0036227347473683)])\n",
            "RelationRecord(items=frozenset({'', 'milk', 'soup'}), support=0.015197973603519531, ordered_statistics=[OrderedStatistic(items_base=frozenset({'soup'}), items_add=frozenset({'', 'milk'}), confidence=0.3007915567282322, lift=2.3212319619531585), OrderedStatistic(items_base=frozenset({'', 'soup'}), items_add=frozenset({'milk'}), confidence=0.3007915567282322, lift=2.3212319619531585)])\n",
            "RelationRecord(items=frozenset({'', 'milk', 'whole wheat pasta'}), support=0.009865351286495135, ordered_statistics=[OrderedStatistic(items_base=frozenset({'whole wheat pasta'}), items_add=frozenset({'', 'milk'}), confidence=0.33484162895927605, lift=2.5839990317114503), OrderedStatistic(items_base=frozenset({'', 'whole wheat pasta'}), items_add=frozenset({'milk'}), confidence=0.33484162895927605, lift=2.5839990317114503)])\n",
            "RelationRecord(items=frozenset({'', 'nonfat milk', 'mineral water'}), support=0.005065991201173177, ordered_statistics=[OrderedStatistic(items_base=frozenset({'nonfat milk'}), items_add=frozenset({'', 'mineral water'}), confidence=0.4871794871794871, lift=2.0449542995709753), OrderedStatistic(items_base=frozenset({'', 'nonfat milk'}), items_add=frozenset({'mineral water'}), confidence=0.4871794871794871, lift=2.0438105891126024)])\n",
            "RelationRecord(items=frozenset({'', 'olive oil', 'spaghetti'}), support=0.022930275963204905, ordered_statistics=[OrderedStatistic(items_base=frozenset({'', 'olive oil'}), items_add=frozenset({'spaghetti'}), confidence=0.34888438133874233, lift=2.00381450568293)])\n",
            "RelationRecord(items=frozenset({'', 'olive oil', 'whole wheat pasta'}), support=0.007998933475536596, ordered_statistics=[OrderedStatistic(items_base=frozenset({'whole wheat pasta'}), items_add=frozenset({'', 'olive oil'}), confidence=0.2714932126696833, lift=4.13077198425009), OrderedStatistic(items_base=frozenset({'', 'whole wheat pasta'}), items_add=frozenset({'olive oil'}), confidence=0.2714932126696833, lift=4.122410097642296)])\n",
            "RelationRecord(items=frozenset({'', 'pasta', 'shrimp'}), support=0.005065991201173177, ordered_statistics=[OrderedStatistic(items_base=frozenset({'pasta'}), items_add=frozenset({'', 'shrimp'}), confidence=0.3220338983050847, lift=4.515095833993347), OrderedStatistic(items_base=frozenset({'', 'pasta'}), items_add=frozenset({'shrimp'}), confidence=0.3220338983050847, lift=4.506672147735896)])\n",
            "RelationRecord(items=frozenset({'', 'pepper', 'spaghetti'}), support=0.009865351286495135, ordered_statistics=[OrderedStatistic(items_base=frozenset({'pepper'}), items_add=frozenset({'', 'spaghetti'}), confidence=0.37185929648241206, lift=2.1357707373005916), OrderedStatistic(items_base=frozenset({'', 'pepper'}), items_add=frozenset({'spaghetti'}), confidence=0.37185929648241206, lift=2.1357707373005916)])\n",
            "RelationRecord(items=frozenset({'', 'red wine', 'spaghetti'}), support=0.010265297960271964, ordered_statistics=[OrderedStatistic(items_base=frozenset({'red wine'}), items_add=frozenset({'', 'spaghetti'}), confidence=0.36492890995260663, lift=2.095966120638976), OrderedStatistic(items_base=frozenset({'', 'red wine'}), items_add=frozenset({'spaghetti'}), confidence=0.36492890995260663, lift=2.095966120638976)])\n",
            "RelationRecord(items=frozenset({'', 'tomato sauce', 'spaghetti'}), support=0.006265831222503666, ordered_statistics=[OrderedStatistic(items_base=frozenset({'tomato sauce'}), items_add=frozenset({'', 'spaghetti'}), confidence=0.4433962264150943, lift=2.546642491837383), OrderedStatistic(items_base=frozenset({'', 'tomato sauce'}), items_add=frozenset({'spaghetti'}), confidence=0.4433962264150943, lift=2.546642491837383)])\n",
            "RelationRecord(items=frozenset({'milk', 'burgers', 'chocolate'}), support=0.005465937874950006, ordered_statistics=[OrderedStatistic(items_base=frozenset({'burgers', 'chocolate'}), items_add=frozenset({'milk'}), confidence=0.3203125, lift=2.4718766075102883)])\n",
            "RelationRecord(items=frozenset({'burgers', 'spaghetti', 'chocolate'}), support=0.006399146780429276, ordered_statistics=[OrderedStatistic(items_base=frozenset({'burgers', 'chocolate'}), items_add=frozenset({'spaghetti'}), confidence=0.37500000000000006, lift=2.153809341500766)])\n",
            "RelationRecord(items=frozenset({'eggs', 'burgers', 'french fries'}), support=0.009065457938941474, ordered_statistics=[OrderedStatistic(items_base=frozenset({'burgers', 'french fries'}), items_add=frozenset({'eggs'}), confidence=0.4121212121212121, lift=2.293264994155202), OrderedStatistic(items_base=frozenset({'eggs', 'french fries'}), items_add=frozenset({'burgers'}), confidence=0.2490842490842491, lift=2.856851609145187)])\n",
            "RelationRecord(items=frozenset({'green tea', 'eggs', 'burgers'}), support=0.005999200106652446, ordered_statistics=[OrderedStatistic(items_base=frozenset({'green tea', 'eggs'}), items_add=frozenset({'burgers'}), confidence=0.23560209424083767, lift=2.7022191267592097)])\n",
            "RelationRecord(items=frozenset({'milk', 'burgers', 'french fries'}), support=0.005599253432875617, ordered_statistics=[OrderedStatistic(items_base=frozenset({'milk', 'french fries'}), items_add=frozenset({'burgers'}), confidence=0.23595505617977527, lift=2.7062673951139056)])\n",
            "RelationRecord(items=frozenset({'burgers', 'french fries', 'spaghetti'}), support=0.005599253432875617, ordered_statistics=[OrderedStatistic(items_base=frozenset({'french fries', 'spaghetti'}), items_add=frozenset({'burgers'}), confidence=0.20289855072463767, lift=2.3271284846873197)])\n",
            "RelationRecord(items=frozenset({'burgers', 'ground beef', 'mineral water'}), support=0.005332622317024397, ordered_statistics=[OrderedStatistic(items_base=frozenset({'burgers', 'mineral water'}), items_add=frozenset({'ground beef'}), confidence=0.2185792349726776, lift=2.2246442897287038)])\n",
            "RelationRecord(items=frozenset({'burgers', 'ground beef', 'spaghetti'}), support=0.005465937874950006, ordered_statistics=[OrderedStatistic(items_base=frozenset({'burgers', 'ground beef'}), items_add=frozenset({'spaghetti'}), confidence=0.45555555555555555, lift=2.616479496341671), OrderedStatistic(items_base=frozenset({'burgers', 'spaghetti'}), items_add=frozenset({'ground beef'}), confidence=0.2546583850931677, lift=2.591848774197898)])\n",
            "RelationRecord(items=frozenset({'milk', 'burgers', 'mineral water'}), support=0.006932409012131715, ordered_statistics=[OrderedStatistic(items_base=frozenset({'burgers', 'mineral water'}), items_add=frozenset({'milk'}), confidence=0.28415300546448086, lift=2.192830960894106)])\n",
            "RelationRecord(items=frozenset({'milk', 'burgers', 'spaghetti'}), support=0.006399146780429276, ordered_statistics=[OrderedStatistic(items_base=frozenset({'milk', 'burgers'}), items_add=frozenset({'spaghetti'}), confidence=0.3582089552238806, lift=2.0573701172544627), OrderedStatistic(items_base=frozenset({'burgers', 'spaghetti'}), items_add=frozenset({'milk'}), confidence=0.2981366459627329, lift=2.300743807990185)])\n",
            "RelationRecord(items=frozenset({'cake', 'spaghetti', 'chocolate'}), support=0.005199306759098787, ordered_statistics=[OrderedStatistic(items_base=frozenset({'cake', 'chocolate'}), items_add=frozenset({'spaghetti'}), confidence=0.3823529411764706, lift=2.1960408972164673)])\n",
            "RelationRecord(items=frozenset({'cake', 'milk', 'mineral water'}), support=0.006399146780429276, ordered_statistics=[OrderedStatistic(items_base=frozenset({'cake', 'milk'}), items_add=frozenset({'mineral water'}), confidence=0.48, lift=2.013691275167785)])\n",
            "RelationRecord(items=frozenset({'mineral water', 'chicken', 'chocolate'}), support=0.007598986801759766, ordered_statistics=[OrderedStatistic(items_base=frozenset({'chicken', 'chocolate'}), items_add=frozenset({'mineral water'}), confidence=0.5181818181818182, lift=2.1738712629652226), OrderedStatistic(items_base=frozenset({'chicken', 'mineral water'}), items_add=frozenset({'chocolate'}), confidence=0.3333333333333333, lift=2.0344453485218335)])\n",
            "RelationRecord(items=frozenset({'chicken', 'milk', 'mineral water'}), support=0.006665777896280496, ordered_statistics=[OrderedStatistic(items_base=frozenset({'chicken', 'mineral water'}), items_add=frozenset({'milk'}), confidence=0.29239766081871343, lift=2.256455610906553)])\n",
            "RelationRecord(items=frozenset({'chicken', 'milk', 'spaghetti'}), support=0.005465937874950006, ordered_statistics=[OrderedStatistic(items_base=frozenset({'chicken', 'milk'}), items_add=frozenset({'spaghetti'}), confidence=0.3693693693693693, lift=2.121469861898652), OrderedStatistic(items_base=frozenset({'chicken', 'spaghetti'}), items_add=frozenset({'milk'}), confidence=0.3178294573643411, lift=2.452714773343542)])\n",
            "RelationRecord(items=frozenset({'eggs', 'milk', 'chocolate'}), support=0.009198773496867084, ordered_statistics=[OrderedStatistic(items_base=frozenset({'eggs', 'chocolate'}), items_add=frozenset({'milk'}), confidence=0.27710843373493976, lift=2.138467450047102)])\n",
            "RelationRecord(items=frozenset({'mineral water', 'escalope', 'chocolate'}), support=0.005599253432875617, ordered_statistics=[OrderedStatistic(items_base=frozenset({'escalope', 'mineral water'}), items_add=frozenset({'chocolate'}), confidence=0.32812500000000006, lift=2.00265713995118)])\n",
            "RelationRecord(items=frozenset({'ground beef', 'frozen vegetables', 'chocolate'}), support=0.005732568990801226, ordered_statistics=[OrderedStatistic(items_base=frozenset({'frozen vegetables', 'chocolate'}), items_add=frozenset({'ground beef'}), confidence=0.25, lift=2.544436906377205), OrderedStatistic(items_base=frozenset({'ground beef', 'chocolate'}), items_add=frozenset({'frozen vegetables'}), confidence=0.24855491329479767, lift=2.6075669994745136), OrderedStatistic(items_base=frozenset({'ground beef', 'frozen vegetables'}), items_add=frozenset({'chocolate'}), confidence=0.3385826771653543, lift=2.066483857947374)])\n",
            "RelationRecord(items=frozenset({'milk', 'frozen vegetables', 'chocolate'}), support=0.007998933475536596, ordered_statistics=[OrderedStatistic(items_base=frozenset({'frozen vegetables', 'chocolate'}), items_add=frozenset({'milk'}), confidence=0.34883720930232565, lift=2.6920040195234), OrderedStatistic(items_base=frozenset({'milk', 'chocolate'}), items_add=frozenset({'frozen vegetables'}), confidence=0.2489626556016598, lift=2.611844586948322), OrderedStatistic(items_base=frozenset({'milk', 'frozen vegetables'}), items_add=frozenset({'chocolate'}), confidence=0.33898305084745767, lift=2.068927473073051)])\n",
            "RelationRecord(items=frozenset({'shrimp', 'frozen vegetables', 'chocolate'}), support=0.005332622317024397, ordered_statistics=[OrderedStatistic(items_base=frozenset({'frozen vegetables', 'chocolate'}), items_add=frozenset({'shrimp'}), confidence=0.23255813953488375, lift=3.2545123221103784), OrderedStatistic(items_base=frozenset({'shrimp', 'chocolate'}), items_add=frozenset({'frozen vegetables'}), confidence=0.29629629629629634, lift=3.1084175084175087)])\n",
            "RelationRecord(items=frozenset({'frozen vegetables', 'spaghetti', 'chocolate'}), support=0.007865617917610986, ordered_statistics=[OrderedStatistic(items_base=frozenset({'spaghetti', 'chocolate'}), items_add=frozenset({'frozen vegetables'}), confidence=0.20068027210884354, lift=2.1053184910327767)])\n",
            "RelationRecord(items=frozenset({'milk', 'ground beef', 'chocolate'}), support=0.0061325156645780565, ordered_statistics=[OrderedStatistic(items_base=frozenset({'ground beef', 'chocolate'}), items_add=frozenset({'milk'}), confidence=0.26589595375722547, lift=2.051939865363116)])\n",
            "RelationRecord(items=frozenset({'mineral water', 'ground beef', 'chocolate'}), support=0.010931875749900012, ordered_statistics=[OrderedStatistic(items_base=frozenset({'mineral water', 'chocolate'}), items_add=frozenset({'ground beef'}), confidence=0.20759493670886073, lift=2.112848874156261)])\n",
            "RelationRecord(items=frozenset({'ground beef', 'spaghetti', 'chocolate'}), support=0.009198773496867084, ordered_statistics=[OrderedStatistic(items_base=frozenset({'ground beef', 'chocolate'}), items_add=frozenset({'spaghetti'}), confidence=0.3988439306358382, lift=2.290756756278271), OrderedStatistic(items_base=frozenset({'spaghetti', 'chocolate'}), items_add=frozenset({'ground beef'}), confidence=0.2346938775510204, lift=2.3886550549663554)])\n",
            "RelationRecord(items=frozenset({'mineral water', 'milk', 'chocolate'}), support=0.013998133582189041, ordered_statistics=[OrderedStatistic(items_base=frozenset({'mineral water', 'chocolate'}), items_add=frozenset({'milk'}), confidence=0.26582278481012656, lift=2.0513752148773245)])\n",
            "RelationRecord(items=frozenset({'milk', 'olive oil', 'chocolate'}), support=0.005199306759098787, ordered_statistics=[OrderedStatistic(items_base=frozenset({'olive oil', 'chocolate'}), items_add=frozenset({'milk'}), confidence=0.3170731707317073, lift=2.4468784502659844)])\n",
            "RelationRecord(items=frozenset({'shrimp', 'milk', 'chocolate'}), support=0.005465937874950006, ordered_statistics=[OrderedStatistic(items_base=frozenset({'shrimp', 'chocolate'}), items_add=frozenset({'milk'}), confidence=0.3037037037037037, lift=2.3437052278616064)])\n",
            "RelationRecord(items=frozenset({'milk', 'spaghetti', 'chocolate'}), support=0.010931875749900012, ordered_statistics=[OrderedStatistic(items_base=frozenset({'spaghetti', 'chocolate'}), items_add=frozenset({'milk'}), confidence=0.2789115646258503, lift=2.152382352117802)])\n",
            "RelationRecord(items=frozenset({'mineral water', 'olive oil', 'chocolate'}), support=0.008265564591387815, ordered_statistics=[OrderedStatistic(items_base=frozenset({'olive oil', 'chocolate'}), items_add=frozenset({'mineral water'}), confidence=0.5040650406504065, lift=2.1146486968225386)])\n",
            "RelationRecord(items=frozenset({'mineral water', 'soup', 'chocolate'}), support=0.005599253432875617, ordered_statistics=[OrderedStatistic(items_base=frozenset({'soup', 'chocolate'}), items_add=frozenset({'mineral water'}), confidence=0.5526315789473685, lift=2.3183945602260687)])\n",
            "RelationRecord(items=frozenset({'olive oil', 'spaghetti', 'chocolate'}), support=0.007065724570057326, ordered_statistics=[OrderedStatistic(items_base=frozenset({'olive oil', 'chocolate'}), items_add=frozenset({'spaghetti'}), confidence=0.43089430894308944, lift=2.4748378341363813)])\n",
            "RelationRecord(items=frozenset({'shrimp', 'spaghetti', 'chocolate'}), support=0.006399146780429276, ordered_statistics=[OrderedStatistic(items_base=frozenset({'shrimp', 'chocolate'}), items_add=frozenset({'spaghetti'}), confidence=0.3555555555555556, lift=2.0421303386081338)])\n",
            "RelationRecord(items=frozenset({'cooking oil', 'eggs', 'mineral water'}), support=0.006399146780429276, ordered_statistics=[OrderedStatistic(items_base=frozenset({'cooking oil', 'eggs'}), items_add=frozenset({'mineral water'}), confidence=0.5454545454545454, lift=2.2882855399633923)])\n",
            "RelationRecord(items=frozenset({'cooking oil', 'spaghetti', 'mineral water'}), support=0.007598986801759766, ordered_statistics=[OrderedStatistic(items_base=frozenset({'cooking oil', 'mineral water'}), items_add=frozenset({'spaghetti'}), confidence=0.3774834437086093, lift=2.16807297952395), OrderedStatistic(items_base=frozenset({'cooking oil', 'spaghetti'}), items_add=frozenset({'mineral water'}), confidence=0.4789915966386554, lift=2.0094608313123907)])\n",
            "RelationRecord(items=frozenset({'eggs', 'milk', 'frozen vegetables'}), support=0.007332355685908546, ordered_statistics=[OrderedStatistic(items_base=frozenset({'eggs', 'frozen vegetables'}), items_add=frozenset({'milk'}), confidence=0.3374233128834356, lift=2.6039220884142495), OrderedStatistic(items_base=frozenset({'eggs', 'milk'}), items_add=frozenset({'frozen vegetables'}), confidence=0.2380952380952381, lift=2.497835497835498)])\n",
            "RelationRecord(items=frozenset({'eggs', 'milk', 'ground beef'}), support=0.005865884548726837, ordered_statistics=[OrderedStatistic(items_base=frozenset({'eggs', 'ground beef'}), items_add=frozenset({'milk'}), confidence=0.29333333333333333, lift=2.2636762688614542)])\n",
            "RelationRecord(items=frozenset({'eggs', 'ground beef', 'mineral water'}), support=0.010131982402346354, ordered_statistics=[OrderedStatistic(items_base=frozenset({'eggs', 'ground beef'}), items_add=frozenset({'mineral water'}), confidence=0.5066666666666667, lift=2.125563012677107)])\n",
            "RelationRecord(items=frozenset({'eggs', 'ground beef', 'spaghetti'}), support=0.008932142381015865, ordered_statistics=[OrderedStatistic(items_base=frozenset({'eggs', 'ground beef'}), items_add=frozenset({'spaghetti'}), confidence=0.4466666666666667, lift=2.565426237876468), OrderedStatistic(items_base=frozenset({'eggs', 'spaghetti'}), items_add=frozenset({'ground beef'}), confidence=0.2445255474452555, lift=2.4887193098871934)])\n",
            "RelationRecord(items=frozenset({'eggs', 'olive oil', 'mineral water'}), support=0.005865884548726837, ordered_statistics=[OrderedStatistic(items_base=frozenset({'eggs', 'olive oil'}), items_add=frozenset({'mineral water'}), confidence=0.48888888888888893, lift=2.050981854337559)])\n",
            "RelationRecord(items=frozenset({'eggs', 'olive oil', 'spaghetti'}), support=0.005065991201173177, ordered_statistics=[OrderedStatistic(items_base=frozenset({'eggs', 'olive oil'}), items_add=frozenset({'spaghetti'}), confidence=0.4222222222222222, lift=2.4250297770971585)])\n",
            "RelationRecord(items=frozenset({'milk', 'frozen vegetables', 'french fries'}), support=0.005732568990801226, ordered_statistics=[OrderedStatistic(items_base=frozenset({'frozen vegetables', 'french fries'}), items_add=frozenset({'milk'}), confidence=0.3006993006993007, lift=2.3205200149644596), OrderedStatistic(items_base=frozenset({'milk', 'french fries'}), items_add=frozenset({'frozen vegetables'}), confidence=0.24157303370786515, lift=2.534320735444331)])\n",
            "RelationRecord(items=frozenset({'ground beef', 'french fries', 'spaghetti'}), support=0.005599253432875617, ordered_statistics=[OrderedStatistic(items_base=frozenset({'ground beef', 'french fries'}), items_add=frozenset({'spaghetti'}), confidence=0.40384615384615385, lift=2.319486983154671), OrderedStatistic(items_base=frozenset({'french fries', 'spaghetti'}), items_add=frozenset({'ground beef'}), confidence=0.20289855072463767, lift=2.065050242856862)])\n",
            "RelationRecord(items=frozenset({'pancakes', 'french fries', 'spaghetti'}), support=0.005732568990801226, ordered_statistics=[OrderedStatistic(items_base=frozenset({'french fries', 'spaghetti'}), items_add=frozenset({'pancakes'}), confidence=0.2077294685990338, lift=2.185383932624618)])\n",
            "RelationRecord(items=frozenset({'milk', 'frozen smoothie', 'mineral water'}), support=0.0061325156645780565, ordered_statistics=[OrderedStatistic(items_base=frozenset({'frozen smoothie', 'mineral water'}), items_add=frozenset({'milk'}), confidence=0.3026315789473684, lift=2.3354315572882824)])\n",
            "RelationRecord(items=frozenset({'milk', 'frozen smoothie', 'spaghetti'}), support=0.005599253432875617, ordered_statistics=[OrderedStatistic(items_base=frozenset({'milk', 'frozen smoothie'}), items_add=frozenset({'spaghetti'}), confidence=0.3925233644859813, lift=2.254454637832577), OrderedStatistic(items_base=frozenset({'frozen smoothie', 'spaghetti'}), items_add=frozenset({'milk'}), confidence=0.358974358974359, lift=2.7702331961591224)])\n",
            "RelationRecord(items=frozenset({'ground beef', 'milk', 'frozen vegetables'}), support=0.005732568990801226, ordered_statistics=[OrderedStatistic(items_base=frozenset({'ground beef', 'frozen vegetables'}), items_add=frozenset({'milk'}), confidence=0.3385826771653543, lift=2.612868993227698), OrderedStatistic(items_base=frozenset({'milk', 'frozen vegetables'}), items_add=frozenset({'ground beef'}), confidence=0.24293785310734461, lift=2.4725601576094873), OrderedStatistic(items_base=frozenset({'milk', 'ground beef'}), items_add=frozenset({'frozen vegetables'}), confidence=0.2606060606060606, lift=2.733994490358127)])\n",
            "RelationRecord(items=frozenset({'ground beef', 'frozen vegetables', 'mineral water'}), support=0.009198773496867084, ordered_statistics=[OrderedStatistic(items_base=frozenset({'ground beef', 'frozen vegetables'}), items_add=frozenset({'mineral water'}), confidence=0.5433070866141732, lift=2.2792765417745597), OrderedStatistic(items_base=frozenset({'frozen vegetables', 'mineral water'}), items_add=frozenset({'ground beef'}), confidence=0.25746268656716415, lift=2.6203902468660765), OrderedStatistic(items_base=frozenset({'ground beef', 'mineral water'}), items_add=frozenset({'frozen vegetables'}), confidence=0.2247557003257329, lift=2.3578916197808706)])\n",
            "RelationRecord(items=frozenset({'ground beef', 'frozen vegetables', 'spaghetti'}), support=0.008665511265164644, ordered_statistics=[OrderedStatistic(items_base=frozenset({'ground beef', 'frozen vegetables'}), items_add=frozenset({'spaghetti'}), confidence=0.5118110236220472, lift=2.939582303360625), OrderedStatistic(items_base=frozenset({'frozen vegetables', 'spaghetti'}), items_add=frozenset({'ground beef'}), confidence=0.31100478468899523, lift=3.165328208890303), OrderedStatistic(items_base=frozenset({'ground beef', 'spaghetti'}), items_add=frozenset({'frozen vegetables'}), confidence=0.22108843537414966, lift=2.3194186765615337)])\n",
            "RelationRecord(items=frozenset({'milk', 'frozen vegetables', 'mineral water'}), support=0.011065191307825623, ordered_statistics=[OrderedStatistic(items_base=frozenset({'frozen vegetables', 'mineral water'}), items_add=frozenset({'milk'}), confidence=0.3097014925373134, lift=2.3899906332534853), OrderedStatistic(items_base=frozenset({'milk', 'mineral water'}), items_add=frozenset({'frozen vegetables'}), confidence=0.23055555555555557, lift=2.418737373737374)])\n",
            "RelationRecord(items=frozenset({'milk', 'frozen vegetables', 'spaghetti'}), support=0.008265564591387815, ordered_statistics=[OrderedStatistic(items_base=frozenset({'milk', 'frozen vegetables'}), items_add=frozenset({'spaghetti'}), confidence=0.3502824858757062, lift=2.011844507315216), OrderedStatistic(items_base=frozenset({'frozen vegetables', 'spaghetti'}), items_add=frozenset({'milk'}), confidence=0.2966507177033493, lift=2.2892767834288303), OrderedStatistic(items_base=frozenset({'milk', 'spaghetti'}), items_add=frozenset({'frozen vegetables'}), confidence=0.23308270676691728, lift=2.4452494873547503)])\n",
            "RelationRecord(items=frozenset({'olive oil', 'frozen vegetables', 'mineral water'}), support=0.006532462338354886, ordered_statistics=[OrderedStatistic(items_base=frozenset({'olive oil', 'frozen vegetables'}), items_add=frozenset({'mineral water'}), confidence=0.5764705882352941, lift=2.4184037373338594), OrderedStatistic(items_base=frozenset({'olive oil', 'mineral water'}), items_add=frozenset({'frozen vegetables'}), confidence=0.23671497584541062, lift=2.4833552920509443)])\n",
            "RelationRecord(items=frozenset({'shrimp', 'frozen vegetables', 'mineral water'}), support=0.007199040127982935, ordered_statistics=[OrderedStatistic(items_base=frozenset({'frozen vegetables', 'mineral water'}), items_add=frozenset({'shrimp'}), confidence=0.2014925373134328, lift=2.8197677656493645), OrderedStatistic(items_base=frozenset({'shrimp', 'mineral water'}), items_add=frozenset({'frozen vegetables'}), confidence=0.30508474576271183, lift=3.200616332819722)])\n",
            "RelationRecord(items=frozenset({'frozen vegetables', 'soup', 'mineral water'}), support=0.005065991201173177, ordered_statistics=[OrderedStatistic(items_base=frozenset({'frozen vegetables', 'soup'}), items_add=frozenset({'mineral water'}), confidence=0.6333333333333333, lift=2.6569537658463833), OrderedStatistic(items_base=frozenset({'soup', 'mineral water'}), items_add=frozenset({'frozen vegetables'}), confidence=0.21965317919075145, lift=2.3043615344193378)])\n",
            "RelationRecord(items=frozenset({'frozen vegetables', 'spaghetti', 'mineral water'}), support=0.011998400213304892, ordered_statistics=[OrderedStatistic(items_base=frozenset({'spaghetti', 'mineral water'}), items_add=frozenset({'frozen vegetables'}), confidence=0.20089285714285715, lift=2.1075487012987013)])\n",
            "RelationRecord(items=frozenset({'frozen vegetables', 'tomatoes', 'mineral water'}), support=0.005865884548726837, ordered_statistics=[OrderedStatistic(items_base=frozenset({'tomatoes', 'mineral water'}), items_add=frozenset({'frozen vegetables'}), confidence=0.24043715846994534, lift=2.5224043715846993)])\n",
            "RelationRecord(items=frozenset({'olive oil', 'frozen vegetables', 'spaghetti'}), support=0.005732568990801226, ordered_statistics=[OrderedStatistic(items_base=frozenset({'olive oil', 'frozen vegetables'}), items_add=frozenset({'spaghetti'}), confidence=0.5058823529411764, lift=2.9055310332402486), OrderedStatistic(items_base=frozenset({'frozen vegetables', 'spaghetti'}), items_add=frozenset({'olive oil'}), confidence=0.20574162679425836, lift=3.1240241752707125), OrderedStatistic(items_base=frozenset({'olive oil', 'spaghetti'}), items_add=frozenset({'frozen vegetables'}), confidence=0.25, lift=2.6227272727272726)])\n",
            "RelationRecord(items=frozenset({'shrimp', 'frozen vegetables', 'spaghetti'}), support=0.005999200106652446, ordered_statistics=[OrderedStatistic(items_base=frozenset({'shrimp', 'frozen vegetables'}), items_add=frozenset({'spaghetti'}), confidence=0.36, lift=2.067656967840735), OrderedStatistic(items_base=frozenset({'frozen vegetables', 'spaghetti'}), items_add=frozenset({'shrimp'}), confidence=0.21531100478468898, lift=3.0131489680782684), OrderedStatistic(items_base=frozenset({'shrimp', 'spaghetti'}), items_add=frozenset({'frozen vegetables'}), confidence=0.2830188679245283, lift=2.969125214408233)])\n",
            "RelationRecord(items=frozenset({'frozen vegetables', 'tomatoes', 'spaghetti'}), support=0.006665777896280496, ordered_statistics=[OrderedStatistic(items_base=frozenset({'frozen vegetables', 'spaghetti'}), items_add=frozenset({'tomatoes'}), confidence=0.23923444976076558, lift=3.4980460188216425), OrderedStatistic(items_base=frozenset({'frozen vegetables', 'tomatoes'}), items_add=frozenset({'spaghetti'}), confidence=0.41322314049586784, lift=2.373343626998089), OrderedStatistic(items_base=frozenset({'tomatoes', 'spaghetti'}), items_add=frozenset({'frozen vegetables'}), confidence=0.3184713375796179, lift=3.341053850607991)])\n",
            "RelationRecord(items=frozenset({'ground beef', 'grated cheese', 'mineral water'}), support=0.005065991201173177, ordered_statistics=[OrderedStatistic(items_base=frozenset({'grated cheese', 'mineral water'}), items_add=frozenset({'ground beef'}), confidence=0.2900763358778626, lift=2.9523237386972148)])\n",
            "RelationRecord(items=frozenset({'ground beef', 'grated cheese', 'spaghetti'}), support=0.005332622317024397, ordered_statistics=[OrderedStatistic(items_base=frozenset({'ground beef', 'grated cheese'}), items_add=frozenset({'spaghetti'}), confidence=0.47058823529411764, lift=2.7028195658048824), OrderedStatistic(items_base=frozenset({'grated cheese', 'spaghetti'}), items_add=frozenset({'ground beef'}), confidence=0.3225806451612903, lift=3.283144395325426)])\n",
            "RelationRecord(items=frozenset({'grated cheese', 'spaghetti', 'mineral water'}), support=0.006265831222503666, ordered_statistics=[OrderedStatistic(items_base=frozenset({'grated cheese', 'mineral water'}), items_add=frozenset({'spaghetti'}), confidence=0.35877862595419846, lift=2.060642016295898)])\n",
            "RelationRecord(items=frozenset({'green tea', 'ground beef', 'spaghetti'}), support=0.006399146780429276, ordered_statistics=[OrderedStatistic(items_base=frozenset({'green tea', 'ground beef'}), items_add=frozenset({'spaghetti'}), confidence=0.43243243243243246, lift=2.483672033442325), OrderedStatistic(items_base=frozenset({'green tea', 'spaghetti'}), items_add=frozenset({'ground beef'}), confidence=0.24120603015075376, lift=2.454934100625243)])\n",
            "RelationRecord(items=frozenset({'herb & pepper', 'ground beef', 'mineral water'}), support=0.006665777896280496, ordered_statistics=[OrderedStatistic(items_base=frozenset({'herb & pepper', 'mineral water'}), items_add=frozenset({'ground beef'}), confidence=0.39062500000000006, lift=3.975682666214383)])\n",
            "RelationRecord(items=frozenset({'herb & pepper', 'ground beef', 'spaghetti'}), support=0.006399146780429276, ordered_statistics=[OrderedStatistic(items_base=frozenset({'herb & pepper', 'ground beef'}), items_add=frozenset({'spaghetti'}), confidence=0.39999999999999997, lift=2.29739663093415), OrderedStatistic(items_base=frozenset({'herb & pepper', 'spaghetti'}), items_add=frozenset({'ground beef'}), confidence=0.3934426229508197, lift=4.004359721511667)])\n",
            "RelationRecord(items=frozenset({'milk', 'ground beef', 'mineral water'}), support=0.011065191307825623, ordered_statistics=[OrderedStatistic(items_base=frozenset({'milk', 'ground beef'}), items_add=frozenset({'mineral water'}), confidence=0.503030303030303, lift=2.1103077757440176), OrderedStatistic(items_base=frozenset({'ground beef', 'mineral water'}), items_add=frozenset({'milk'}), confidence=0.2703583061889251, lift=2.0863761879867564), OrderedStatistic(items_base=frozenset({'milk', 'mineral water'}), items_add=frozenset({'ground beef'}), confidence=0.23055555555555557, lift=2.3465362581034226)])\n",
            "RelationRecord(items=frozenset({'milk', 'ground beef', 'spaghetti'}), support=0.009732035728569524, ordered_statistics=[OrderedStatistic(items_base=frozenset({'milk', 'ground beef'}), items_add=frozenset({'spaghetti'}), confidence=0.44242424242424244, lift=2.5410599099726205), OrderedStatistic(items_base=frozenset({'milk', 'spaghetti'}), items_add=frozenset({'ground beef'}), confidence=0.2744360902255639, lift=2.7931412656471575)])\n",
            "RelationRecord(items=frozenset({'olive oil', 'ground beef', 'mineral water'}), support=0.006665777896280496, ordered_statistics=[OrderedStatistic(items_base=frozenset({'olive oil', 'mineral water'}), items_add=frozenset({'ground beef'}), confidence=0.24154589371980675, lift=2.4583931462581687)])\n",
            "RelationRecord(items=frozenset({'pancakes', 'ground beef', 'mineral water'}), support=0.007465671243834155, ordered_statistics=[OrderedStatistic(items_base=frozenset({'pancakes', 'ground beef'}), items_add=frozenset({'mineral water'}), confidence=0.5137614678899083, lift=2.1553270529318804), OrderedStatistic(items_base=frozenset({'pancakes', 'mineral water'}), items_add=frozenset({'ground beef'}), confidence=0.22134387351778653, lift=2.2527820831165766)])\n",
            "RelationRecord(items=frozenset({'shrimp', 'ground beef', 'mineral water'}), support=0.005065991201173177, ordered_statistics=[OrderedStatistic(items_base=frozenset({'shrimp', 'mineral water'}), items_add=frozenset({'ground beef'}), confidence=0.21468926553672316, lift=2.1850531625386167)])\n",
            "RelationRecord(items=frozenset({'ground beef', 'soup', 'mineral water'}), support=0.005065991201173177, ordered_statistics=[OrderedStatistic(items_base=frozenset({'ground beef', 'soup'}), items_add=frozenset({'mineral water'}), confidence=0.5205479452054794, lift=2.1837976157641505), OrderedStatistic(items_base=frozenset({'soup', 'mineral water'}), items_add=frozenset({'ground beef'}), confidence=0.21965317919075145, lift=2.235574622944134)])\n",
            "RelationRecord(items=frozenset({'ground beef', 'spaghetti', 'mineral water'}), support=0.017064391414478068, ordered_statistics=[OrderedStatistic(items_base=frozenset({'ground beef', 'mineral water'}), items_add=frozenset({'spaghetti'}), confidence=0.41693811074918563, lift=2.3946805273580716), OrderedStatistic(items_base=frozenset({'spaghetti', 'mineral water'}), items_add=frozenset({'ground beef'}), confidence=0.2857142857142857, lift=2.90792789300252)])\n",
            "RelationRecord(items=frozenset({'ground beef', 'tomatoes', 'mineral water'}), support=0.005465937874950006, ordered_statistics=[OrderedStatistic(items_base=frozenset({'tomatoes', 'mineral water'}), items_add=frozenset({'ground beef'}), confidence=0.2240437158469945, lift=2.2802603969719213)])\n",
            "RelationRecord(items=frozenset({'olive oil', 'ground beef', 'spaghetti'}), support=0.0061325156645780565, ordered_statistics=[OrderedStatistic(items_base=frozenset({'olive oil', 'ground beef'}), items_add=frozenset({'spaghetti'}), confidence=0.4339622641509434, lift=2.4924586090323326), OrderedStatistic(items_base=frozenset({'olive oil', 'spaghetti'}), items_add=frozenset({'ground beef'}), confidence=0.2674418604651163, lift=2.7219557603104985)])\n",
            "RelationRecord(items=frozenset({'pancakes', 'ground beef', 'spaghetti'}), support=0.006399146780429276, ordered_statistics=[OrderedStatistic(items_base=frozenset({'pancakes', 'ground beef'}), items_add=frozenset({'spaghetti'}), confidence=0.44036697247706424, lift=2.5292439973586975), OrderedStatistic(items_base=frozenset({'pancakes', 'spaghetti'}), items_add=frozenset({'ground beef'}), confidence=0.253968253968254, lift=2.584824793780018)])\n",
            "RelationRecord(items=frozenset({'shrimp', 'ground beef', 'spaghetti'}), support=0.005999200106652446, ordered_statistics=[OrderedStatistic(items_base=frozenset({'shrimp', 'ground beef'}), items_add=frozenset({'spaghetti'}), confidence=0.5232558139534884, lift=3.005315360233627), OrderedStatistic(items_base=frozenset({'shrimp', 'spaghetti'}), items_add=frozenset({'ground beef'}), confidence=0.2830188679245283, lift=2.880494610993062)])\n",
            "RelationRecord(items=frozenset({'ground beef', 'tomatoes', 'spaghetti'}), support=0.005599253432875617, ordered_statistics=[OrderedStatistic(items_base=frozenset({'ground beef', 'tomatoes'}), items_add=frozenset({'spaghetti'}), confidence=0.4772727272727273, lift=2.741211889182793), OrderedStatistic(items_base=frozenset({'tomatoes', 'spaghetti'}), items_add=frozenset({'ground beef'}), confidence=0.267515923566879, lift=2.7227095558686014)])\n",
            "RelationRecord(items=frozenset({'herb & pepper', 'spaghetti', 'mineral water'}), support=0.005999200106652446, ordered_statistics=[OrderedStatistic(items_base=frozenset({'herb & pepper', 'mineral water'}), items_add=frozenset({'spaghetti'}), confidence=0.3515625, lift=2.0191962576569678)])\n",
            "RelationRecord(items=frozenset({'milk', 'olive oil', 'mineral water'}), support=0.008532195707239034, ordered_statistics=[OrderedStatistic(items_base=frozenset({'milk', 'olive oil'}), items_add=frozenset({'mineral water'}), confidence=0.5, lift=2.0975950782997765), OrderedStatistic(items_base=frozenset({'olive oil', 'mineral water'}), items_add=frozenset({'milk'}), confidence=0.3091787439613526, lift=2.3859565416194504)])\n",
            "RelationRecord(items=frozenset({'shrimp', 'milk', 'mineral water'}), support=0.007865617917610986, ordered_statistics=[OrderedStatistic(items_base=frozenset({'shrimp', 'mineral water'}), items_add=frozenset({'milk'}), confidence=0.3333333333333333, lift=2.5723593964334706)])\n",
            "RelationRecord(items=frozenset({'milk', 'soup', 'mineral water'}), support=0.008532195707239034, ordered_statistics=[OrderedStatistic(items_base=frozenset({'milk', 'soup'}), items_add=frozenset({'mineral water'}), confidence=0.5614035087719298, lift=2.3551944738804504), OrderedStatistic(items_base=frozenset({'soup', 'mineral water'}), items_add=frozenset({'milk'}), confidence=0.3699421965317919, lift=2.8548728561573777)])\n",
            "RelationRecord(items=frozenset({'milk', 'spaghetti', 'mineral water'}), support=0.01573123583522197, ordered_statistics=[OrderedStatistic(items_base=frozenset({'spaghetti', 'mineral water'}), items_add=frozenset({'milk'}), confidence=0.26339285714285715, lift=2.032623273074662)])\n",
            "RelationRecord(items=frozenset({'milk', 'tomatoes', 'mineral water'}), support=0.006532462338354886, ordered_statistics=[OrderedStatistic(items_base=frozenset({'tomatoes', 'mineral water'}), items_add=frozenset({'milk'}), confidence=0.2677595628415301, lift=2.066321482380985)])\n",
            "RelationRecord(items=frozenset({'turkey', 'milk', 'mineral water'}), support=0.0061325156645780565, ordered_statistics=[OrderedStatistic(items_base=frozenset({'turkey', 'milk'}), items_add=frozenset({'mineral water'}), confidence=0.5411764705882353, lift=2.270338202395052), OrderedStatistic(items_base=frozenset({'turkey', 'mineral water'}), items_add=frozenset({'milk'}), confidence=0.3194444444444445, lift=2.4651777549154095)])\n",
            "RelationRecord(items=frozenset({'milk', 'olive oil', 'spaghetti'}), support=0.007199040127982935, ordered_statistics=[OrderedStatistic(items_base=frozenset({'milk', 'olive oil'}), items_add=frozenset({'spaghetti'}), confidence=0.421875, lift=2.4230355091883613), OrderedStatistic(items_base=frozenset({'milk', 'spaghetti'}), items_add=frozenset({'olive oil'}), confidence=0.20300751879699247, lift=3.0825089038385434), OrderedStatistic(items_base=frozenset({'olive oil', 'spaghetti'}), items_add=frozenset({'milk'}), confidence=0.313953488372093, lift=2.4228036175710597)])\n",
            "RelationRecord(items=frozenset({'milk', 'tomatoes', 'spaghetti'}), support=0.005865884548726837, ordered_statistics=[OrderedStatistic(items_base=frozenset({'milk', 'tomatoes'}), items_add=frozenset({'spaghetti'}), confidence=0.41904761904761906, lift=2.406796470502443), OrderedStatistic(items_base=frozenset({'tomatoes', 'spaghetti'}), items_add=frozenset({'milk'}), confidence=0.28025477707006374, lift=2.1627480275746382)])\n",
            "RelationRecord(items=frozenset({'olive oil', 'soup', 'mineral water'}), support=0.005199306759098787, ordered_statistics=[OrderedStatistic(items_base=frozenset({'soup', 'mineral water'}), items_add=frozenset({'olive oil'}), confidence=0.22543352601156072, lift=3.4230301186492245), OrderedStatistic(items_base=frozenset({'olive oil', 'soup'}), items_add=frozenset({'mineral water'}), confidence=0.582089552238806, lift=2.44197635981168)])\n",
            "RelationRecord(items=frozenset({'olive oil', 'spaghetti', 'mineral water'}), support=0.010265297960271964, ordered_statistics=[OrderedStatistic(items_base=frozenset({'olive oil', 'mineral water'}), items_add=frozenset({'spaghetti'}), confidence=0.3719806763285024, lift=2.13646788142427)])\n",
            "RelationRecord(items=frozenset({'spaghetti', 'salmon', 'mineral water'}), support=0.006799093454206106, ordered_statistics=[OrderedStatistic(items_base=frozenset({'salmon', 'mineral water'}), items_add=frozenset({'spaghetti'}), confidence=0.39843750000000006, lift=2.2884224253445637), OrderedStatistic(items_base=frozenset({'salmon', 'spaghetti'}), items_add=frozenset({'mineral water'}), confidence=0.504950495049505, lift=2.1183633464017544)])\n",
            "RelationRecord(items=frozenset({'shrimp', 'spaghetti', 'mineral water'}), support=0.008532195707239034, ordered_statistics=[OrderedStatistic(items_base=frozenset({'shrimp', 'mineral water'}), items_add=frozenset({'spaghetti'}), confidence=0.36158192090395475, lift=2.07674271722861)])\n",
            "RelationRecord(items=frozenset({'spaghetti', 'soup', 'mineral water'}), support=0.007465671243834155, ordered_statistics=[OrderedStatistic(items_base=frozenset({'spaghetti', 'soup'}), items_add=frozenset({'mineral water'}), confidence=0.5233644859813084, lift=2.1956135399025696)])\n",
            "RelationRecord(items=frozenset({'tomatoes', 'spaghetti', 'mineral water'}), support=0.009332089054792695, ordered_statistics=[OrderedStatistic(items_base=frozenset({'tomatoes', 'mineral water'}), items_add=frozenset({'spaghetti'}), confidence=0.38251366120218583, lift=2.1969639913304717)])\n",
            "RelationRecord(items=frozenset({'pancakes', 'olive oil', 'spaghetti'}), support=0.005065991201173177, ordered_statistics=[OrderedStatistic(items_base=frozenset({'pancakes', 'olive oil'}), items_add=frozenset({'spaghetti'}), confidence=0.4691358024691358, lift=2.6944775301079535), OrderedStatistic(items_base=frozenset({'olive oil', 'spaghetti'}), items_add=frozenset({'pancakes'}), confidence=0.22093023255813954, lift=2.3242604129293194), OrderedStatistic(items_base=frozenset({'pancakes', 'spaghetti'}), items_add=frozenset({'olive oil'}), confidence=0.20105820105820105, lift=3.0529100529100526)])\n",
            "RelationRecord(items=frozenset({'', 'milk', 'burgers', 'chocolate'}), support=0.005465937874950006, ordered_statistics=[OrderedStatistic(items_base=frozenset({'burgers', 'chocolate'}), items_add=frozenset({'', 'milk'}), confidence=0.3203125, lift=2.4718766075102883), OrderedStatistic(items_base=frozenset({'', 'burgers', 'chocolate'}), items_add=frozenset({'milk'}), confidence=0.3203125, lift=2.4718766075102883)])\n",
            "RelationRecord(items=frozenset({'', 'burgers', 'spaghetti', 'chocolate'}), support=0.006399146780429276, ordered_statistics=[OrderedStatistic(items_base=frozenset({'burgers', 'chocolate'}), items_add=frozenset({'', 'spaghetti'}), confidence=0.37500000000000006, lift=2.153809341500766), OrderedStatistic(items_base=frozenset({'', 'burgers', 'chocolate'}), items_add=frozenset({'spaghetti'}), confidence=0.37500000000000006, lift=2.153809341500766)])\n",
            "RelationRecord(items=frozenset({'', 'eggs', 'burgers', 'french fries'}), support=0.009065457938941474, ordered_statistics=[OrderedStatistic(items_base=frozenset({'burgers', 'french fries'}), items_add=frozenset({'', 'eggs'}), confidence=0.4121212121212121, lift=2.293264994155202), OrderedStatistic(items_base=frozenset({'eggs', 'french fries'}), items_add=frozenset({'', 'burgers'}), confidence=0.2490842490842491, lift=2.856851609145187), OrderedStatistic(items_base=frozenset({'', 'burgers', 'french fries'}), items_add=frozenset({'eggs'}), confidence=0.4121212121212121, lift=2.293264994155202), OrderedStatistic(items_base=frozenset({'', 'eggs', 'french fries'}), items_add=frozenset({'burgers'}), confidence=0.2490842490842491, lift=2.856851609145187)])\n",
            "RelationRecord(items=frozenset({'', 'green tea', 'eggs', 'burgers'}), support=0.005999200106652446, ordered_statistics=[OrderedStatistic(items_base=frozenset({'green tea', 'eggs'}), items_add=frozenset({'', 'burgers'}), confidence=0.23560209424083767, lift=2.7022191267592097), OrderedStatistic(items_base=frozenset({'', 'green tea', 'eggs'}), items_add=frozenset({'burgers'}), confidence=0.23560209424083767, lift=2.7022191267592097)])\n",
            "RelationRecord(items=frozenset({'', 'milk', 'burgers', 'french fries'}), support=0.005599253432875617, ordered_statistics=[OrderedStatistic(items_base=frozenset({'milk', 'french fries'}), items_add=frozenset({'', 'burgers'}), confidence=0.23595505617977527, lift=2.7062673951139056), OrderedStatistic(items_base=frozenset({'', 'milk', 'french fries'}), items_add=frozenset({'burgers'}), confidence=0.23595505617977527, lift=2.7062673951139056)])\n",
            "RelationRecord(items=frozenset({'', 'burgers', 'french fries', 'spaghetti'}), support=0.005599253432875617, ordered_statistics=[OrderedStatistic(items_base=frozenset({'french fries', 'spaghetti'}), items_add=frozenset({'', 'burgers'}), confidence=0.20289855072463767, lift=2.3271284846873197), OrderedStatistic(items_base=frozenset({'', 'french fries', 'spaghetti'}), items_add=frozenset({'burgers'}), confidence=0.20289855072463767, lift=2.3271284846873197)])\n",
            "RelationRecord(items=frozenset({'', 'burgers', 'ground beef', 'mineral water'}), support=0.005332622317024397, ordered_statistics=[OrderedStatistic(items_base=frozenset({'burgers', 'mineral water'}), items_add=frozenset({'', 'ground beef'}), confidence=0.2185792349726776, lift=2.2246442897287038), OrderedStatistic(items_base=frozenset({'', 'burgers', 'mineral water'}), items_add=frozenset({'ground beef'}), confidence=0.2185792349726776, lift=2.2246442897287038)])\n",
            "RelationRecord(items=frozenset({'', 'burgers', 'ground beef', 'spaghetti'}), support=0.005465937874950006, ordered_statistics=[OrderedStatistic(items_base=frozenset({'burgers', 'ground beef'}), items_add=frozenset({'', 'spaghetti'}), confidence=0.45555555555555555, lift=2.616479496341671), OrderedStatistic(items_base=frozenset({'burgers', 'spaghetti'}), items_add=frozenset({'', 'ground beef'}), confidence=0.2546583850931677, lift=2.591848774197898), OrderedStatistic(items_base=frozenset({'', 'burgers', 'ground beef'}), items_add=frozenset({'spaghetti'}), confidence=0.45555555555555555, lift=2.616479496341671), OrderedStatistic(items_base=frozenset({'', 'burgers', 'spaghetti'}), items_add=frozenset({'ground beef'}), confidence=0.2546583850931677, lift=2.591848774197898)])\n",
            "RelationRecord(items=frozenset({'', 'milk', 'burgers', 'mineral water'}), support=0.006932409012131715, ordered_statistics=[OrderedStatistic(items_base=frozenset({'burgers', 'mineral water'}), items_add=frozenset({'', 'milk'}), confidence=0.28415300546448086, lift=2.192830960894106), OrderedStatistic(items_base=frozenset({'', 'burgers', 'mineral water'}), items_add=frozenset({'milk'}), confidence=0.28415300546448086, lift=2.192830960894106)])\n",
            "RelationRecord(items=frozenset({'', 'milk', 'burgers', 'spaghetti'}), support=0.006399146780429276, ordered_statistics=[OrderedStatistic(items_base=frozenset({'milk', 'burgers'}), items_add=frozenset({'', 'spaghetti'}), confidence=0.3582089552238806, lift=2.0573701172544627), OrderedStatistic(items_base=frozenset({'burgers', 'spaghetti'}), items_add=frozenset({'', 'milk'}), confidence=0.2981366459627329, lift=2.300743807990185), OrderedStatistic(items_base=frozenset({'', 'milk', 'burgers'}), items_add=frozenset({'spaghetti'}), confidence=0.3582089552238806, lift=2.0573701172544627), OrderedStatistic(items_base=frozenset({'', 'burgers', 'spaghetti'}), items_add=frozenset({'milk'}), confidence=0.2981366459627329, lift=2.300743807990185)])\n",
            "RelationRecord(items=frozenset({'', 'cake', 'spaghetti', 'chocolate'}), support=0.005199306759098787, ordered_statistics=[OrderedStatistic(items_base=frozenset({'cake', 'chocolate'}), items_add=frozenset({'', 'spaghetti'}), confidence=0.3823529411764706, lift=2.1960408972164673), OrderedStatistic(items_base=frozenset({'', 'cake', 'chocolate'}), items_add=frozenset({'spaghetti'}), confidence=0.3823529411764706, lift=2.1960408972164673)])\n",
            "RelationRecord(items=frozenset({'', 'cake', 'milk', 'mineral water'}), support=0.006399146780429276, ordered_statistics=[OrderedStatistic(items_base=frozenset({'cake', 'milk'}), items_add=frozenset({'', 'mineral water'}), confidence=0.48, lift=2.0148181309457187), OrderedStatistic(items_base=frozenset({'', 'cake', 'milk'}), items_add=frozenset({'mineral water'}), confidence=0.48, lift=2.013691275167785)])\n",
            "RelationRecord(items=frozenset({'', 'mineral water', 'chicken', 'chocolate'}), support=0.007598986801759766, ordered_statistics=[OrderedStatistic(items_base=frozenset({'chicken', 'chocolate'}), items_add=frozenset({'', 'mineral water'}), confidence=0.5181818181818182, lift=2.1750877549982195), OrderedStatistic(items_base=frozenset({'chicken', 'mineral water'}), items_add=frozenset({'', 'chocolate'}), confidence=0.3333333333333333, lift=2.0344453485218335), OrderedStatistic(items_base=frozenset({'', 'chicken', 'chocolate'}), items_add=frozenset({'mineral water'}), confidence=0.5181818181818182, lift=2.1738712629652226), OrderedStatistic(items_base=frozenset({'', 'chicken', 'mineral water'}), items_add=frozenset({'chocolate'}), confidence=0.3333333333333333, lift=2.0344453485218335)])\n",
            "RelationRecord(items=frozenset({'', 'chicken', 'milk', 'mineral water'}), support=0.006665777896280496, ordered_statistics=[OrderedStatistic(items_base=frozenset({'chicken', 'mineral water'}), items_add=frozenset({'', 'milk'}), confidence=0.29239766081871343, lift=2.256455610906553), OrderedStatistic(items_base=frozenset({'', 'chicken', 'mineral water'}), items_add=frozenset({'milk'}), confidence=0.29239766081871343, lift=2.256455610906553)])\n",
            "RelationRecord(items=frozenset({'', 'chicken', 'milk', 'spaghetti'}), support=0.005465937874950006, ordered_statistics=[OrderedStatistic(items_base=frozenset({'chicken', 'milk'}), items_add=frozenset({'', 'spaghetti'}), confidence=0.3693693693693693, lift=2.121469861898652), OrderedStatistic(items_base=frozenset({'chicken', 'spaghetti'}), items_add=frozenset({'', 'milk'}), confidence=0.3178294573643411, lift=2.452714773343542), OrderedStatistic(items_base=frozenset({'', 'chicken', 'milk'}), items_add=frozenset({'spaghetti'}), confidence=0.3693693693693693, lift=2.121469861898652), OrderedStatistic(items_base=frozenset({'', 'chicken', 'spaghetti'}), items_add=frozenset({'milk'}), confidence=0.3178294573643411, lift=2.452714773343542)])\n",
            "RelationRecord(items=frozenset({'', 'eggs', 'milk', 'chocolate'}), support=0.009198773496867084, ordered_statistics=[OrderedStatistic(items_base=frozenset({'eggs', 'chocolate'}), items_add=frozenset({'', 'milk'}), confidence=0.27710843373493976, lift=2.138467450047102), OrderedStatistic(items_base=frozenset({'', 'eggs', 'chocolate'}), items_add=frozenset({'milk'}), confidence=0.27710843373493976, lift=2.138467450047102)])\n",
            "RelationRecord(items=frozenset({'', 'mineral water', 'escalope', 'chocolate'}), support=0.005599253432875617, ordered_statistics=[OrderedStatistic(items_base=frozenset({'escalope', 'mineral water'}), items_add=frozenset({'', 'chocolate'}), confidence=0.32812500000000006, lift=2.00265713995118), OrderedStatistic(items_base=frozenset({'', 'escalope', 'mineral water'}), items_add=frozenset({'chocolate'}), confidence=0.32812500000000006, lift=2.00265713995118)])\n",
            "RelationRecord(items=frozenset({'', 'ground beef', 'frozen vegetables', 'chocolate'}), support=0.005732568990801226, ordered_statistics=[OrderedStatistic(items_base=frozenset({'frozen vegetables', 'chocolate'}), items_add=frozenset({'', 'ground beef'}), confidence=0.25, lift=2.544436906377205), OrderedStatistic(items_base=frozenset({'ground beef', 'chocolate'}), items_add=frozenset({'', 'frozen vegetables'}), confidence=0.24855491329479767, lift=2.6075669994745136), OrderedStatistic(items_base=frozenset({'ground beef', 'frozen vegetables'}), items_add=frozenset({'', 'chocolate'}), confidence=0.3385826771653543, lift=2.066483857947374), OrderedStatistic(items_base=frozenset({'', 'frozen vegetables', 'chocolate'}), items_add=frozenset({'ground beef'}), confidence=0.25, lift=2.544436906377205), OrderedStatistic(items_base=frozenset({'', 'ground beef', 'chocolate'}), items_add=frozenset({'frozen vegetables'}), confidence=0.24855491329479767, lift=2.6075669994745136), OrderedStatistic(items_base=frozenset({'', 'ground beef', 'frozen vegetables'}), items_add=frozenset({'chocolate'}), confidence=0.3385826771653543, lift=2.066483857947374)])\n",
            "RelationRecord(items=frozenset({'', 'milk', 'frozen vegetables', 'chocolate'}), support=0.007998933475536596, ordered_statistics=[OrderedStatistic(items_base=frozenset({'frozen vegetables', 'chocolate'}), items_add=frozenset({'', 'milk'}), confidence=0.34883720930232565, lift=2.6920040195234), OrderedStatistic(items_base=frozenset({'milk', 'chocolate'}), items_add=frozenset({'', 'frozen vegetables'}), confidence=0.2489626556016598, lift=2.611844586948322), OrderedStatistic(items_base=frozenset({'milk', 'frozen vegetables'}), items_add=frozenset({'', 'chocolate'}), confidence=0.33898305084745767, lift=2.068927473073051), OrderedStatistic(items_base=frozenset({'', 'frozen vegetables', 'chocolate'}), items_add=frozenset({'milk'}), confidence=0.34883720930232565, lift=2.6920040195234), OrderedStatistic(items_base=frozenset({'', 'milk', 'chocolate'}), items_add=frozenset({'frozen vegetables'}), confidence=0.2489626556016598, lift=2.611844586948322), OrderedStatistic(items_base=frozenset({'', 'milk', 'frozen vegetables'}), items_add=frozenset({'chocolate'}), confidence=0.33898305084745767, lift=2.068927473073051)])\n",
            "RelationRecord(items=frozenset({'', 'shrimp', 'frozen vegetables', 'chocolate'}), support=0.005332622317024397, ordered_statistics=[OrderedStatistic(items_base=frozenset({'frozen vegetables', 'chocolate'}), items_add=frozenset({'', 'shrimp'}), confidence=0.23255813953488375, lift=3.260595522712454), OrderedStatistic(items_base=frozenset({'shrimp', 'chocolate'}), items_add=frozenset({'', 'frozen vegetables'}), confidence=0.29629629629629634, lift=3.1084175084175087), OrderedStatistic(items_base=frozenset({'', 'frozen vegetables', 'chocolate'}), items_add=frozenset({'shrimp'}), confidence=0.23255813953488375, lift=3.2545123221103784), OrderedStatistic(items_base=frozenset({'', 'shrimp', 'chocolate'}), items_add=frozenset({'frozen vegetables'}), confidence=0.29629629629629634, lift=3.1084175084175087)])\n",
            "RelationRecord(items=frozenset({'', 'frozen vegetables', 'spaghetti', 'chocolate'}), support=0.007865617917610986, ordered_statistics=[OrderedStatistic(items_base=frozenset({'spaghetti', 'chocolate'}), items_add=frozenset({'', 'frozen vegetables'}), confidence=0.20068027210884354, lift=2.1053184910327767), OrderedStatistic(items_base=frozenset({'', 'spaghetti', 'chocolate'}), items_add=frozenset({'frozen vegetables'}), confidence=0.20068027210884354, lift=2.1053184910327767)])\n",
            "RelationRecord(items=frozenset({'', 'milk', 'ground beef', 'chocolate'}), support=0.0061325156645780565, ordered_statistics=[OrderedStatistic(items_base=frozenset({'ground beef', 'chocolate'}), items_add=frozenset({'', 'milk'}), confidence=0.26589595375722547, lift=2.051939865363116), OrderedStatistic(items_base=frozenset({'', 'ground beef', 'chocolate'}), items_add=frozenset({'milk'}), confidence=0.26589595375722547, lift=2.051939865363116)])\n",
            "RelationRecord(items=frozenset({'', 'mineral water', 'ground beef', 'chocolate'}), support=0.010931875749900012, ordered_statistics=[OrderedStatistic(items_base=frozenset({'mineral water', 'chocolate'}), items_add=frozenset({'', 'ground beef'}), confidence=0.20759493670886073, lift=2.112848874156261), OrderedStatistic(items_base=frozenset({'', 'mineral water', 'chocolate'}), items_add=frozenset({'ground beef'}), confidence=0.20759493670886073, lift=2.112848874156261)])\n",
            "RelationRecord(items=frozenset({'', 'ground beef', 'spaghetti', 'chocolate'}), support=0.009198773496867084, ordered_statistics=[OrderedStatistic(items_base=frozenset({'ground beef', 'chocolate'}), items_add=frozenset({'', 'spaghetti'}), confidence=0.3988439306358382, lift=2.290756756278271), OrderedStatistic(items_base=frozenset({'spaghetti', 'chocolate'}), items_add=frozenset({'', 'ground beef'}), confidence=0.2346938775510204, lift=2.3886550549663554), OrderedStatistic(items_base=frozenset({'', 'ground beef', 'chocolate'}), items_add=frozenset({'spaghetti'}), confidence=0.3988439306358382, lift=2.290756756278271), OrderedStatistic(items_base=frozenset({'', 'spaghetti', 'chocolate'}), items_add=frozenset({'ground beef'}), confidence=0.2346938775510204, lift=2.3886550549663554)])\n",
            "RelationRecord(items=frozenset({'', 'mineral water', 'milk', 'chocolate'}), support=0.013998133582189041, ordered_statistics=[OrderedStatistic(items_base=frozenset({'mineral water', 'chocolate'}), items_add=frozenset({'', 'milk'}), confidence=0.26582278481012656, lift=2.0513752148773245), OrderedStatistic(items_base=frozenset({'', 'mineral water', 'chocolate'}), items_add=frozenset({'milk'}), confidence=0.26582278481012656, lift=2.0513752148773245)])\n",
            "RelationRecord(items=frozenset({'', 'milk', 'olive oil', 'chocolate'}), support=0.005199306759098787, ordered_statistics=[OrderedStatistic(items_base=frozenset({'olive oil', 'chocolate'}), items_add=frozenset({'', 'milk'}), confidence=0.3170731707317073, lift=2.4468784502659844), OrderedStatistic(items_base=frozenset({'', 'olive oil', 'chocolate'}), items_add=frozenset({'milk'}), confidence=0.3170731707317073, lift=2.4468784502659844)])\n",
            "RelationRecord(items=frozenset({'', 'shrimp', 'milk', 'chocolate'}), support=0.005465937874950006, ordered_statistics=[OrderedStatistic(items_base=frozenset({'shrimp', 'chocolate'}), items_add=frozenset({'', 'milk'}), confidence=0.3037037037037037, lift=2.3437052278616064), OrderedStatistic(items_base=frozenset({'', 'shrimp', 'chocolate'}), items_add=frozenset({'milk'}), confidence=0.3037037037037037, lift=2.3437052278616064)])\n",
            "RelationRecord(items=frozenset({'', 'milk', 'spaghetti', 'chocolate'}), support=0.010931875749900012, ordered_statistics=[OrderedStatistic(items_base=frozenset({'spaghetti', 'chocolate'}), items_add=frozenset({'', 'milk'}), confidence=0.2789115646258503, lift=2.152382352117802), OrderedStatistic(items_base=frozenset({'', 'spaghetti', 'chocolate'}), items_add=frozenset({'milk'}), confidence=0.2789115646258503, lift=2.152382352117802)])\n",
            "RelationRecord(items=frozenset({'', 'mineral water', 'olive oil', 'chocolate'}), support=0.008265564591387815, ordered_statistics=[OrderedStatistic(items_base=frozenset({'olive oil', 'chocolate'}), items_add=frozenset({'', 'mineral water'}), confidence=0.5040650406504065, lift=2.1158320480798536), OrderedStatistic(items_base=frozenset({'', 'olive oil', 'chocolate'}), items_add=frozenset({'mineral water'}), confidence=0.5040650406504065, lift=2.1146486968225386)])\n",
            "RelationRecord(items=frozenset({'', 'mineral water', 'soup', 'chocolate'}), support=0.005599253432875617, ordered_statistics=[OrderedStatistic(items_base=frozenset({'soup', 'chocolate'}), items_add=frozenset({'', 'mineral water'}), confidence=0.5526315789473685, lift=2.3196919270756635), OrderedStatistic(items_base=frozenset({'', 'soup', 'chocolate'}), items_add=frozenset({'mineral water'}), confidence=0.5526315789473685, lift=2.3183945602260687)])\n",
            "RelationRecord(items=frozenset({'', 'olive oil', 'spaghetti', 'chocolate'}), support=0.007065724570057326, ordered_statistics=[OrderedStatistic(items_base=frozenset({'olive oil', 'chocolate'}), items_add=frozenset({'', 'spaghetti'}), confidence=0.43089430894308944, lift=2.4748378341363813), OrderedStatistic(items_base=frozenset({'', 'olive oil', 'chocolate'}), items_add=frozenset({'spaghetti'}), confidence=0.43089430894308944, lift=2.4748378341363813)])\n",
            "RelationRecord(items=frozenset({'', 'shrimp', 'spaghetti', 'chocolate'}), support=0.006399146780429276, ordered_statistics=[OrderedStatistic(items_base=frozenset({'shrimp', 'chocolate'}), items_add=frozenset({'', 'spaghetti'}), confidence=0.3555555555555556, lift=2.0421303386081338), OrderedStatistic(items_base=frozenset({'', 'shrimp', 'chocolate'}), items_add=frozenset({'spaghetti'}), confidence=0.3555555555555556, lift=2.0421303386081338)])\n",
            "RelationRecord(items=frozenset({'', 'cooking oil', 'eggs', 'mineral water'}), support=0.006399146780429276, ordered_statistics=[OrderedStatistic(items_base=frozenset({'cooking oil', 'eggs'}), items_add=frozenset({'', 'mineral water'}), confidence=0.5454545454545454, lift=2.2895660578928623), OrderedStatistic(items_base=frozenset({'', 'cooking oil', 'eggs'}), items_add=frozenset({'mineral water'}), confidence=0.5454545454545454, lift=2.2882855399633923)])\n",
            "RelationRecord(items=frozenset({'', 'cooking oil', 'spaghetti', 'mineral water'}), support=0.007598986801759766, ordered_statistics=[OrderedStatistic(items_base=frozenset({'cooking oil', 'mineral water'}), items_add=frozenset({'', 'spaghetti'}), confidence=0.3774834437086093, lift=2.16807297952395), OrderedStatistic(items_base=frozenset({'cooking oil', 'spaghetti'}), items_add=frozenset({'', 'mineral water'}), confidence=0.4789915966386554, lift=2.010585319746253), OrderedStatistic(items_base=frozenset({'', 'cooking oil', 'mineral water'}), items_add=frozenset({'spaghetti'}), confidence=0.3774834437086093, lift=2.16807297952395), OrderedStatistic(items_base=frozenset({'', 'cooking oil', 'spaghetti'}), items_add=frozenset({'mineral water'}), confidence=0.4789915966386554, lift=2.0094608313123907)])\n",
            "RelationRecord(items=frozenset({'', 'eggs', 'milk', 'frozen vegetables'}), support=0.007332355685908546, ordered_statistics=[OrderedStatistic(items_base=frozenset({'eggs', 'frozen vegetables'}), items_add=frozenset({'', 'milk'}), confidence=0.3374233128834356, lift=2.6039220884142495), OrderedStatistic(items_base=frozenset({'eggs', 'milk'}), items_add=frozenset({'', 'frozen vegetables'}), confidence=0.2380952380952381, lift=2.497835497835498), OrderedStatistic(items_base=frozenset({'', 'eggs', 'frozen vegetables'}), items_add=frozenset({'milk'}), confidence=0.3374233128834356, lift=2.6039220884142495), OrderedStatistic(items_base=frozenset({'', 'eggs', 'milk'}), items_add=frozenset({'frozen vegetables'}), confidence=0.2380952380952381, lift=2.497835497835498)])\n",
            "RelationRecord(items=frozenset({'', 'eggs', 'milk', 'ground beef'}), support=0.005865884548726837, ordered_statistics=[OrderedStatistic(items_base=frozenset({'eggs', 'ground beef'}), items_add=frozenset({'', 'milk'}), confidence=0.29333333333333333, lift=2.2636762688614542), OrderedStatistic(items_base=frozenset({'', 'eggs', 'ground beef'}), items_add=frozenset({'milk'}), confidence=0.29333333333333333, lift=2.2636762688614542)])\n",
            "RelationRecord(items=frozenset({'', 'eggs', 'ground beef', 'mineral water'}), support=0.010131982402346354, ordered_statistics=[OrderedStatistic(items_base=frozenset({'eggs', 'ground beef'}), items_add=frozenset({'', 'mineral water'}), confidence=0.5066666666666667, lift=2.126752471553815), OrderedStatistic(items_base=frozenset({'', 'eggs', 'ground beef'}), items_add=frozenset({'mineral water'}), confidence=0.5066666666666667, lift=2.125563012677107)])\n",
            "RelationRecord(items=frozenset({'', 'eggs', 'ground beef', 'spaghetti'}), support=0.008932142381015865, ordered_statistics=[OrderedStatistic(items_base=frozenset({'eggs', 'ground beef'}), items_add=frozenset({'', 'spaghetti'}), confidence=0.4466666666666667, lift=2.565426237876468), OrderedStatistic(items_base=frozenset({'eggs', 'spaghetti'}), items_add=frozenset({'', 'ground beef'}), confidence=0.2445255474452555, lift=2.4887193098871934), OrderedStatistic(items_base=frozenset({'', 'eggs', 'ground beef'}), items_add=frozenset({'spaghetti'}), confidence=0.4466666666666667, lift=2.565426237876468), OrderedStatistic(items_base=frozenset({'', 'eggs', 'spaghetti'}), items_add=frozenset({'ground beef'}), confidence=0.2445255474452555, lift=2.4887193098871934)])\n",
            "RelationRecord(items=frozenset({'', 'eggs', 'olive oil', 'mineral water'}), support=0.005865884548726837, ordered_statistics=[OrderedStatistic(items_base=frozenset({'eggs', 'olive oil'}), items_add=frozenset({'', 'mineral water'}), confidence=0.48888888888888893, lift=2.052129577815084), OrderedStatistic(items_base=frozenset({'', 'eggs', 'olive oil'}), items_add=frozenset({'mineral water'}), confidence=0.48888888888888893, lift=2.050981854337559)])\n",
            "RelationRecord(items=frozenset({'', 'eggs', 'olive oil', 'spaghetti'}), support=0.005065991201173177, ordered_statistics=[OrderedStatistic(items_base=frozenset({'eggs', 'olive oil'}), items_add=frozenset({'', 'spaghetti'}), confidence=0.4222222222222222, lift=2.4250297770971585), OrderedStatistic(items_base=frozenset({'', 'eggs', 'olive oil'}), items_add=frozenset({'spaghetti'}), confidence=0.4222222222222222, lift=2.4250297770971585)])\n",
            "RelationRecord(items=frozenset({'', 'milk', 'frozen vegetables', 'french fries'}), support=0.005732568990801226, ordered_statistics=[OrderedStatistic(items_base=frozenset({'frozen vegetables', 'french fries'}), items_add=frozenset({'', 'milk'}), confidence=0.3006993006993007, lift=2.3205200149644596), OrderedStatistic(items_base=frozenset({'milk', 'french fries'}), items_add=frozenset({'', 'frozen vegetables'}), confidence=0.24157303370786515, lift=2.534320735444331), OrderedStatistic(items_base=frozenset({'', 'frozen vegetables', 'french fries'}), items_add=frozenset({'milk'}), confidence=0.3006993006993007, lift=2.3205200149644596), OrderedStatistic(items_base=frozenset({'', 'milk', 'french fries'}), items_add=frozenset({'frozen vegetables'}), confidence=0.24157303370786515, lift=2.534320735444331)])\n",
            "RelationRecord(items=frozenset({'', 'ground beef', 'french fries', 'spaghetti'}), support=0.005599253432875617, ordered_statistics=[OrderedStatistic(items_base=frozenset({'ground beef', 'french fries'}), items_add=frozenset({'', 'spaghetti'}), confidence=0.40384615384615385, lift=2.319486983154671), OrderedStatistic(items_base=frozenset({'french fries', 'spaghetti'}), items_add=frozenset({'', 'ground beef'}), confidence=0.20289855072463767, lift=2.065050242856862), OrderedStatistic(items_base=frozenset({'', 'ground beef', 'french fries'}), items_add=frozenset({'spaghetti'}), confidence=0.40384615384615385, lift=2.319486983154671), OrderedStatistic(items_base=frozenset({'', 'french fries', 'spaghetti'}), items_add=frozenset({'ground beef'}), confidence=0.20289855072463767, lift=2.065050242856862)])\n",
            "RelationRecord(items=frozenset({'', 'pancakes', 'french fries', 'spaghetti'}), support=0.005732568990801226, ordered_statistics=[OrderedStatistic(items_base=frozenset({'french fries', 'spaghetti'}), items_add=frozenset({'', 'pancakes'}), confidence=0.2077294685990338, lift=2.185383932624618), OrderedStatistic(items_base=frozenset({'', 'french fries', 'spaghetti'}), items_add=frozenset({'pancakes'}), confidence=0.2077294685990338, lift=2.185383932624618)])\n",
            "RelationRecord(items=frozenset({'', 'milk', 'frozen smoothie', 'mineral water'}), support=0.0061325156645780565, ordered_statistics=[OrderedStatistic(items_base=frozenset({'frozen smoothie', 'mineral water'}), items_add=frozenset({'', 'milk'}), confidence=0.3026315789473684, lift=2.3354315572882824), OrderedStatistic(items_base=frozenset({'', 'frozen smoothie', 'mineral water'}), items_add=frozenset({'milk'}), confidence=0.304635761589404, lift=2.3508979914425097)])\n",
            "RelationRecord(items=frozenset({'', 'milk', 'frozen smoothie', 'spaghetti'}), support=0.005599253432875617, ordered_statistics=[OrderedStatistic(items_base=frozenset({'milk', 'frozen smoothie'}), items_add=frozenset({'', 'spaghetti'}), confidence=0.3925233644859813, lift=2.254454637832577), OrderedStatistic(items_base=frozenset({'frozen smoothie', 'spaghetti'}), items_add=frozenset({'', 'milk'}), confidence=0.358974358974359, lift=2.7702331961591224), OrderedStatistic(items_base=frozenset({'', 'milk', 'frozen smoothie'}), items_add=frozenset({'spaghetti'}), confidence=0.3925233644859813, lift=2.254454637832577), OrderedStatistic(items_base=frozenset({'', 'frozen smoothie', 'spaghetti'}), items_add=frozenset({'milk'}), confidence=0.358974358974359, lift=2.7702331961591224)])\n",
            "RelationRecord(items=frozenset({'', 'ground beef', 'milk', 'frozen vegetables'}), support=0.005732568990801226, ordered_statistics=[OrderedStatistic(items_base=frozenset({'ground beef', 'frozen vegetables'}), items_add=frozenset({'', 'milk'}), confidence=0.3385826771653543, lift=2.612868993227698), OrderedStatistic(items_base=frozenset({'milk', 'frozen vegetables'}), items_add=frozenset({'', 'ground beef'}), confidence=0.24293785310734461, lift=2.4725601576094873), OrderedStatistic(items_base=frozenset({'milk', 'ground beef'}), items_add=frozenset({'', 'frozen vegetables'}), confidence=0.2606060606060606, lift=2.733994490358127), OrderedStatistic(items_base=frozenset({'', 'ground beef', 'frozen vegetables'}), items_add=frozenset({'milk'}), confidence=0.3385826771653543, lift=2.612868993227698), OrderedStatistic(items_base=frozenset({'', 'milk', 'frozen vegetables'}), items_add=frozenset({'ground beef'}), confidence=0.24293785310734461, lift=2.4725601576094873), OrderedStatistic(items_base=frozenset({'', 'milk', 'ground beef'}), items_add=frozenset({'frozen vegetables'}), confidence=0.2606060606060606, lift=2.733994490358127)])\n",
            "RelationRecord(items=frozenset({'', 'ground beef', 'frozen vegetables', 'mineral water'}), support=0.009198773496867084, ordered_statistics=[OrderedStatistic(items_base=frozenset({'ground beef', 'frozen vegetables'}), items_add=frozenset({'', 'mineral water'}), confidence=0.5433070866141732, lift=2.2805520182948587), OrderedStatistic(items_base=frozenset({'frozen vegetables', 'mineral water'}), items_add=frozenset({'', 'ground beef'}), confidence=0.25746268656716415, lift=2.6203902468660765), OrderedStatistic(items_base=frozenset({'ground beef', 'mineral water'}), items_add=frozenset({'', 'frozen vegetables'}), confidence=0.2247557003257329, lift=2.3578916197808706), OrderedStatistic(items_base=frozenset({'', 'ground beef', 'frozen vegetables'}), items_add=frozenset({'mineral water'}), confidence=0.5433070866141732, lift=2.2792765417745597), OrderedStatistic(items_base=frozenset({'', 'frozen vegetables', 'mineral water'}), items_add=frozenset({'ground beef'}), confidence=0.25746268656716415, lift=2.6203902468660765), OrderedStatistic(items_base=frozenset({'', 'ground beef', 'mineral water'}), items_add=frozenset({'frozen vegetables'}), confidence=0.2247557003257329, lift=2.3578916197808706)])\n",
            "RelationRecord(items=frozenset({'', 'ground beef', 'frozen vegetables', 'spaghetti'}), support=0.008665511265164644, ordered_statistics=[OrderedStatistic(items_base=frozenset({'ground beef', 'frozen vegetables'}), items_add=frozenset({'', 'spaghetti'}), confidence=0.5118110236220472, lift=2.939582303360625), OrderedStatistic(items_base=frozenset({'frozen vegetables', 'spaghetti'}), items_add=frozenset({'', 'ground beef'}), confidence=0.31100478468899523, lift=3.165328208890303), OrderedStatistic(items_base=frozenset({'ground beef', 'spaghetti'}), items_add=frozenset({'', 'frozen vegetables'}), confidence=0.22108843537414966, lift=2.3194186765615337), OrderedStatistic(items_base=frozenset({'', 'ground beef', 'frozen vegetables'}), items_add=frozenset({'spaghetti'}), confidence=0.5118110236220472, lift=2.939582303360625), OrderedStatistic(items_base=frozenset({'', 'frozen vegetables', 'spaghetti'}), items_add=frozenset({'ground beef'}), confidence=0.31100478468899523, lift=3.165328208890303), OrderedStatistic(items_base=frozenset({'', 'ground beef', 'spaghetti'}), items_add=frozenset({'frozen vegetables'}), confidence=0.22108843537414966, lift=2.3194186765615337)])\n",
            "RelationRecord(items=frozenset({'', 'milk', 'frozen vegetables', 'mineral water'}), support=0.011065191307825623, ordered_statistics=[OrderedStatistic(items_base=frozenset({'frozen vegetables', 'mineral water'}), items_add=frozenset({'', 'milk'}), confidence=0.3097014925373134, lift=2.3899906332534853), OrderedStatistic(items_base=frozenset({'milk', 'mineral water'}), items_add=frozenset({'', 'frozen vegetables'}), confidence=0.23055555555555557, lift=2.418737373737374), OrderedStatistic(items_base=frozenset({'', 'frozen vegetables', 'mineral water'}), items_add=frozenset({'milk'}), confidence=0.3097014925373134, lift=2.3899906332534853), OrderedStatistic(items_base=frozenset({'', 'milk', 'mineral water'}), items_add=frozenset({'frozen vegetables'}), confidence=0.23055555555555557, lift=2.418737373737374)])\n",
            "RelationRecord(items=frozenset({'', 'milk', 'frozen vegetables', 'spaghetti'}), support=0.008265564591387815, ordered_statistics=[OrderedStatistic(items_base=frozenset({'milk', 'frozen vegetables'}), items_add=frozenset({'', 'spaghetti'}), confidence=0.3502824858757062, lift=2.011844507315216), OrderedStatistic(items_base=frozenset({'frozen vegetables', 'spaghetti'}), items_add=frozenset({'', 'milk'}), confidence=0.2966507177033493, lift=2.2892767834288303), OrderedStatistic(items_base=frozenset({'milk', 'spaghetti'}), items_add=frozenset({'', 'frozen vegetables'}), confidence=0.23308270676691728, lift=2.4452494873547503), OrderedStatistic(items_base=frozenset({'', 'milk', 'frozen vegetables'}), items_add=frozenset({'spaghetti'}), confidence=0.3502824858757062, lift=2.011844507315216), OrderedStatistic(items_base=frozenset({'', 'frozen vegetables', 'spaghetti'}), items_add=frozenset({'milk'}), confidence=0.2966507177033493, lift=2.2892767834288303), OrderedStatistic(items_base=frozenset({'', 'milk', 'spaghetti'}), items_add=frozenset({'frozen vegetables'}), confidence=0.23308270676691728, lift=2.4452494873547503)])\n",
            "RelationRecord(items=frozenset({'', 'olive oil', 'frozen vegetables', 'mineral water'}), support=0.006532462338354886, ordered_statistics=[OrderedStatistic(items_base=frozenset({'olive oil', 'frozen vegetables'}), items_add=frozenset({'', 'mineral water'}), confidence=0.5764705882352941, lift=2.4197570690279466), OrderedStatistic(items_base=frozenset({'olive oil', 'mineral water'}), items_add=frozenset({'', 'frozen vegetables'}), confidence=0.23671497584541062, lift=2.4833552920509443), OrderedStatistic(items_base=frozenset({'', 'olive oil', 'frozen vegetables'}), items_add=frozenset({'mineral water'}), confidence=0.5764705882352941, lift=2.4184037373338594), OrderedStatistic(items_base=frozenset({'', 'olive oil', 'mineral water'}), items_add=frozenset({'frozen vegetables'}), confidence=0.2378640776699029, lift=2.4954104148278904)])\n",
            "RelationRecord(items=frozenset({'', 'shrimp', 'frozen vegetables', 'mineral water'}), support=0.007199040127982935, ordered_statistics=[OrderedStatistic(items_base=frozenset({'frozen vegetables', 'mineral water'}), items_add=frozenset({'', 'shrimp'}), confidence=0.2014925373134328, lift=2.8250383596038495), OrderedStatistic(items_base=frozenset({'shrimp', 'mineral water'}), items_add=frozenset({'', 'frozen vegetables'}), confidence=0.30508474576271183, lift=3.200616332819722), OrderedStatistic(items_base=frozenset({'', 'frozen vegetables', 'mineral water'}), items_add=frozenset({'shrimp'}), confidence=0.2014925373134328, lift=2.8197677656493645), OrderedStatistic(items_base=frozenset({'', 'shrimp', 'mineral water'}), items_add=frozenset({'frozen vegetables'}), confidence=0.3068181818181818, lift=3.218801652892562)])\n",
            "RelationRecord(items=frozenset({'', 'frozen vegetables', 'soup', 'mineral water'}), support=0.005065991201173177, ordered_statistics=[OrderedStatistic(items_base=frozenset({'frozen vegetables', 'soup'}), items_add=frozenset({'', 'mineral water'}), confidence=0.6333333333333333, lift=2.658440589442268), OrderedStatistic(items_base=frozenset({'soup', 'mineral water'}), items_add=frozenset({'', 'frozen vegetables'}), confidence=0.21965317919075145, lift=2.3043615344193378), OrderedStatistic(items_base=frozenset({'', 'frozen vegetables', 'soup'}), items_add=frozenset({'mineral water'}), confidence=0.6333333333333333, lift=2.6569537658463833), OrderedStatistic(items_base=frozenset({'', 'soup', 'mineral water'}), items_add=frozenset({'frozen vegetables'}), confidence=0.21965317919075145, lift=2.3043615344193378)])\n",
            "RelationRecord(items=frozenset({'', 'frozen vegetables', 'spaghetti', 'mineral water'}), support=0.011998400213304892, ordered_statistics=[OrderedStatistic(items_base=frozenset({'spaghetti', 'mineral water'}), items_add=frozenset({'', 'frozen vegetables'}), confidence=0.20089285714285715, lift=2.1075487012987013), OrderedStatistic(items_base=frozenset({'', 'spaghetti', 'mineral water'}), items_add=frozenset({'frozen vegetables'}), confidence=0.20089285714285715, lift=2.1075487012987013)])\n",
            "RelationRecord(items=frozenset({'', 'frozen vegetables', 'tomatoes', 'mineral water'}), support=0.005865884548726837, ordered_statistics=[OrderedStatistic(items_base=frozenset({'tomatoes', 'mineral water'}), items_add=frozenset({'', 'frozen vegetables'}), confidence=0.24043715846994534, lift=2.5224043715846993), OrderedStatistic(items_base=frozenset({'', 'tomatoes', 'mineral water'}), items_add=frozenset({'frozen vegetables'}), confidence=0.24043715846994534, lift=2.5224043715846993)])\n",
            "RelationRecord(items=frozenset({'', 'olive oil', 'frozen vegetables', 'spaghetti'}), support=0.005732568990801226, ordered_statistics=[OrderedStatistic(items_base=frozenset({'olive oil', 'frozen vegetables'}), items_add=frozenset({'', 'spaghetti'}), confidence=0.5058823529411764, lift=2.9055310332402486), OrderedStatistic(items_base=frozenset({'frozen vegetables', 'spaghetti'}), items_add=frozenset({'', 'olive oil'}), confidence=0.20574162679425836, lift=3.1303609383037156), OrderedStatistic(items_base=frozenset({'olive oil', 'spaghetti'}), items_add=frozenset({'', 'frozen vegetables'}), confidence=0.25, lift=2.6227272727272726), OrderedStatistic(items_base=frozenset({'', 'olive oil', 'frozen vegetables'}), items_add=frozenset({'spaghetti'}), confidence=0.5058823529411764, lift=2.9055310332402486), OrderedStatistic(items_base=frozenset({'', 'frozen vegetables', 'spaghetti'}), items_add=frozenset({'olive oil'}), confidence=0.20574162679425836, lift=3.1240241752707125), OrderedStatistic(items_base=frozenset({'', 'olive oil', 'spaghetti'}), items_add=frozenset({'frozen vegetables'}), confidence=0.25, lift=2.6227272727272726)])\n",
            "RelationRecord(items=frozenset({'', 'shrimp', 'frozen vegetables', 'spaghetti'}), support=0.005999200106652446, ordered_statistics=[OrderedStatistic(items_base=frozenset({'shrimp', 'frozen vegetables'}), items_add=frozenset({'', 'spaghetti'}), confidence=0.36, lift=2.067656967840735), OrderedStatistic(items_base=frozenset({'frozen vegetables', 'spaghetti'}), items_add=frozenset({'', 'shrimp'}), confidence=0.21531100478468898, lift=3.0187810222242093), OrderedStatistic(items_base=frozenset({'shrimp', 'spaghetti'}), items_add=frozenset({'', 'frozen vegetables'}), confidence=0.2830188679245283, lift=2.969125214408233), OrderedStatistic(items_base=frozenset({'', 'shrimp', 'frozen vegetables'}), items_add=frozenset({'spaghetti'}), confidence=0.36, lift=2.067656967840735), OrderedStatistic(items_base=frozenset({'', 'frozen vegetables', 'spaghetti'}), items_add=frozenset({'shrimp'}), confidence=0.21531100478468898, lift=3.0131489680782684), OrderedStatistic(items_base=frozenset({'', 'shrimp', 'spaghetti'}), items_add=frozenset({'frozen vegetables'}), confidence=0.2830188679245283, lift=2.969125214408233)])\n",
            "RelationRecord(items=frozenset({'', 'frozen vegetables', 'tomatoes', 'spaghetti'}), support=0.006665777896280496, ordered_statistics=[OrderedStatistic(items_base=frozenset({'frozen vegetables', 'spaghetti'}), items_add=frozenset({'', 'tomatoes'}), confidence=0.23923444976076558, lift=3.4980460188216425), OrderedStatistic(items_base=frozenset({'frozen vegetables', 'tomatoes'}), items_add=frozenset({'', 'spaghetti'}), confidence=0.41322314049586784, lift=2.373343626998089), OrderedStatistic(items_base=frozenset({'tomatoes', 'spaghetti'}), items_add=frozenset({'', 'frozen vegetables'}), confidence=0.3184713375796179, lift=3.341053850607991), OrderedStatistic(items_base=frozenset({'', 'frozen vegetables', 'spaghetti'}), items_add=frozenset({'tomatoes'}), confidence=0.23923444976076558, lift=3.4980460188216425), OrderedStatistic(items_base=frozenset({'', 'frozen vegetables', 'tomatoes'}), items_add=frozenset({'spaghetti'}), confidence=0.41322314049586784, lift=2.373343626998089), OrderedStatistic(items_base=frozenset({'', 'tomatoes', 'spaghetti'}), items_add=frozenset({'frozen vegetables'}), confidence=0.3184713375796179, lift=3.341053850607991)])\n",
            "RelationRecord(items=frozenset({'', 'ground beef', 'grated cheese', 'mineral water'}), support=0.005065991201173177, ordered_statistics=[OrderedStatistic(items_base=frozenset({'grated cheese', 'mineral water'}), items_add=frozenset({'', 'ground beef'}), confidence=0.2900763358778626, lift=2.9523237386972148), OrderedStatistic(items_base=frozenset({'', 'grated cheese', 'mineral water'}), items_add=frozenset({'ground beef'}), confidence=0.2900763358778626, lift=2.9523237386972148)])\n",
            "RelationRecord(items=frozenset({'', 'ground beef', 'grated cheese', 'spaghetti'}), support=0.005332622317024397, ordered_statistics=[OrderedStatistic(items_base=frozenset({'ground beef', 'grated cheese'}), items_add=frozenset({'', 'spaghetti'}), confidence=0.47058823529411764, lift=2.7028195658048824), OrderedStatistic(items_base=frozenset({'grated cheese', 'spaghetti'}), items_add=frozenset({'', 'ground beef'}), confidence=0.3225806451612903, lift=3.283144395325426), OrderedStatistic(items_base=frozenset({'', 'ground beef', 'grated cheese'}), items_add=frozenset({'spaghetti'}), confidence=0.47058823529411764, lift=2.7028195658048824), OrderedStatistic(items_base=frozenset({'', 'grated cheese', 'spaghetti'}), items_add=frozenset({'ground beef'}), confidence=0.3225806451612903, lift=3.283144395325426)])\n",
            "RelationRecord(items=frozenset({'', 'grated cheese', 'spaghetti', 'mineral water'}), support=0.006265831222503666, ordered_statistics=[OrderedStatistic(items_base=frozenset({'grated cheese', 'mineral water'}), items_add=frozenset({'', 'spaghetti'}), confidence=0.35877862595419846, lift=2.060642016295898), OrderedStatistic(items_base=frozenset({'', 'grated cheese', 'mineral water'}), items_add=frozenset({'spaghetti'}), confidence=0.35877862595419846, lift=2.060642016295898)])\n",
            "RelationRecord(items=frozenset({'', 'green tea', 'ground beef', 'spaghetti'}), support=0.006399146780429276, ordered_statistics=[OrderedStatistic(items_base=frozenset({'green tea', 'ground beef'}), items_add=frozenset({'', 'spaghetti'}), confidence=0.43243243243243246, lift=2.483672033442325), OrderedStatistic(items_base=frozenset({'green tea', 'spaghetti'}), items_add=frozenset({'', 'ground beef'}), confidence=0.24120603015075376, lift=2.454934100625243), OrderedStatistic(items_base=frozenset({'', 'green tea', 'ground beef'}), items_add=frozenset({'spaghetti'}), confidence=0.43243243243243246, lift=2.483672033442325), OrderedStatistic(items_base=frozenset({'', 'green tea', 'spaghetti'}), items_add=frozenset({'ground beef'}), confidence=0.24120603015075376, lift=2.454934100625243)])\n",
            "RelationRecord(items=frozenset({'', 'herb & pepper', 'ground beef', 'mineral water'}), support=0.006665777896280496, ordered_statistics=[OrderedStatistic(items_base=frozenset({'herb & pepper', 'mineral water'}), items_add=frozenset({'', 'ground beef'}), confidence=0.39062500000000006, lift=3.975682666214383), OrderedStatistic(items_base=frozenset({'', 'herb & pepper', 'mineral water'}), items_add=frozenset({'ground beef'}), confidence=0.39062500000000006, lift=3.975682666214383)])\n",
            "RelationRecord(items=frozenset({'', 'herb & pepper', 'ground beef', 'spaghetti'}), support=0.006399146780429276, ordered_statistics=[OrderedStatistic(items_base=frozenset({'herb & pepper', 'ground beef'}), items_add=frozenset({'', 'spaghetti'}), confidence=0.39999999999999997, lift=2.29739663093415), OrderedStatistic(items_base=frozenset({'herb & pepper', 'spaghetti'}), items_add=frozenset({'', 'ground beef'}), confidence=0.3934426229508197, lift=4.004359721511667), OrderedStatistic(items_base=frozenset({'', 'herb & pepper', 'ground beef'}), items_add=frozenset({'spaghetti'}), confidence=0.39999999999999997, lift=2.29739663093415), OrderedStatistic(items_base=frozenset({'', 'herb & pepper', 'spaghetti'}), items_add=frozenset({'ground beef'}), confidence=0.3934426229508197, lift=4.004359721511667)])\n",
            "RelationRecord(items=frozenset({'', 'milk', 'ground beef', 'mineral water'}), support=0.011065191307825623, ordered_statistics=[OrderedStatistic(items_base=frozenset({'milk', 'ground beef'}), items_add=frozenset({'', 'mineral water'}), confidence=0.503030303030303, lift=2.111488697834529), OrderedStatistic(items_base=frozenset({'ground beef', 'mineral water'}), items_add=frozenset({'', 'milk'}), confidence=0.2703583061889251, lift=2.0863761879867564), OrderedStatistic(items_base=frozenset({'milk', 'mineral water'}), items_add=frozenset({'', 'ground beef'}), confidence=0.23055555555555557, lift=2.3465362581034226), OrderedStatistic(items_base=frozenset({'', 'milk', 'ground beef'}), items_add=frozenset({'mineral water'}), confidence=0.503030303030303, lift=2.1103077757440176), OrderedStatistic(items_base=frozenset({'', 'ground beef', 'mineral water'}), items_add=frozenset({'milk'}), confidence=0.2703583061889251, lift=2.0863761879867564), OrderedStatistic(items_base=frozenset({'', 'milk', 'mineral water'}), items_add=frozenset({'ground beef'}), confidence=0.23055555555555557, lift=2.3465362581034226)])\n",
            "RelationRecord(items=frozenset({'', 'milk', 'ground beef', 'spaghetti'}), support=0.009732035728569524, ordered_statistics=[OrderedStatistic(items_base=frozenset({'milk', 'ground beef'}), items_add=frozenset({'', 'spaghetti'}), confidence=0.44242424242424244, lift=2.5410599099726205), OrderedStatistic(items_base=frozenset({'milk', 'spaghetti'}), items_add=frozenset({'', 'ground beef'}), confidence=0.2744360902255639, lift=2.7931412656471575), OrderedStatistic(items_base=frozenset({'', 'milk', 'ground beef'}), items_add=frozenset({'spaghetti'}), confidence=0.44242424242424244, lift=2.5410599099726205), OrderedStatistic(items_base=frozenset({'', 'milk', 'spaghetti'}), items_add=frozenset({'ground beef'}), confidence=0.2744360902255639, lift=2.7931412656471575)])\n",
            "RelationRecord(items=frozenset({'', 'olive oil', 'ground beef', 'mineral water'}), support=0.006665777896280496, ordered_statistics=[OrderedStatistic(items_base=frozenset({'olive oil', 'mineral water'}), items_add=frozenset({'', 'ground beef'}), confidence=0.24154589371980675, lift=2.4583931462581687), OrderedStatistic(items_base=frozenset({'', 'olive oil', 'mineral water'}), items_add=frozenset({'ground beef'}), confidence=0.24271844660194175, lift=2.470327093570102)])\n",
            "RelationRecord(items=frozenset({'', 'pancakes', 'ground beef', 'mineral water'}), support=0.007465671243834155, ordered_statistics=[OrderedStatistic(items_base=frozenset({'pancakes', 'ground beef'}), items_add=frozenset({'', 'mineral water'}), confidence=0.5137614678899083, lift=2.156533167678904), OrderedStatistic(items_base=frozenset({'pancakes', 'mineral water'}), items_add=frozenset({'', 'ground beef'}), confidence=0.22134387351778653, lift=2.2527820831165766), OrderedStatistic(items_base=frozenset({'', 'pancakes', 'ground beef'}), items_add=frozenset({'mineral water'}), confidence=0.5137614678899083, lift=2.1553270529318804), OrderedStatistic(items_base=frozenset({'', 'pancakes', 'mineral water'}), items_add=frozenset({'ground beef'}), confidence=0.22134387351778653, lift=2.2527820831165766)])\n",
            "RelationRecord(items=frozenset({'', 'shrimp', 'ground beef', 'mineral water'}), support=0.005065991201173177, ordered_statistics=[OrderedStatistic(items_base=frozenset({'shrimp', 'mineral water'}), items_add=frozenset({'', 'ground beef'}), confidence=0.21468926553672316, lift=2.1850531625386167), OrderedStatistic(items_base=frozenset({'', 'shrimp', 'mineral water'}), items_add=frozenset({'ground beef'}), confidence=0.2159090909090909, lift=2.197468237325768)])\n",
            "RelationRecord(items=frozenset({'', 'ground beef', 'soup', 'mineral water'}), support=0.005065991201173177, ordered_statistics=[OrderedStatistic(items_base=frozenset({'ground beef', 'soup'}), items_add=frozenset({'', 'mineral water'}), confidence=0.5205479452054794, lift=2.185019662555289), OrderedStatistic(items_base=frozenset({'soup', 'mineral water'}), items_add=frozenset({'', 'ground beef'}), confidence=0.21965317919075145, lift=2.235574622944134), OrderedStatistic(items_base=frozenset({'', 'ground beef', 'soup'}), items_add=frozenset({'mineral water'}), confidence=0.5205479452054794, lift=2.1837976157641505), OrderedStatistic(items_base=frozenset({'', 'soup', 'mineral water'}), items_add=frozenset({'ground beef'}), confidence=0.21965317919075145, lift=2.235574622944134)])\n",
            "RelationRecord(items=frozenset({'', 'ground beef', 'spaghetti', 'mineral water'}), support=0.017064391414478068, ordered_statistics=[OrderedStatistic(items_base=frozenset({'ground beef', 'mineral water'}), items_add=frozenset({'', 'spaghetti'}), confidence=0.41693811074918563, lift=2.3946805273580716), OrderedStatistic(items_base=frozenset({'spaghetti', 'mineral water'}), items_add=frozenset({'', 'ground beef'}), confidence=0.2857142857142857, lift=2.90792789300252), OrderedStatistic(items_base=frozenset({'', 'ground beef', 'mineral water'}), items_add=frozenset({'spaghetti'}), confidence=0.41693811074918563, lift=2.3946805273580716), OrderedStatistic(items_base=frozenset({'', 'spaghetti', 'mineral water'}), items_add=frozenset({'ground beef'}), confidence=0.2857142857142857, lift=2.90792789300252)])\n",
            "RelationRecord(items=frozenset({'', 'ground beef', 'tomatoes', 'mineral water'}), support=0.005465937874950006, ordered_statistics=[OrderedStatistic(items_base=frozenset({'tomatoes', 'mineral water'}), items_add=frozenset({'', 'ground beef'}), confidence=0.2240437158469945, lift=2.2802603969719213), OrderedStatistic(items_base=frozenset({'', 'tomatoes', 'mineral water'}), items_add=frozenset({'ground beef'}), confidence=0.2240437158469945, lift=2.2802603969719213)])\n",
            "RelationRecord(items=frozenset({'', 'olive oil', 'ground beef', 'spaghetti'}), support=0.0061325156645780565, ordered_statistics=[OrderedStatistic(items_base=frozenset({'olive oil', 'ground beef'}), items_add=frozenset({'', 'spaghetti'}), confidence=0.4339622641509434, lift=2.4924586090323326), OrderedStatistic(items_base=frozenset({'olive oil', 'spaghetti'}), items_add=frozenset({'', 'ground beef'}), confidence=0.2674418604651163, lift=2.7219557603104985), OrderedStatistic(items_base=frozenset({'', 'olive oil', 'ground beef'}), items_add=frozenset({'spaghetti'}), confidence=0.4339622641509434, lift=2.4924586090323326), OrderedStatistic(items_base=frozenset({'', 'olive oil', 'spaghetti'}), items_add=frozenset({'ground beef'}), confidence=0.2674418604651163, lift=2.7219557603104985)])\n",
            "RelationRecord(items=frozenset({'', 'pancakes', 'ground beef', 'spaghetti'}), support=0.006399146780429276, ordered_statistics=[OrderedStatistic(items_base=frozenset({'pancakes', 'ground beef'}), items_add=frozenset({'', 'spaghetti'}), confidence=0.44036697247706424, lift=2.5292439973586975), OrderedStatistic(items_base=frozenset({'pancakes', 'spaghetti'}), items_add=frozenset({'', 'ground beef'}), confidence=0.253968253968254, lift=2.584824793780018), OrderedStatistic(items_base=frozenset({'', 'pancakes', 'ground beef'}), items_add=frozenset({'spaghetti'}), confidence=0.44036697247706424, lift=2.5292439973586975), OrderedStatistic(items_base=frozenset({'', 'pancakes', 'spaghetti'}), items_add=frozenset({'ground beef'}), confidence=0.253968253968254, lift=2.584824793780018)])\n",
            "RelationRecord(items=frozenset({'', 'shrimp', 'ground beef', 'spaghetti'}), support=0.005999200106652446, ordered_statistics=[OrderedStatistic(items_base=frozenset({'shrimp', 'ground beef'}), items_add=frozenset({'', 'spaghetti'}), confidence=0.5232558139534884, lift=3.005315360233627), OrderedStatistic(items_base=frozenset({'shrimp', 'spaghetti'}), items_add=frozenset({'', 'ground beef'}), confidence=0.2830188679245283, lift=2.880494610993062), OrderedStatistic(items_base=frozenset({'', 'shrimp', 'ground beef'}), items_add=frozenset({'spaghetti'}), confidence=0.5232558139534884, lift=3.005315360233627), OrderedStatistic(items_base=frozenset({'', 'shrimp', 'spaghetti'}), items_add=frozenset({'ground beef'}), confidence=0.2830188679245283, lift=2.880494610993062)])\n",
            "RelationRecord(items=frozenset({'', 'ground beef', 'tomatoes', 'spaghetti'}), support=0.005599253432875617, ordered_statistics=[OrderedStatistic(items_base=frozenset({'ground beef', 'tomatoes'}), items_add=frozenset({'', 'spaghetti'}), confidence=0.4772727272727273, lift=2.741211889182793), OrderedStatistic(items_base=frozenset({'tomatoes', 'spaghetti'}), items_add=frozenset({'', 'ground beef'}), confidence=0.267515923566879, lift=2.7227095558686014), OrderedStatistic(items_base=frozenset({'', 'ground beef', 'tomatoes'}), items_add=frozenset({'spaghetti'}), confidence=0.4772727272727273, lift=2.741211889182793), OrderedStatistic(items_base=frozenset({'', 'tomatoes', 'spaghetti'}), items_add=frozenset({'ground beef'}), confidence=0.267515923566879, lift=2.7227095558686014)])\n",
            "RelationRecord(items=frozenset({'', 'herb & pepper', 'spaghetti', 'mineral water'}), support=0.005999200106652446, ordered_statistics=[OrderedStatistic(items_base=frozenset({'herb & pepper', 'mineral water'}), items_add=frozenset({'', 'spaghetti'}), confidence=0.3515625, lift=2.0191962576569678), OrderedStatistic(items_base=frozenset({'', 'herb & pepper', 'mineral water'}), items_add=frozenset({'spaghetti'}), confidence=0.3515625, lift=2.0191962576569678)])\n",
            "RelationRecord(items=frozenset({'', 'milk', 'olive oil', 'mineral water'}), support=0.008532195707239034, ordered_statistics=[OrderedStatistic(items_base=frozenset({'milk', 'olive oil'}), items_add=frozenset({'', 'mineral water'}), confidence=0.5, lift=2.098768886401791), OrderedStatistic(items_base=frozenset({'olive oil', 'mineral water'}), items_add=frozenset({'', 'milk'}), confidence=0.3091787439613526, lift=2.3859565416194504), OrderedStatistic(items_base=frozenset({'', 'milk', 'olive oil'}), items_add=frozenset({'mineral water'}), confidence=0.5, lift=2.0975950782997765), OrderedStatistic(items_base=frozenset({'', 'olive oil', 'mineral water'}), items_add=frozenset({'milk'}), confidence=0.3106796116504854, lift=2.3975388549282832)])\n",
            "RelationRecord(items=frozenset({'', 'shrimp', 'milk', 'mineral water'}), support=0.007865617917610986, ordered_statistics=[OrderedStatistic(items_base=frozenset({'shrimp', 'mineral water'}), items_add=frozenset({'', 'milk'}), confidence=0.3333333333333333, lift=2.5723593964334706), OrderedStatistic(items_base=frozenset({'', 'shrimp', 'mineral water'}), items_add=frozenset({'milk'}), confidence=0.3352272727272727, lift=2.586975074822297)])\n",
            "RelationRecord(items=frozenset({'', 'milk', 'soup', 'mineral water'}), support=0.008532195707239034, ordered_statistics=[OrderedStatistic(items_base=frozenset({'milk', 'soup'}), items_add=frozenset({'', 'mineral water'}), confidence=0.5614035087719298, lift=2.356512433854642), OrderedStatistic(items_base=frozenset({'soup', 'mineral water'}), items_add=frozenset({'', 'milk'}), confidence=0.3699421965317919, lift=2.8548728561573777), OrderedStatistic(items_base=frozenset({'', 'milk', 'soup'}), items_add=frozenset({'mineral water'}), confidence=0.5614035087719298, lift=2.3551944738804504), OrderedStatistic(items_base=frozenset({'', 'soup', 'mineral water'}), items_add=frozenset({'milk'}), confidence=0.3699421965317919, lift=2.8548728561573777)])\n",
            "RelationRecord(items=frozenset({'', 'milk', 'spaghetti', 'mineral water'}), support=0.01573123583522197, ordered_statistics=[OrderedStatistic(items_base=frozenset({'spaghetti', 'mineral water'}), items_add=frozenset({'', 'milk'}), confidence=0.26339285714285715, lift=2.032623273074662), OrderedStatistic(items_base=frozenset({'', 'spaghetti', 'mineral water'}), items_add=frozenset({'milk'}), confidence=0.26339285714285715, lift=2.032623273074662)])\n",
            "RelationRecord(items=frozenset({'', 'milk', 'tomatoes', 'mineral water'}), support=0.006532462338354886, ordered_statistics=[OrderedStatistic(items_base=frozenset({'tomatoes', 'mineral water'}), items_add=frozenset({'', 'milk'}), confidence=0.2677595628415301, lift=2.066321482380985), OrderedStatistic(items_base=frozenset({'', 'tomatoes', 'mineral water'}), items_add=frozenset({'milk'}), confidence=0.2677595628415301, lift=2.066321482380985)])\n",
            "RelationRecord(items=frozenset({'', 'turkey', 'milk', 'mineral water'}), support=0.0061325156645780565, ordered_statistics=[OrderedStatistic(items_base=frozenset({'turkey', 'milk'}), items_add=frozenset({'', 'mineral water'}), confidence=0.5411764705882353, lift=2.2716086770466437), OrderedStatistic(items_base=frozenset({'turkey', 'mineral water'}), items_add=frozenset({'', 'milk'}), confidence=0.3194444444444445, lift=2.4651777549154095), OrderedStatistic(items_base=frozenset({'', 'turkey', 'milk'}), items_add=frozenset({'mineral water'}), confidence=0.5411764705882353, lift=2.270338202395052), OrderedStatistic(items_base=frozenset({'', 'turkey', 'mineral water'}), items_add=frozenset({'milk'}), confidence=0.3194444444444445, lift=2.4651777549154095)])\n",
            "RelationRecord(items=frozenset({'', 'milk', 'olive oil', 'spaghetti'}), support=0.007199040127982935, ordered_statistics=[OrderedStatistic(items_base=frozenset({'milk', 'olive oil'}), items_add=frozenset({'', 'spaghetti'}), confidence=0.421875, lift=2.4230355091883613), OrderedStatistic(items_base=frozenset({'milk', 'spaghetti'}), items_add=frozenset({'', 'olive oil'}), confidence=0.20300751879699247, lift=3.088761457396025), OrderedStatistic(items_base=frozenset({'olive oil', 'spaghetti'}), items_add=frozenset({'', 'milk'}), confidence=0.313953488372093, lift=2.4228036175710597), OrderedStatistic(items_base=frozenset({'', 'milk', 'olive oil'}), items_add=frozenset({'spaghetti'}), confidence=0.421875, lift=2.4230355091883613), OrderedStatistic(items_base=frozenset({'', 'milk', 'spaghetti'}), items_add=frozenset({'olive oil'}), confidence=0.20300751879699247, lift=3.0825089038385434), OrderedStatistic(items_base=frozenset({'', 'olive oil', 'spaghetti'}), items_add=frozenset({'milk'}), confidence=0.313953488372093, lift=2.4228036175710597)])\n",
            "RelationRecord(items=frozenset({'', 'milk', 'tomatoes', 'spaghetti'}), support=0.005865884548726837, ordered_statistics=[OrderedStatistic(items_base=frozenset({'milk', 'tomatoes'}), items_add=frozenset({'', 'spaghetti'}), confidence=0.41904761904761906, lift=2.406796470502443), OrderedStatistic(items_base=frozenset({'tomatoes', 'spaghetti'}), items_add=frozenset({'', 'milk'}), confidence=0.28025477707006374, lift=2.1627480275746382), OrderedStatistic(items_base=frozenset({'', 'milk', 'tomatoes'}), items_add=frozenset({'spaghetti'}), confidence=0.41904761904761906, lift=2.406796470502443), OrderedStatistic(items_base=frozenset({'', 'tomatoes', 'spaghetti'}), items_add=frozenset({'milk'}), confidence=0.28025477707006374, lift=2.1627480275746382)])\n",
            "RelationRecord(items=frozenset({'', 'olive oil', 'soup', 'mineral water'}), support=0.005199306759098787, ordered_statistics=[OrderedStatistic(items_base=frozenset({'soup', 'mineral water'}), items_add=frozenset({'', 'olive oil'}), confidence=0.22543352601156072, lift=3.429973384609973), OrderedStatistic(items_base=frozenset({'olive oil', 'soup'}), items_add=frozenset({'', 'mineral water'}), confidence=0.582089552238806, lift=2.4433428826767116), OrderedStatistic(items_base=frozenset({'', 'soup', 'mineral water'}), items_add=frozenset({'olive oil'}), confidence=0.22543352601156072, lift=3.4230301186492245), OrderedStatistic(items_base=frozenset({'', 'olive oil', 'soup'}), items_add=frozenset({'mineral water'}), confidence=0.582089552238806, lift=2.44197635981168)])\n",
            "RelationRecord(items=frozenset({'', 'olive oil', 'spaghetti', 'mineral water'}), support=0.010265297960271964, ordered_statistics=[OrderedStatistic(items_base=frozenset({'olive oil', 'mineral water'}), items_add=frozenset({'', 'spaghetti'}), confidence=0.3719806763285024, lift=2.13646788142427), OrderedStatistic(items_base=frozenset({'', 'olive oil', 'mineral water'}), items_add=frozenset({'spaghetti'}), confidence=0.3737864077669903, lift=2.146839084732155)])\n",
            "RelationRecord(items=frozenset({'', 'spaghetti', 'salmon', 'mineral water'}), support=0.006799093454206106, ordered_statistics=[OrderedStatistic(items_base=frozenset({'salmon', 'mineral water'}), items_add=frozenset({'', 'spaghetti'}), confidence=0.39843750000000006, lift=2.2884224253445637), OrderedStatistic(items_base=frozenset({'salmon', 'spaghetti'}), items_add=frozenset({'', 'mineral water'}), confidence=0.504950495049505, lift=2.1195487763661647), OrderedStatistic(items_base=frozenset({'', 'salmon', 'mineral water'}), items_add=frozenset({'spaghetti'}), confidence=0.40157480314960625, lift=2.3064414995598748), OrderedStatistic(items_base=frozenset({'', 'salmon', 'spaghetti'}), items_add=frozenset({'mineral water'}), confidence=0.504950495049505, lift=2.1183633464017544)])\n",
            "RelationRecord(items=frozenset({'', 'shrimp', 'spaghetti', 'mineral water'}), support=0.008532195707239034, ordered_statistics=[OrderedStatistic(items_base=frozenset({'shrimp', 'mineral water'}), items_add=frozenset({'', 'spaghetti'}), confidence=0.36158192090395475, lift=2.07674271722861), OrderedStatistic(items_base=frozenset({'', 'shrimp', 'mineral water'}), items_add=frozenset({'spaghetti'}), confidence=0.3636363636363636, lift=2.088542391758318)])\n",
            "RelationRecord(items=frozenset({'', 'spaghetti', 'soup', 'mineral water'}), support=0.007465671243834155, ordered_statistics=[OrderedStatistic(items_base=frozenset({'spaghetti', 'soup'}), items_add=frozenset({'', 'mineral water'}), confidence=0.5233644859813084, lift=2.1968421988504723), OrderedStatistic(items_base=frozenset({'', 'spaghetti', 'soup'}), items_add=frozenset({'mineral water'}), confidence=0.5233644859813084, lift=2.1956135399025696)])\n",
            "RelationRecord(items=frozenset({'', 'tomatoes', 'spaghetti', 'mineral water'}), support=0.009332089054792695, ordered_statistics=[OrderedStatistic(items_base=frozenset({'tomatoes', 'mineral water'}), items_add=frozenset({'', 'spaghetti'}), confidence=0.38251366120218583, lift=2.1969639913304717), OrderedStatistic(items_base=frozenset({'', 'tomatoes', 'mineral water'}), items_add=frozenset({'spaghetti'}), confidence=0.38251366120218583, lift=2.1969639913304717)])\n",
            "RelationRecord(items=frozenset({'', 'pancakes', 'olive oil', 'spaghetti'}), support=0.005065991201173177, ordered_statistics=[OrderedStatistic(items_base=frozenset({'pancakes', 'olive oil'}), items_add=frozenset({'', 'spaghetti'}), confidence=0.4691358024691358, lift=2.6944775301079535), OrderedStatistic(items_base=frozenset({'olive oil', 'spaghetti'}), items_add=frozenset({'', 'pancakes'}), confidence=0.22093023255813954, lift=2.3242604129293194), OrderedStatistic(items_base=frozenset({'pancakes', 'spaghetti'}), items_add=frozenset({'', 'olive oil'}), confidence=0.20105820105820105, lift=3.0591025682303568), OrderedStatistic(items_base=frozenset({'', 'pancakes', 'olive oil'}), items_add=frozenset({'spaghetti'}), confidence=0.4691358024691358, lift=2.6944775301079535), OrderedStatistic(items_base=frozenset({'', 'olive oil', 'spaghetti'}), items_add=frozenset({'pancakes'}), confidence=0.22093023255813954, lift=2.3242604129293194), OrderedStatistic(items_base=frozenset({'', 'pancakes', 'spaghetti'}), items_add=frozenset({'olive oil'}), confidence=0.20105820105820105, lift=3.0529100529100526)])\n"
          ],
          "name": "stdout"
        }
      ]
    },
    {
      "cell_type": "code",
      "metadata": {
        "colab": {
          "base_uri": "https://localhost:8080/"
        },
        "id": "XKbE8KZSJtyh",
        "outputId": "4fbaea33-c4e7-4a4b-afb0-26c15de98cc9"
      },
      "source": [
        "rule_list[0]"
      ],
      "execution_count": null,
      "outputs": [
        {
          "output_type": "execute_result",
          "data": {
            "text/plain": [
              "RelationRecord(items=frozenset({'almonds', 'burgers'}), support=0.005199306759098787, ordered_statistics=[OrderedStatistic(items_base=frozenset({'almonds'}), items_add=frozenset({'burgers'}), confidence=0.25490196078431376, lift=2.923577382023146)])"
            ]
          },
          "metadata": {
            "tags": []
          },
          "execution_count": 36
        }
      ]
    },
    {
      "cell_type": "code",
      "metadata": {
        "colab": {
          "base_uri": "https://localhost:8080/"
        },
        "id": "OeKHnnyALxZP",
        "outputId": "e593e1b8-5d1e-4db3-e734-d69873c6b3c7"
      },
      "source": [
        "count = 0\r\n",
        "for item in rule_list:\r\n",
        "  product_set = item[0]\r\n",
        "  products = [x for x in product_set]\r\n",
        "  if products[0] != \"\":\r\n",
        "    count = count + 1\r\n",
        "    print(\"Rule \" + str(count) + \": \" + products[0] + \" ==> \"+ products[1])\r\n",
        "    print(\"Support: \", item[1])\r\n",
        "    print(\"Confidence: \", item[2][0][2])\r\n",
        "    print(\"Lift: \", item[2][0][3])\r\n",
        "    print(\"=======\")\r\n",
        "\r\n"
      ],
      "execution_count": null,
      "outputs": [
        {
          "output_type": "stream",
          "text": [
            "Rule 1: almonds ==> burgers\n",
            "Support:  0.005199306759098787\n",
            "Confidence:  0.25490196078431376\n",
            "Lift:  2.923577382023146\n",
            "=======\n",
            "Rule 2: ham ==> burgers\n",
            "Support:  0.005599253432875617\n",
            "Confidence:  0.21105527638190955\n",
            "Lift:  2.420681388594348\n",
            "=======\n",
            "Rule 3: cereals ==> milk\n",
            "Support:  0.007065724570057326\n",
            "Confidence:  0.2746113989637306\n",
            "Lift:  2.119197637476279\n",
            "=======\n",
            "Rule 4: tomato sauce ==> chocolate\n",
            "Support:  0.005065991201173177\n",
            "Confidence:  0.3584905660377358\n",
            "Lift:  2.1879883936932925\n",
            "=======\n",
            "Rule 5: mushroom cream sauce ==> escalope\n",
            "Support:  0.005732568990801226\n",
            "Confidence:  0.3006993006993007\n",
            "Lift:  3.790832696715049\n",
            "=======\n",
            "Rule 6: pasta ==> escalope\n",
            "Support:  0.005865884548726837\n",
            "Confidence:  0.3728813559322034\n",
            "Lift:  4.700811850163794\n",
            "=======\n",
            "Rule 7: extra dark chocolate ==> mineral water\n",
            "Support:  0.005732568990801226\n",
            "Confidence:  0.47777777777777775\n",
            "Lift:  2.0043686303753416\n",
            "=======\n",
            "Rule 8: fresh tuna ==> pancakes\n",
            "Support:  0.005065991201173177\n",
            "Confidence:  0.2275449101796407\n",
            "Lift:  2.3938490480469636\n",
            "=======\n",
            "Rule 9: parmesan cheese ==> frozen vegetables\n",
            "Support:  0.005465937874950006\n",
            "Confidence:  0.27516778523489926\n",
            "Lift:  2.886760219646125\n",
            "=======\n",
            "Rule 10: shrimp ==> frozen vegetables\n",
            "Support:  0.01666444474070124\n",
            "Confidence:  0.23320895522388058\n",
            "Lift:  2.44657394843962\n",
            "=======\n",
            "Rule 11: frozen vegetables ==> tomatoes\n",
            "Support:  0.0161311825089988\n",
            "Confidence:  0.23586744639376217\n",
            "Lift:  2.4744639376218323\n",
            "=======\n",
            "Rule 12: ground beef ==> grated cheese\n",
            "Support:  0.011331822423676844\n",
            "Confidence:  0.2162849872773537\n",
            "Lift:  2.201294015695292\n",
            "=======\n",
            "Rule 13: herb & pepper ==> ground beef\n",
            "Support:  0.015997866951073192\n",
            "Confidence:  0.3234501347708895\n",
            "Lift:  3.2919938411349285\n",
            "=======\n",
            "Rule 14: olive oil ==> ground beef\n",
            "Support:  0.014131449140114652\n",
            "Confidence:  0.2145748987854251\n",
            "Lift:  2.183889166607156\n",
            "=======\n",
            "Rule 15: pepper ==> ground beef\n",
            "Support:  0.006532462338354886\n",
            "Confidence:  0.24623115577889446\n",
            "Lift:  2.5060785610549354\n",
            "=======\n",
            "Rule 16: ground beef ==> salmon\n",
            "Support:  0.008932142381015865\n",
            "Confidence:  0.21003134796238246\n",
            "Lift:  2.137646053006555\n",
            "=======\n",
            "Rule 17: ground beef ==> spaghetti\n",
            "Support:  0.03919477403012932\n",
            "Confidence:  0.3989145183175034\n",
            "Lift:  2.291162176033379\n",
            "=======\n",
            "Rule 18: tomato sauce ==> ground beef\n",
            "Support:  0.005332622317024397\n",
            "Confidence:  0.3773584905660377\n",
            "Lift:  3.840659481324083\n",
            "=======\n",
            "Rule 19: light mayo ==> pancakes\n",
            "Support:  0.005465937874950006\n",
            "Confidence:  0.20098039215686272\n",
            "Lift:  2.1143813766740918\n",
            "=======\n",
            "Rule 20: milk ==> meatballs\n",
            "Support:  0.005465937874950006\n",
            "Confidence:  0.2611464968152866\n",
            "Lift:  2.0152879347854578\n",
            "=======\n",
            "Rule 21: milk ==> soup\n",
            "Support:  0.015197973603519531\n",
            "Confidence:  0.3007915567282322\n",
            "Lift:  2.3212319619531585\n",
            "=======\n",
            "Rule 22: milk ==> whole wheat pasta\n",
            "Support:  0.009865351286495135\n",
            "Confidence:  0.33484162895927605\n",
            "Lift:  2.5839990317114503\n",
            "=======\n",
            "Rule 23: nonfat milk ==> mineral water\n",
            "Support:  0.005065991201173177\n",
            "Confidence:  0.4871794871794871\n",
            "Lift:  2.0438105891126024\n",
            "=======\n",
            "Rule 24: olive oil ==> whole wheat pasta\n",
            "Support:  0.007998933475536596\n",
            "Confidence:  0.2714932126696833\n",
            "Lift:  4.122410097642296\n",
            "=======\n",
            "Rule 25: pasta ==> shrimp\n",
            "Support:  0.005065991201173177\n",
            "Confidence:  0.3220338983050847\n",
            "Lift:  4.506672147735896\n",
            "=======\n",
            "Rule 26: pepper ==> spaghetti\n",
            "Support:  0.009865351286495135\n",
            "Confidence:  0.37185929648241206\n",
            "Lift:  2.1357707373005916\n",
            "=======\n",
            "Rule 27: red wine ==> spaghetti\n",
            "Support:  0.010265297960271964\n",
            "Confidence:  0.36492890995260663\n",
            "Lift:  2.095966120638976\n",
            "=======\n",
            "Rule 28: tomato sauce ==> spaghetti\n",
            "Support:  0.006265831222503666\n",
            "Confidence:  0.4433962264150943\n",
            "Lift:  2.546642491837383\n",
            "=======\n",
            "Rule 29: milk ==> burgers\n",
            "Support:  0.005465937874950006\n",
            "Confidence:  0.3203125\n",
            "Lift:  2.4718766075102883\n",
            "=======\n",
            "Rule 30: burgers ==> spaghetti\n",
            "Support:  0.006399146780429276\n",
            "Confidence:  0.37500000000000006\n",
            "Lift:  2.153809341500766\n",
            "=======\n",
            "Rule 31: eggs ==> burgers\n",
            "Support:  0.009065457938941474\n",
            "Confidence:  0.4121212121212121\n",
            "Lift:  2.293264994155202\n",
            "=======\n",
            "Rule 32: green tea ==> eggs\n",
            "Support:  0.005999200106652446\n",
            "Confidence:  0.23560209424083767\n",
            "Lift:  2.7022191267592097\n",
            "=======\n",
            "Rule 33: milk ==> burgers\n",
            "Support:  0.005599253432875617\n",
            "Confidence:  0.23595505617977527\n",
            "Lift:  2.7062673951139056\n",
            "=======\n",
            "Rule 34: burgers ==> french fries\n",
            "Support:  0.005599253432875617\n",
            "Confidence:  0.20289855072463767\n",
            "Lift:  2.3271284846873197\n",
            "=======\n",
            "Rule 35: burgers ==> ground beef\n",
            "Support:  0.005332622317024397\n",
            "Confidence:  0.2185792349726776\n",
            "Lift:  2.2246442897287038\n",
            "=======\n",
            "Rule 36: burgers ==> ground beef\n",
            "Support:  0.005465937874950006\n",
            "Confidence:  0.45555555555555555\n",
            "Lift:  2.616479496341671\n",
            "=======\n",
            "Rule 37: milk ==> burgers\n",
            "Support:  0.006932409012131715\n",
            "Confidence:  0.28415300546448086\n",
            "Lift:  2.192830960894106\n",
            "=======\n",
            "Rule 38: milk ==> burgers\n",
            "Support:  0.006399146780429276\n",
            "Confidence:  0.3582089552238806\n",
            "Lift:  2.0573701172544627\n",
            "=======\n",
            "Rule 39: cake ==> spaghetti\n",
            "Support:  0.005199306759098787\n",
            "Confidence:  0.3823529411764706\n",
            "Lift:  2.1960408972164673\n",
            "=======\n",
            "Rule 40: cake ==> milk\n",
            "Support:  0.006399146780429276\n",
            "Confidence:  0.48\n",
            "Lift:  2.013691275167785\n",
            "=======\n",
            "Rule 41: mineral water ==> chicken\n",
            "Support:  0.007598986801759766\n",
            "Confidence:  0.5181818181818182\n",
            "Lift:  2.1738712629652226\n",
            "=======\n",
            "Rule 42: chicken ==> milk\n",
            "Support:  0.006665777896280496\n",
            "Confidence:  0.29239766081871343\n",
            "Lift:  2.256455610906553\n",
            "=======\n",
            "Rule 43: chicken ==> milk\n",
            "Support:  0.005465937874950006\n",
            "Confidence:  0.3693693693693693\n",
            "Lift:  2.121469861898652\n",
            "=======\n",
            "Rule 44: eggs ==> milk\n",
            "Support:  0.009198773496867084\n",
            "Confidence:  0.27710843373493976\n",
            "Lift:  2.138467450047102\n",
            "=======\n",
            "Rule 45: mineral water ==> escalope\n",
            "Support:  0.005599253432875617\n",
            "Confidence:  0.32812500000000006\n",
            "Lift:  2.00265713995118\n",
            "=======\n",
            "Rule 46: ground beef ==> frozen vegetables\n",
            "Support:  0.005732568990801226\n",
            "Confidence:  0.25\n",
            "Lift:  2.544436906377205\n",
            "=======\n",
            "Rule 47: milk ==> frozen vegetables\n",
            "Support:  0.007998933475536596\n",
            "Confidence:  0.34883720930232565\n",
            "Lift:  2.6920040195234\n",
            "=======\n",
            "Rule 48: shrimp ==> frozen vegetables\n",
            "Support:  0.005332622317024397\n",
            "Confidence:  0.23255813953488375\n",
            "Lift:  3.2545123221103784\n",
            "=======\n",
            "Rule 49: frozen vegetables ==> spaghetti\n",
            "Support:  0.007865617917610986\n",
            "Confidence:  0.20068027210884354\n",
            "Lift:  2.1053184910327767\n",
            "=======\n",
            "Rule 50: milk ==> ground beef\n",
            "Support:  0.0061325156645780565\n",
            "Confidence:  0.26589595375722547\n",
            "Lift:  2.051939865363116\n",
            "=======\n",
            "Rule 51: mineral water ==> ground beef\n",
            "Support:  0.010931875749900012\n",
            "Confidence:  0.20759493670886073\n",
            "Lift:  2.112848874156261\n",
            "=======\n",
            "Rule 52: ground beef ==> spaghetti\n",
            "Support:  0.009198773496867084\n",
            "Confidence:  0.3988439306358382\n",
            "Lift:  2.290756756278271\n",
            "=======\n",
            "Rule 53: mineral water ==> milk\n",
            "Support:  0.013998133582189041\n",
            "Confidence:  0.26582278481012656\n",
            "Lift:  2.0513752148773245\n",
            "=======\n",
            "Rule 54: milk ==> olive oil\n",
            "Support:  0.005199306759098787\n",
            "Confidence:  0.3170731707317073\n",
            "Lift:  2.4468784502659844\n",
            "=======\n",
            "Rule 55: shrimp ==> milk\n",
            "Support:  0.005465937874950006\n",
            "Confidence:  0.3037037037037037\n",
            "Lift:  2.3437052278616064\n",
            "=======\n",
            "Rule 56: milk ==> spaghetti\n",
            "Support:  0.010931875749900012\n",
            "Confidence:  0.2789115646258503\n",
            "Lift:  2.152382352117802\n",
            "=======\n",
            "Rule 57: mineral water ==> olive oil\n",
            "Support:  0.008265564591387815\n",
            "Confidence:  0.5040650406504065\n",
            "Lift:  2.1146486968225386\n",
            "=======\n",
            "Rule 58: mineral water ==> soup\n",
            "Support:  0.005599253432875617\n",
            "Confidence:  0.5526315789473685\n",
            "Lift:  2.3183945602260687\n",
            "=======\n",
            "Rule 59: olive oil ==> spaghetti\n",
            "Support:  0.007065724570057326\n",
            "Confidence:  0.43089430894308944\n",
            "Lift:  2.4748378341363813\n",
            "=======\n",
            "Rule 60: shrimp ==> spaghetti\n",
            "Support:  0.006399146780429276\n",
            "Confidence:  0.3555555555555556\n",
            "Lift:  2.0421303386081338\n",
            "=======\n",
            "Rule 61: cooking oil ==> eggs\n",
            "Support:  0.006399146780429276\n",
            "Confidence:  0.5454545454545454\n",
            "Lift:  2.2882855399633923\n",
            "=======\n",
            "Rule 62: cooking oil ==> spaghetti\n",
            "Support:  0.007598986801759766\n",
            "Confidence:  0.3774834437086093\n",
            "Lift:  2.16807297952395\n",
            "=======\n",
            "Rule 63: eggs ==> milk\n",
            "Support:  0.007332355685908546\n",
            "Confidence:  0.3374233128834356\n",
            "Lift:  2.6039220884142495\n",
            "=======\n",
            "Rule 64: eggs ==> milk\n",
            "Support:  0.005865884548726837\n",
            "Confidence:  0.29333333333333333\n",
            "Lift:  2.2636762688614542\n",
            "=======\n",
            "Rule 65: eggs ==> ground beef\n",
            "Support:  0.010131982402346354\n",
            "Confidence:  0.5066666666666667\n",
            "Lift:  2.125563012677107\n",
            "=======\n",
            "Rule 66: eggs ==> ground beef\n",
            "Support:  0.008932142381015865\n",
            "Confidence:  0.4466666666666667\n",
            "Lift:  2.565426237876468\n",
            "=======\n",
            "Rule 67: eggs ==> olive oil\n",
            "Support:  0.005865884548726837\n",
            "Confidence:  0.48888888888888893\n",
            "Lift:  2.050981854337559\n",
            "=======\n",
            "Rule 68: eggs ==> olive oil\n",
            "Support:  0.005065991201173177\n",
            "Confidence:  0.4222222222222222\n",
            "Lift:  2.4250297770971585\n",
            "=======\n",
            "Rule 69: milk ==> frozen vegetables\n",
            "Support:  0.005732568990801226\n",
            "Confidence:  0.3006993006993007\n",
            "Lift:  2.3205200149644596\n",
            "=======\n",
            "Rule 70: ground beef ==> french fries\n",
            "Support:  0.005599253432875617\n",
            "Confidence:  0.40384615384615385\n",
            "Lift:  2.319486983154671\n",
            "=======\n",
            "Rule 71: pancakes ==> french fries\n",
            "Support:  0.005732568990801226\n",
            "Confidence:  0.2077294685990338\n",
            "Lift:  2.185383932624618\n",
            "=======\n",
            "Rule 72: milk ==> frozen smoothie\n",
            "Support:  0.0061325156645780565\n",
            "Confidence:  0.3026315789473684\n",
            "Lift:  2.3354315572882824\n",
            "=======\n",
            "Rule 73: milk ==> frozen smoothie\n",
            "Support:  0.005599253432875617\n",
            "Confidence:  0.3925233644859813\n",
            "Lift:  2.254454637832577\n",
            "=======\n",
            "Rule 74: ground beef ==> milk\n",
            "Support:  0.005732568990801226\n",
            "Confidence:  0.3385826771653543\n",
            "Lift:  2.612868993227698\n",
            "=======\n",
            "Rule 75: ground beef ==> frozen vegetables\n",
            "Support:  0.009198773496867084\n",
            "Confidence:  0.5433070866141732\n",
            "Lift:  2.2792765417745597\n",
            "=======\n",
            "Rule 76: ground beef ==> frozen vegetables\n",
            "Support:  0.008665511265164644\n",
            "Confidence:  0.5118110236220472\n",
            "Lift:  2.939582303360625\n",
            "=======\n",
            "Rule 77: milk ==> frozen vegetables\n",
            "Support:  0.011065191307825623\n",
            "Confidence:  0.3097014925373134\n",
            "Lift:  2.3899906332534853\n",
            "=======\n",
            "Rule 78: milk ==> frozen vegetables\n",
            "Support:  0.008265564591387815\n",
            "Confidence:  0.3502824858757062\n",
            "Lift:  2.011844507315216\n",
            "=======\n",
            "Rule 79: olive oil ==> frozen vegetables\n",
            "Support:  0.006532462338354886\n",
            "Confidence:  0.5764705882352941\n",
            "Lift:  2.4184037373338594\n",
            "=======\n",
            "Rule 80: shrimp ==> frozen vegetables\n",
            "Support:  0.007199040127982935\n",
            "Confidence:  0.2014925373134328\n",
            "Lift:  2.8197677656493645\n",
            "=======\n",
            "Rule 81: frozen vegetables ==> soup\n",
            "Support:  0.005065991201173177\n",
            "Confidence:  0.6333333333333333\n",
            "Lift:  2.6569537658463833\n",
            "=======\n",
            "Rule 82: frozen vegetables ==> spaghetti\n",
            "Support:  0.011998400213304892\n",
            "Confidence:  0.20089285714285715\n",
            "Lift:  2.1075487012987013\n",
            "=======\n",
            "Rule 83: frozen vegetables ==> tomatoes\n",
            "Support:  0.005865884548726837\n",
            "Confidence:  0.24043715846994534\n",
            "Lift:  2.5224043715846993\n",
            "=======\n",
            "Rule 84: olive oil ==> frozen vegetables\n",
            "Support:  0.005732568990801226\n",
            "Confidence:  0.5058823529411764\n",
            "Lift:  2.9055310332402486\n",
            "=======\n",
            "Rule 85: shrimp ==> frozen vegetables\n",
            "Support:  0.005999200106652446\n",
            "Confidence:  0.36\n",
            "Lift:  2.067656967840735\n",
            "=======\n",
            "Rule 86: frozen vegetables ==> tomatoes\n",
            "Support:  0.006665777896280496\n",
            "Confidence:  0.23923444976076558\n",
            "Lift:  3.4980460188216425\n",
            "=======\n",
            "Rule 87: ground beef ==> grated cheese\n",
            "Support:  0.005065991201173177\n",
            "Confidence:  0.2900763358778626\n",
            "Lift:  2.9523237386972148\n",
            "=======\n",
            "Rule 88: ground beef ==> grated cheese\n",
            "Support:  0.005332622317024397\n",
            "Confidence:  0.47058823529411764\n",
            "Lift:  2.7028195658048824\n",
            "=======\n",
            "Rule 89: grated cheese ==> spaghetti\n",
            "Support:  0.006265831222503666\n",
            "Confidence:  0.35877862595419846\n",
            "Lift:  2.060642016295898\n",
            "=======\n",
            "Rule 90: green tea ==> ground beef\n",
            "Support:  0.006399146780429276\n",
            "Confidence:  0.43243243243243246\n",
            "Lift:  2.483672033442325\n",
            "=======\n",
            "Rule 91: herb & pepper ==> ground beef\n",
            "Support:  0.006665777896280496\n",
            "Confidence:  0.39062500000000006\n",
            "Lift:  3.975682666214383\n",
            "=======\n",
            "Rule 92: herb & pepper ==> ground beef\n",
            "Support:  0.006399146780429276\n",
            "Confidence:  0.39999999999999997\n",
            "Lift:  2.29739663093415\n",
            "=======\n",
            "Rule 93: milk ==> ground beef\n",
            "Support:  0.011065191307825623\n",
            "Confidence:  0.503030303030303\n",
            "Lift:  2.1103077757440176\n",
            "=======\n",
            "Rule 94: milk ==> ground beef\n",
            "Support:  0.009732035728569524\n",
            "Confidence:  0.44242424242424244\n",
            "Lift:  2.5410599099726205\n",
            "=======\n",
            "Rule 95: olive oil ==> ground beef\n",
            "Support:  0.006665777896280496\n",
            "Confidence:  0.24154589371980675\n",
            "Lift:  2.4583931462581687\n",
            "=======\n",
            "Rule 96: pancakes ==> ground beef\n",
            "Support:  0.007465671243834155\n",
            "Confidence:  0.5137614678899083\n",
            "Lift:  2.1553270529318804\n",
            "=======\n",
            "Rule 97: shrimp ==> ground beef\n",
            "Support:  0.005065991201173177\n",
            "Confidence:  0.21468926553672316\n",
            "Lift:  2.1850531625386167\n",
            "=======\n",
            "Rule 98: ground beef ==> soup\n",
            "Support:  0.005065991201173177\n",
            "Confidence:  0.5205479452054794\n",
            "Lift:  2.1837976157641505\n",
            "=======\n",
            "Rule 99: ground beef ==> spaghetti\n",
            "Support:  0.017064391414478068\n",
            "Confidence:  0.41693811074918563\n",
            "Lift:  2.3946805273580716\n",
            "=======\n",
            "Rule 100: ground beef ==> tomatoes\n",
            "Support:  0.005465937874950006\n",
            "Confidence:  0.2240437158469945\n",
            "Lift:  2.2802603969719213\n",
            "=======\n",
            "Rule 101: olive oil ==> ground beef\n",
            "Support:  0.0061325156645780565\n",
            "Confidence:  0.4339622641509434\n",
            "Lift:  2.4924586090323326\n",
            "=======\n",
            "Rule 102: pancakes ==> ground beef\n",
            "Support:  0.006399146780429276\n",
            "Confidence:  0.44036697247706424\n",
            "Lift:  2.5292439973586975\n",
            "=======\n",
            "Rule 103: shrimp ==> ground beef\n",
            "Support:  0.005999200106652446\n",
            "Confidence:  0.5232558139534884\n",
            "Lift:  3.005315360233627\n",
            "=======\n",
            "Rule 104: ground beef ==> tomatoes\n",
            "Support:  0.005599253432875617\n",
            "Confidence:  0.4772727272727273\n",
            "Lift:  2.741211889182793\n",
            "=======\n",
            "Rule 105: herb & pepper ==> spaghetti\n",
            "Support:  0.005999200106652446\n",
            "Confidence:  0.3515625\n",
            "Lift:  2.0191962576569678\n",
            "=======\n",
            "Rule 106: milk ==> olive oil\n",
            "Support:  0.008532195707239034\n",
            "Confidence:  0.5\n",
            "Lift:  2.0975950782997765\n",
            "=======\n",
            "Rule 107: shrimp ==> milk\n",
            "Support:  0.007865617917610986\n",
            "Confidence:  0.3333333333333333\n",
            "Lift:  2.5723593964334706\n",
            "=======\n",
            "Rule 108: milk ==> soup\n",
            "Support:  0.008532195707239034\n",
            "Confidence:  0.5614035087719298\n",
            "Lift:  2.3551944738804504\n",
            "=======\n",
            "Rule 109: milk ==> spaghetti\n",
            "Support:  0.01573123583522197\n",
            "Confidence:  0.26339285714285715\n",
            "Lift:  2.032623273074662\n",
            "=======\n",
            "Rule 110: milk ==> tomatoes\n",
            "Support:  0.006532462338354886\n",
            "Confidence:  0.2677595628415301\n",
            "Lift:  2.066321482380985\n",
            "=======\n",
            "Rule 111: turkey ==> milk\n",
            "Support:  0.0061325156645780565\n",
            "Confidence:  0.5411764705882353\n",
            "Lift:  2.270338202395052\n",
            "=======\n",
            "Rule 112: milk ==> olive oil\n",
            "Support:  0.007199040127982935\n",
            "Confidence:  0.421875\n",
            "Lift:  2.4230355091883613\n",
            "=======\n",
            "Rule 113: milk ==> tomatoes\n",
            "Support:  0.005865884548726837\n",
            "Confidence:  0.41904761904761906\n",
            "Lift:  2.406796470502443\n",
            "=======\n",
            "Rule 114: olive oil ==> soup\n",
            "Support:  0.005199306759098787\n",
            "Confidence:  0.22543352601156072\n",
            "Lift:  3.4230301186492245\n",
            "=======\n",
            "Rule 115: olive oil ==> spaghetti\n",
            "Support:  0.010265297960271964\n",
            "Confidence:  0.3719806763285024\n",
            "Lift:  2.13646788142427\n",
            "=======\n",
            "Rule 116: spaghetti ==> salmon\n",
            "Support:  0.006799093454206106\n",
            "Confidence:  0.39843750000000006\n",
            "Lift:  2.2884224253445637\n",
            "=======\n",
            "Rule 117: shrimp ==> spaghetti\n",
            "Support:  0.008532195707239034\n",
            "Confidence:  0.36158192090395475\n",
            "Lift:  2.07674271722861\n",
            "=======\n",
            "Rule 118: spaghetti ==> soup\n",
            "Support:  0.007465671243834155\n",
            "Confidence:  0.5233644859813084\n",
            "Lift:  2.1956135399025696\n",
            "=======\n",
            "Rule 119: tomatoes ==> spaghetti\n",
            "Support:  0.009332089054792695\n",
            "Confidence:  0.38251366120218583\n",
            "Lift:  2.1969639913304717\n",
            "=======\n",
            "Rule 120: pancakes ==> olive oil\n",
            "Support:  0.005065991201173177\n",
            "Confidence:  0.4691358024691358\n",
            "Lift:  2.6944775301079535\n",
            "=======\n"
          ],
          "name": "stdout"
        }
      ]
    },
    {
      "cell_type": "code",
      "metadata": {
        "id": "FcMs2ekMQ3_g"
      },
      "source": [
        ""
      ],
      "execution_count": null,
      "outputs": []
    }
  ]
}