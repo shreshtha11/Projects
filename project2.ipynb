{
 "cells": [
  {
   "cell_type": "code",
   "execution_count": 1,
   "metadata": {},
   "outputs": [
    {
     "name": "stdout",
     "output_type": "stream",
     "text": [
      "Talk to convert speech to text\n",
      "End of speech\n",
      "Text to speech:how are you\n"
     ]
    },
    {
     "data": {
      "text/plain": [
       "Sentiment(polarity=0.0, subjectivity=0.0)"
      ]
     },
     "execution_count": 1,
     "metadata": {},
     "output_type": "execute_result"
    }
   ],
   "source": [
    "import speech_recognition as sr\n",
    "recognizer=sr.Recognizer()\n",
    "with sr.Microphone() as source:\n",
    "    print('Talk to convert speech to text')\n",
    "    speech=recognizer.listen(source)\n",
    "    print('End of speech')\n",
    "\n",
    "try:\n",
    "    print(\"Text to speech:\"+recognizer.recognize_google(speech))\n",
    "except:\n",
    "    pass;\n",
    "from textblob import TextBlob\n",
    "blob=TextBlob(\"  \"+recognizer.recognize_google(speech))\n",
    "blob.sentiment"
   ]
  },
  {
   "cell_type": "code",
   "execution_count": 14,
   "metadata": {},
   "outputs": [
    {
     "name": "stdout",
     "output_type": "stream",
     "text": [
      "Talk to convert speech to text\n",
      "End of speech\n",
      "Text to speech:I hate you\n"
     ]
    },
    {
     "data": {
      "text/plain": [
       "Sentiment(polarity=-0.8, subjectivity=0.9)"
      ]
     },
     "execution_count": 14,
     "metadata": {},
     "output_type": "execute_result"
    }
   ],
   "source": [
    "import speech_recognition as sr\n",
    "recognizer=sr.Recognizer()\n",
    "with sr.Microphone() as source:\n",
    "    print('Talk to convert speech to text')\n",
    "    speech=recognizer.listen(source)\n",
    "    print('End of speech')\n",
    "\n",
    "try:\n",
    "    print(\"Text to speech:\"+recognizer.recognize_google(speech))\n",
    "except:\n",
    "    pass;\n",
    "from textblob import TextBlob\n",
    "blob=TextBlob(\"  \"+recognizer.recognize_google(speech))\n",
    "blob.sentiment"
   ]
  },
  {
   "cell_type": "code",
   "execution_count": null,
   "metadata": {},
   "outputs": [],
   "source": []
  }
 ],
 "metadata": {
  "kernelspec": {
   "display_name": "Python 3",
   "language": "python",
   "name": "python3"
  },
  "language_info": {
   "codemirror_mode": {
    "name": "ipython",
    "version": 3
   },
   "file_extension": ".py",
   "mimetype": "text/x-python",
   "name": "python",
   "nbconvert_exporter": "python",
   "pygments_lexer": "ipython3",
   "version": "3.7.4"
  }
 },
 "nbformat": 4,
 "nbformat_minor": 2
}
