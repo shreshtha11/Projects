{
 "cells": [
  {
   "cell_type": "markdown",
   "metadata": {},
   "source": [
    "# A list of 6 libraries of Python with their functionality in brief and the steps required for installing a library in a given environment"
   ]
  },
  {
   "cell_type": "markdown",
   "metadata": {},
   "source": [
    "# 1.Tensorflow"
   ]
  },
  {
   "cell_type": "raw",
   "metadata": {},
   "source": [
    "This library was developed by Google in collaboration with Brain Team.TensorFlow is a part of almost every Google application for machine learning.\n",
    "\n",
    "TensorFlow works like a computational library for writing new algorithms that involve a large number of tensor operations, since neural networks can be easily expressed as computational graphs they can be implemented using TensorFlow as a series of operations on Tensors. Plus, tensors are N-dimensional matrices which represent your data."
   ]
  },
  {
   "cell_type": "markdown",
   "metadata": {},
   "source": [
    "# Uses of Tensorflow:"
   ]
  },
  {
   "cell_type": "raw",
   "metadata": {},
   "source": [
    "We are using TensorFlow daily but indirectly with applications like Google Voice Search or Google Photos. These are the  applications of TensorFlow.\n",
    "\n",
    "All the libraries created in TensorFlow are written in C and C++. However, it has a complicated front-end for Python. Our Python code will get compiled and then executed on TensorFlow distributed execution engine built using C and C++.\n",
    "\n",
    "The number of applications of TensorFlow is literally unlimited and that is the beauty of TensorFlow."
   ]
  },
  {
   "cell_type": "markdown",
   "metadata": {},
   "source": [
    "# Installation:"
   ]
  },
  {
   "cell_type": "raw",
   "metadata": {},
   "source": [
    "Install the 64bit version of Python 3, for instance from https://www.python.org.\n",
    "Then run:\n",
    "pip3 install --upgrade tensorflow\n"
   ]
  },
  {
   "cell_type": "markdown",
   "metadata": {},
   "source": [
    "# 2.Scikit-Learn"
   ]
  },
  {
   "cell_type": "raw",
   "metadata": {},
   "source": [
    "It is a Python library is associated with NumPy and SciPy. It is considered as one of the best libraries for working with complex data.\n",
    "\n",
    "There are a lot of changes being made in this library. One modification is the cross-validation feature, providing the ability to use more than one metric. Lots of training methods like logistics regression and nearest neighbors have received some little improvements."
   ]
  },
  {
   "cell_type": "markdown",
   "metadata": {},
   "source": [
    "# Uses of Scikit-Learn:"
   ]
  },
  {
   "cell_type": "raw",
   "metadata": {},
   "source": [
    "It contains a numerous number of algorithms for implementing standard machine learning and data mining tasks like reducing dimensionality, classification, regression, clustering, and model selection."
   ]
  },
  {
   "cell_type": "markdown",
   "metadata": {},
   "source": [
    "# Installation:"
   ]
  },
  {
   "cell_type": "raw",
   "metadata": {},
   "source": [
    "Install the 64bit version of Python 3, for instance from https://www.python.org.\n",
    "Then run:\n",
    "$ pip install -U scikit-learn\n",
    "In order to check your installation you can use\n",
    "$ python -m pip show scikit-learn # to see which version and where scikit-learn is $ installedpython -m pip freeze # to see all packages installed in the active \n",
    "$ virtualenvpython -c \"import sklearn; sklearn.show_versions()\"\n",
    "\n"
   ]
  },
  {
   "cell_type": "markdown",
   "metadata": {},
   "source": [
    "# 3.Numpy"
   ]
  },
  {
   "cell_type": "raw",
   "metadata": {},
   "source": [
    "Numpy is considered as one of the most popular machine learning library in Python.\n",
    "\n",
    "TensorFlow and other libraries uses Numpy internally for performing multiple operations on Tensors. Array interface is the best and the most important feature of Numpy."
   ]
  },
  {
   "cell_type": "markdown",
   "metadata": {},
   "source": [
    "# Uses of Numpy:"
   ]
  },
  {
   "cell_type": "raw",
   "metadata": {},
   "source": [
    "This interface can be utilized for expressing images, sound waves, and other binary raw streams as an array of real numbers in N-dimensional.\n",
    "\n",
    "For implementing this library for machine learning having knowledge of Numpy is important for full stack developers."
   ]
  },
  {
   "cell_type": "markdown",
   "metadata": {},
   "source": [
    "# Installation:"
   ]
  },
  {
   "cell_type": "raw",
   "metadata": {},
   "source": [
    "Install the 64bit version of Python 3, for instance from https://www.python.org.\n",
    "Then run:\n",
    "$ pip install numpy"
   ]
  },
  {
   "cell_type": "markdown",
   "metadata": {},
   "source": [
    "# 4.SciPy"
   ]
  },
  {
   "cell_type": "raw",
   "metadata": {},
   "source": [
    "SciPy is a machine learning library for application developers and engineers. However,we still need to know the difference between SciPy library and SciPy stack. SciPy library contains modules for optimization, linear algebra, integration, and statistics.The main feature of SciPy library is that it is developed using NumPy, and its array makes the most use of NumPy.\n",
    "\n",
    "In addition, SciPy provides all the efficient numerical routines like optimization, numerical integration, and many others using its specific submodules.\n",
    "\n",
    "All the functions in all submodules of SciPy are well documented."
   ]
  },
  {
   "cell_type": "markdown",
   "metadata": {},
   "source": [
    "# Uses of SciPy:"
   ]
  },
  {
   "cell_type": "raw",
   "metadata": {},
   "source": [
    "SciPy is a library that uses NumPy for the purpose of solving mathematical functions. SciPy uses NumPy arrays as the basic data structure, and comes with modules for various commonly used tasks in scientific programming.\n",
    "\n",
    "Tasks including linear algebra, integration (calculus), ordinary differential equation solving and signal processing execute easily by SciPy."
   ]
  },
  {
   "cell_type": "markdown",
   "metadata": {},
   "source": [
    "# Installation:"
   ]
  },
  {
   "cell_type": "raw",
   "metadata": {},
   "source": [
    "Install the 64bit version of Python 3, for instance from https://www.python.org.\n",
    "Then run:\n",
    "$ pip install scipy"
   ]
  },
  {
   "cell_type": "markdown",
   "metadata": {},
   "source": [
    "# 5.Pandas"
   ]
  },
  {
   "cell_type": "raw",
   "metadata": {},
   "source": [
    "Pandas is a machine learning library in Python that provides data structures of high-level and a wide variety of tools for analysis. One of the great feature of this library is the ability to translate complex operations with data using one or two commands. Pandas have so many inbuilt methods for grouping, combining data, and filtering, as well as time-series functionality.Pandas make sure that the entire process of manipulating data will be easier. Support for operations such as Re-indexing, Iteration, Sorting, Aggregations, Concatenations and Visualizations are among the feature highlights of Pandas."
   ]
  },
  {
   "cell_type": "markdown",
   "metadata": {},
   "source": [
    "# Uses of Pandas:"
   ]
  },
  {
   "cell_type": "raw",
   "metadata": {},
   "source": [
    "Currently, there are fewer releases of pandas library which includes hundred of new features, bug fixes, enhancements, and changes in API. The improvements in pandas regards its ability to group and sort data, select best suited output for the apply method, and provides support for performing custom types operations.\n",
    "\n",
    "Data Analysis among everything else takes the highlight when it comes to usage of Pandas. But, Pandas when used with other libraries and tools ensure high functionality and good amount of flexibility."
   ]
  },
  {
   "cell_type": "markdown",
   "metadata": {},
   "source": [
    "# Installation:"
   ]
  },
  {
   "cell_type": "raw",
   "metadata": {},
   "source": [
    "Install the 64bit version of Python 3, for instance from https://www.python.org.\n",
    "Then run:\n",
    "$ pip install pandas"
   ]
  },
  {
   "cell_type": "markdown",
   "metadata": {},
   "source": [
    "# 6.PyTorch"
   ]
  },
  {
   "cell_type": "raw",
   "metadata": {},
   "source": [
    "PyTorch is the largest machine learning library that allow developers to perform tensor computations wan ith acceleration of GPU, creates dynamic computational graphs, and calculate gradients automatically. Other than this, PyTorch offers rich APIs for solving application issues related to neural networks.\n",
    "\n",
    "This machine learning library is based on Torch, which is an open source machine library implemented in C with a wrapper in Lua.\n",
    "\n",
    "This machine library in Python was introduced in 2017, and since its inception, the library is gaining popularity and attracting an increasing number of machine learning developers."
   ]
  },
  {
   "cell_type": "markdown",
   "metadata": {},
   "source": [
    "# Uses of PyTorch:"
   ]
  },
  {
   "cell_type": "raw",
   "metadata": {},
   "source": [
    "PyTorch is primarily used for applications such as natural language processing.\n",
    "\n",
    "It is primarily developed by Facebook’s artificial-intelligence research group and Uber’s “Pyro” software for probabilistic programming is built on it.\n",
    "\n",
    "PyTorch is outperforming TensorFlow in multiple ways and it is gaining a lot of attention in the recent days."
   ]
  },
  {
   "cell_type": "markdown",
   "metadata": {},
   "source": [
    "# Installation:"
   ]
  },
  {
   "cell_type": "raw",
   "metadata": {},
   "source": [
    "Install the 64bit version of Python 3, for instance from https://www.python.org.\n",
    "Then run\n",
    "pip install --pre torch torchvision -f https://download.pytorch.org/whl/nightly/cpu/torch_nightly.html"
   ]
  },
  {
   "cell_type": "code",
   "execution_count": null,
   "metadata": {},
   "outputs": [],
   "source": []
  }
 ],
 "metadata": {
  "kernelspec": {
   "display_name": "Python 3",
   "language": "python",
   "name": "python3"
  },
  "language_info": {
   "codemirror_mode": {
    "name": "ipython",
    "version": 3
   },
   "file_extension": ".py",
   "mimetype": "text/x-python",
   "name": "python",
   "nbconvert_exporter": "python",
   "pygments_lexer": "ipython3",
   "version": "3.7.4"
  }
 },
 "nbformat": 4,
 "nbformat_minor": 2
}
