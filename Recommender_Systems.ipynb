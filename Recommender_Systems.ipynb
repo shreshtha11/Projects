{
  "nbformat": 4,
  "nbformat_minor": 0,
  "metadata": {
    "colab": {
      "name": "Recommender  Systems",
      "provenance": [],
      "authorship_tag": "ABX9TyPSOXIMZSlvSMmuTzEiEhgg",
      "include_colab_link": true
    },
    "kernelspec": {
      "name": "python3",
      "display_name": "Python 3"
    }
  },
  "cells": [
    {
      "cell_type": "markdown",
      "metadata": {
        "id": "view-in-github",
        "colab_type": "text"
      },
      "source": [
        "<a href=\"https://colab.research.google.com/github/shreshtha11/Projects/blob/master/Recommender_Systems.ipynb\" target=\"_parent\"><img src=\"https://colab.research.google.com/assets/colab-badge.svg\" alt=\"Open In Colab\"/></a>"
      ]
    },
    {
      "cell_type": "code",
      "metadata": {
        "id": "F6nvPaWqmvel"
      },
      "source": [
        "#content based recommendation\r\n",
        "import pandas as pd"
      ],
      "execution_count": 45,
      "outputs": []
    },
    {
      "cell_type": "code",
      "metadata": {
        "id": "LW7TAueQm_jD"
      },
      "source": [
        "movies=pd.read_csv(\"https://disq.us/url?url=https%3A%2F%2Fgithub.com%2FSavioSal%2Fdatasets%2Fraw%2Fmaster%2Fmovie_clean.csv%3A3lHFGK9VKp7CXXLsDi-40ZbhOtE&cuid=5711773\",encoding='unicode_escape')"
      ],
      "execution_count": 21,
      "outputs": []
    },
    {
      "cell_type": "code",
      "metadata": {
        "colab": {
          "base_uri": "https://localhost:8080/",
          "height": 204
        },
        "id": "HukPF_LGpSrO",
        "outputId": "9a770c49-cab2-4bdd-d7b2-e3ea0bac262c"
      },
      "source": [
        "movies.head()"
      ],
      "execution_count": 22,
      "outputs": [
        {
          "output_type": "execute_result",
          "data": {
            "text/html": [
              "<div>\n",
              "<style scoped>\n",
              "    .dataframe tbody tr th:only-of-type {\n",
              "        vertical-align: middle;\n",
              "    }\n",
              "\n",
              "    .dataframe tbody tr th {\n",
              "        vertical-align: top;\n",
              "    }\n",
              "\n",
              "    .dataframe thead th {\n",
              "        text-align: right;\n",
              "    }\n",
              "</style>\n",
              "<table border=\"1\" class=\"dataframe\">\n",
              "  <thead>\n",
              "    <tr style=\"text-align: right;\">\n",
              "      <th></th>\n",
              "      <th>title</th>\n",
              "      <th>genres</th>\n",
              "      <th>runtime</th>\n",
              "      <th>vote_average</th>\n",
              "      <th>vote_count</th>\n",
              "      <th>year</th>\n",
              "      <th>overview</th>\n",
              "    </tr>\n",
              "  </thead>\n",
              "  <tbody>\n",
              "    <tr>\n",
              "      <th>0</th>\n",
              "      <td>Toy Story</td>\n",
              "      <td>['animation', 'comedy', 'family']</td>\n",
              "      <td>81.0</td>\n",
              "      <td>7.7</td>\n",
              "      <td>5415.0</td>\n",
              "      <td>1995.0</td>\n",
              "      <td>Led by Woody, Andy's toys live happily in his ...</td>\n",
              "    </tr>\n",
              "    <tr>\n",
              "      <th>1</th>\n",
              "      <td>Jumanji</td>\n",
              "      <td>['adventure', 'fantasy', 'family']</td>\n",
              "      <td>104.0</td>\n",
              "      <td>6.9</td>\n",
              "      <td>2413.0</td>\n",
              "      <td>1995.0</td>\n",
              "      <td>When siblings Judy and Peter discover an encha...</td>\n",
              "    </tr>\n",
              "    <tr>\n",
              "      <th>2</th>\n",
              "      <td>Grumpier Old Men</td>\n",
              "      <td>['romance', 'comedy']</td>\n",
              "      <td>101.0</td>\n",
              "      <td>6.5</td>\n",
              "      <td>92.0</td>\n",
              "      <td>1995.0</td>\n",
              "      <td>A family wedding reignites the ancient feud be...</td>\n",
              "    </tr>\n",
              "    <tr>\n",
              "      <th>3</th>\n",
              "      <td>Waiting to Exhale</td>\n",
              "      <td>['comedy', 'drama', 'romance']</td>\n",
              "      <td>127.0</td>\n",
              "      <td>6.1</td>\n",
              "      <td>34.0</td>\n",
              "      <td>1995.0</td>\n",
              "      <td>Cheated on, mistreated and stepped on, the wom...</td>\n",
              "    </tr>\n",
              "    <tr>\n",
              "      <th>4</th>\n",
              "      <td>Father of the Bride Part II</td>\n",
              "      <td>['comedy']</td>\n",
              "      <td>106.0</td>\n",
              "      <td>5.7</td>\n",
              "      <td>173.0</td>\n",
              "      <td>1995.0</td>\n",
              "      <td>Just when George Banks has recovered from his ...</td>\n",
              "    </tr>\n",
              "  </tbody>\n",
              "</table>\n",
              "</div>"
            ],
            "text/plain": [
              "                         title  ...                                           overview\n",
              "0                    Toy Story  ...  Led by Woody, Andy's toys live happily in his ...\n",
              "1                      Jumanji  ...  When siblings Judy and Peter discover an encha...\n",
              "2             Grumpier Old Men  ...  A family wedding reignites the ancient feud be...\n",
              "3            Waiting to Exhale  ...  Cheated on, mistreated and stepped on, the wom...\n",
              "4  Father of the Bride Part II  ...  Just when George Banks has recovered from his ...\n",
              "\n",
              "[5 rows x 7 columns]"
            ]
          },
          "metadata": {
            "tags": []
          },
          "execution_count": 22
        }
      ]
    },
    {
      "cell_type": "code",
      "metadata": {
        "colab": {
          "base_uri": "https://localhost:8080/"
        },
        "id": "JBzNLrWgtxBY",
        "outputId": "93992f24-1c1a-4e67-93d9-347af0e9acbe"
      },
      "source": [
        "movies.shape"
      ],
      "execution_count": 23,
      "outputs": [
        {
          "output_type": "execute_result",
          "data": {
            "text/plain": [
              "(45572, 7)"
            ]
          },
          "metadata": {
            "tags": []
          },
          "execution_count": 23
        }
      ]
    },
    {
      "cell_type": "code",
      "metadata": {
        "id": "rSd51HZWvIXc"
      },
      "source": [
        "from sklearn.feature_extraction.text import TfidfVectorizer"
      ],
      "execution_count": 24,
      "outputs": []
    },
    {
      "cell_type": "code",
      "metadata": {
        "id": "dAkjlEBLxMv7"
      },
      "source": [
        "#it tells us how important a word is in a document or collection of words.\r\n",
        "tfidf=TfidfVectorizer(stop_words='english')"
      ],
      "execution_count": 25,
      "outputs": []
    },
    {
      "cell_type": "code",
      "metadata": {
        "colab": {
          "base_uri": "https://localhost:8080/"
        },
        "id": "QO53T9a-2qvN",
        "outputId": "9df721d1-4b07-4ce6-e095-05cc4d25be07"
      },
      "source": [
        "len(movies[movies['vote_average']>7])"
      ],
      "execution_count": 26,
      "outputs": [
        {
          "output_type": "execute_result",
          "data": {
            "text/plain": [
              "7714"
            ]
          },
          "metadata": {
            "tags": []
          },
          "execution_count": 26
        }
      ]
    },
    {
      "cell_type": "code",
      "metadata": {
        "colab": {
          "base_uri": "https://localhost:8080/"
        },
        "id": "vl1RDXTg4WLS",
        "outputId": "b93cff4d-89ad-4fdb-8ac3-338081be7338"
      },
      "source": [
        "movies_new=movies[movies['vote_average']>7]\r\n",
        "movies_new.shape"
      ],
      "execution_count": 27,
      "outputs": [
        {
          "output_type": "execute_result",
          "data": {
            "text/plain": [
              "(7714, 7)"
            ]
          },
          "metadata": {
            "tags": []
          },
          "execution_count": 27
        }
      ]
    },
    {
      "cell_type": "code",
      "metadata": {
        "colab": {
          "base_uri": "https://localhost:8080/",
          "height": 419
        },
        "id": "I7tG8CA7yJpy",
        "outputId": "9452b15e-fa96-41cd-cb39-315731f0b02b"
      },
      "source": [
        "movies_new[movies_new['overview'].isna()]"
      ],
      "execution_count": 28,
      "outputs": [
        {
          "output_type": "execute_result",
          "data": {
            "text/html": [
              "<div>\n",
              "<style scoped>\n",
              "    .dataframe tbody tr th:only-of-type {\n",
              "        vertical-align: middle;\n",
              "    }\n",
              "\n",
              "    .dataframe tbody tr th {\n",
              "        vertical-align: top;\n",
              "    }\n",
              "\n",
              "    .dataframe thead th {\n",
              "        text-align: right;\n",
              "    }\n",
              "</style>\n",
              "<table border=\"1\" class=\"dataframe\">\n",
              "  <thead>\n",
              "    <tr style=\"text-align: right;\">\n",
              "      <th></th>\n",
              "      <th>title</th>\n",
              "      <th>genres</th>\n",
              "      <th>runtime</th>\n",
              "      <th>vote_average</th>\n",
              "      <th>vote_count</th>\n",
              "      <th>year</th>\n",
              "      <th>overview</th>\n",
              "    </tr>\n",
              "  </thead>\n",
              "  <tbody>\n",
              "    <tr>\n",
              "      <th>636</th>\n",
              "      <td>Nelly and Monsieur Arnaud</td>\n",
              "      <td>['drama', 'romance']</td>\n",
              "      <td>106.0</td>\n",
              "      <td>7.1</td>\n",
              "      <td>16.0</td>\n",
              "      <td>1996.0</td>\n",
              "      <td>NaN</td>\n",
              "    </tr>\n",
              "    <tr>\n",
              "      <th>822</th>\n",
              "      <td>Flirt</td>\n",
              "      <td>['drama', 'romance']</td>\n",
              "      <td>85.0</td>\n",
              "      <td>7.5</td>\n",
              "      <td>4.0</td>\n",
              "      <td>1995.0</td>\n",
              "      <td>NaN</td>\n",
              "    </tr>\n",
              "    <tr>\n",
              "      <th>1077</th>\n",
              "      <td>Microcosmos</td>\n",
              "      <td>['documentary']</td>\n",
              "      <td>80.0</td>\n",
              "      <td>7.7</td>\n",
              "      <td>61.0</td>\n",
              "      <td>1996.0</td>\n",
              "      <td>NaN</td>\n",
              "    </tr>\n",
              "    <tr>\n",
              "      <th>4756</th>\n",
              "      <td>Monsters, Inc.</td>\n",
              "      <td>['animation', 'comedy', 'family']</td>\n",
              "      <td>92.0</td>\n",
              "      <td>7.5</td>\n",
              "      <td>6150.0</td>\n",
              "      <td>2001.0</td>\n",
              "      <td>NaN</td>\n",
              "    </tr>\n",
              "    <tr>\n",
              "      <th>9182</th>\n",
              "      <td>Kirikou and the Sorceress</td>\n",
              "      <td>['fantasy', 'adventure', 'animation', 'family']</td>\n",
              "      <td>70.0</td>\n",
              "      <td>7.2</td>\n",
              "      <td>229.0</td>\n",
              "      <td>1998.0</td>\n",
              "      <td>NaN</td>\n",
              "    </tr>\n",
              "    <tr>\n",
              "      <th>...</th>\n",
              "      <td>...</td>\n",
              "      <td>...</td>\n",
              "      <td>...</td>\n",
              "      <td>...</td>\n",
              "      <td>...</td>\n",
              "      <td>...</td>\n",
              "      <td>...</td>\n",
              "    </tr>\n",
              "    <tr>\n",
              "      <th>44836</th>\n",
              "      <td>Abacus: Small Enough to Jail</td>\n",
              "      <td>['documentary']</td>\n",
              "      <td>88.0</td>\n",
              "      <td>8.5</td>\n",
              "      <td>2.0</td>\n",
              "      <td>2017.0</td>\n",
              "      <td>NaN</td>\n",
              "    </tr>\n",
              "    <tr>\n",
              "      <th>44864</th>\n",
              "      <td>Becoming Cary Grant</td>\n",
              "      <td>['documentary']</td>\n",
              "      <td>85.0</td>\n",
              "      <td>8.0</td>\n",
              "      <td>1.0</td>\n",
              "      <td>2016.0</td>\n",
              "      <td>NaN</td>\n",
              "    </tr>\n",
              "    <tr>\n",
              "      <th>45083</th>\n",
              "      <td>150 Milligrams</td>\n",
              "      <td>['drama']</td>\n",
              "      <td>128.0</td>\n",
              "      <td>7.4</td>\n",
              "      <td>20.0</td>\n",
              "      <td>2016.0</td>\n",
              "      <td>NaN</td>\n",
              "    </tr>\n",
              "    <tr>\n",
              "      <th>45167</th>\n",
              "      <td>Wind River</td>\n",
              "      <td>['action', 'crime', 'mystery', 'thriller']</td>\n",
              "      <td>111.0</td>\n",
              "      <td>7.4</td>\n",
              "      <td>181.0</td>\n",
              "      <td>2017.0</td>\n",
              "      <td>NaN</td>\n",
              "    </tr>\n",
              "    <tr>\n",
              "      <th>45336</th>\n",
              "      <td>Twelve Angry Men</td>\n",
              "      <td>['drama']</td>\n",
              "      <td>51.0</td>\n",
              "      <td>8.5</td>\n",
              "      <td>4.0</td>\n",
              "      <td>1954.0</td>\n",
              "      <td>NaN</td>\n",
              "    </tr>\n",
              "  </tbody>\n",
              "</table>\n",
              "<p>156 rows × 7 columns</p>\n",
              "</div>"
            ],
            "text/plain": [
              "                              title  ... overview\n",
              "636       Nelly and Monsieur Arnaud  ...      NaN\n",
              "822                           Flirt  ...      NaN\n",
              "1077                    Microcosmos  ...      NaN\n",
              "4756                 Monsters, Inc.  ...      NaN\n",
              "9182      Kirikou and the Sorceress  ...      NaN\n",
              "...                             ...  ...      ...\n",
              "44836  Abacus: Small Enough to Jail  ...      NaN\n",
              "44864           Becoming Cary Grant  ...      NaN\n",
              "45083                150 Milligrams  ...      NaN\n",
              "45167                    Wind River  ...      NaN\n",
              "45336              Twelve Angry Men  ...      NaN\n",
              "\n",
              "[156 rows x 7 columns]"
            ]
          },
          "metadata": {
            "tags": []
          },
          "execution_count": 28
        }
      ]
    },
    {
      "cell_type": "code",
      "metadata": {
        "colab": {
          "base_uri": "https://localhost:8080/"
        },
        "id": "uXyYn_t0yQS9",
        "outputId": "f42e0a4a-9ea4-40bd-fba9-d498d0af3995"
      },
      "source": [
        "movies_new['overview']=movies_new['overview'].fillna('')"
      ],
      "execution_count": 29,
      "outputs": [
        {
          "output_type": "stream",
          "text": [
            "/usr/local/lib/python3.6/dist-packages/ipykernel_launcher.py:1: SettingWithCopyWarning: \n",
            "A value is trying to be set on a copy of a slice from a DataFrame.\n",
            "Try using .loc[row_indexer,col_indexer] = value instead\n",
            "\n",
            "See the caveats in the documentation: https://pandas.pydata.org/pandas-docs/stable/user_guide/indexing.html#returning-a-view-versus-a-copy\n",
            "  \"\"\"Entry point for launching an IPython kernel.\n"
          ],
          "name": "stderr"
        }
      ]
    },
    {
      "cell_type": "code",
      "metadata": {
        "colab": {
          "base_uri": "https://localhost:8080/"
        },
        "id": "ts5v1BKwzF-f",
        "outputId": "4b530064-2274-4190-c8b8-841f95f951aa"
      },
      "source": [
        "len(movies_new)"
      ],
      "execution_count": 30,
      "outputs": [
        {
          "output_type": "execute_result",
          "data": {
            "text/plain": [
              "7714"
            ]
          },
          "metadata": {
            "tags": []
          },
          "execution_count": 30
        }
      ]
    },
    {
      "cell_type": "code",
      "metadata": {
        "id": "O9oFouYvzMlT"
      },
      "source": [
        "tfidf_matrix=tfidf.fit_transform(movies_new['overview'])"
      ],
      "execution_count": 31,
      "outputs": []
    },
    {
      "cell_type": "code",
      "metadata": {
        "colab": {
          "base_uri": "https://localhost:8080/"
        },
        "id": "lcF8zzSmzvcT",
        "outputId": "3a24d203-9058-4889-a315-eb6fcc63dae3"
      },
      "source": [
        "tfidf_matrix"
      ],
      "execution_count": 32,
      "outputs": [
        {
          "output_type": "execute_result",
          "data": {
            "text/plain": [
              "<7714x31503 sparse matrix of type '<class 'numpy.float64'>'\n",
              "\twith 205864 stored elements in Compressed Sparse Row format>"
            ]
          },
          "metadata": {
            "tags": []
          },
          "execution_count": 32
        }
      ]
    },
    {
      "cell_type": "code",
      "metadata": {
        "id": "SiUtrxj90Ufn"
      },
      "source": [
        "from sklearn.metrics.pairwise import linear_kernel"
      ],
      "execution_count": 33,
      "outputs": []
    },
    {
      "cell_type": "code",
      "metadata": {
        "id": "pzzuj6mK1FNU"
      },
      "source": [
        "cosine_similarity=linear_kernel(tfidf_matrix,tfidf_matrix)"
      ],
      "execution_count": 34,
      "outputs": []
    },
    {
      "cell_type": "code",
      "metadata": {
        "colab": {
          "base_uri": "https://localhost:8080/"
        },
        "id": "Xb2xunoW1KPU",
        "outputId": "79da1e01-4b84-4504-9412-f082c300cf40"
      },
      "source": [
        "cosine_similarity.shape"
      ],
      "execution_count": 35,
      "outputs": [
        {
          "output_type": "execute_result",
          "data": {
            "text/plain": [
              "(7714, 7714)"
            ]
          },
          "metadata": {
            "tags": []
          },
          "execution_count": 35
        }
      ]
    },
    {
      "cell_type": "code",
      "metadata": {
        "id": "7LTcHwjY6NrV"
      },
      "source": [
        "indices=pd.Series(movies_new.index,index=movies_new['title']).drop_duplicates()"
      ],
      "execution_count": 36,
      "outputs": []
    },
    {
      "cell_type": "code",
      "metadata": {
        "colab": {
          "base_uri": "https://localhost:8080/"
        },
        "id": "3Rl4rmfk6yBP",
        "outputId": "2ffa7b41-2c9a-4bc7-fd47-6efc047864a0"
      },
      "source": [
        "indices.head()"
      ],
      "execution_count": 38,
      "outputs": [
        {
          "output_type": "execute_result",
          "data": {
            "text/plain": [
              "title\n",
              "Toy Story     0\n",
              "Heat          5\n",
              "Balto        12\n",
              "Nixon        13\n",
              "Casino       15\n",
              "dtype: int64"
            ]
          },
          "metadata": {
            "tags": []
          },
          "execution_count": 38
        }
      ]
    },
    {
      "cell_type": "code",
      "metadata": {
        "id": "0HCOAO_k6zJl"
      },
      "source": [
        "def movie_recommender(title):\r\n",
        "  idx=indices[title]\r\n",
        "  similarity_scores=list(enumerate(cosine_similarity[idx]))\r\n",
        "  similarity_scores=sorted(similarity_scores,key=lambda x:x[1],reverse=True)\r\n",
        "  scores_final=similarity_scores[1:11]\r\n",
        "  movie_indices=[i[0] for i in scores_final]\r\n",
        "  return movies_new['title'].iloc[movie_indices]\r\n",
        "  \r\n",
        "\r\n",
        "\r\n"
      ],
      "execution_count": 39,
      "outputs": []
    },
    {
      "cell_type": "code",
      "metadata": {
        "colab": {
          "base_uri": "https://localhost:8080/"
        },
        "id": "h3GT__Uu817d",
        "outputId": "95672c10-75ff-4fb3-fd1b-8fcc666b3458"
      },
      "source": [
        "movie_recommender('Toy Story')"
      ],
      "execution_count": 40,
      "outputs": [
        {
          "output_type": "execute_result",
          "data": {
            "text/plain": [
              "15370    Casino Jack and the United States of Money\n",
              "42819                                     4.1 Miles\n",
              "1072                       A Streetcar Named Desire\n",
              "17217                            X-Men: First Class\n",
              "11622                          The Savage Innocents\n",
              "28939                               Execution Squad\n",
              "3148                                  Man Bites Dog\n",
              "21224                              What's in a Name\n",
              "1885                                    Poltergeist\n",
              "16518          Russell Peters: Red, White and Brown\n",
              "Name: title, dtype: object"
            ]
          },
          "metadata": {
            "tags": []
          },
          "execution_count": 40
        }
      ]
    },
    {
      "cell_type": "code",
      "metadata": {
        "colab": {
          "base_uri": "https://localhost:8080/"
        },
        "id": "D81E1RBi9BHa",
        "outputId": "a61a3706-7056-4b8b-e675-fa0c27026bf2"
      },
      "source": [
        "movie_recommender('Heat')"
      ],
      "execution_count": 42,
      "outputs": [
        {
          "output_type": "execute_result",
          "data": {
            "text/plain": [
              "16723                                                 Emma\n",
              "7345                                          Le Samoura?»\n",
              "23505                              Bettie Page Reveals All\n",
              "25833                            Out Of The Clear Blue Sky\n",
              "27340                                     The Waiting City\n",
              "21739                                Miracle in Cell No. 7\n",
              "45007                    Water & Power: A California Heist\n",
              "892                                       The Wizard of Oz\n",
              "27841    Going Clear: Scientology and the Prison of Belief\n",
              "1551                                              The Game\n",
              "Name: title, dtype: object"
            ]
          },
          "metadata": {
            "tags": []
          },
          "execution_count": 42
        }
      ]
    },
    {
      "cell_type": "code",
      "metadata": {
        "colab": {
          "base_uri": "https://localhost:8080/"
        },
        "id": "jStsvqE-9UYI",
        "outputId": "0473c980-e978-48b1-f55e-abe6c53e237a"
      },
      "source": [
        "movie_recommender('Casino')"
      ],
      "execution_count": 43,
      "outputs": [
        {
          "output_type": "execute_result",
          "data": {
            "text/plain": [
              "723                    Ghost in the Shell\n",
              "4744                                K-PAX\n",
              "37174                         Berth Marks\n",
              "8907                 The Whales of August\n",
              "8617                             PlayTime\n",
              "20690             Night Across the Street\n",
              "28524    The Third Reich: The Rise & Fall\n",
              "19102                    Jack-Jack Attack\n",
              "9179                           Style Wars\n",
              "43192     Teen Titans: The Judas Contract\n",
              "Name: title, dtype: object"
            ]
          },
          "metadata": {
            "tags": []
          },
          "execution_count": 43
        }
      ]
    },
    {
      "cell_type": "code",
      "metadata": {
        "colab": {
          "base_uri": "https://localhost:8080/"
        },
        "id": "x6xP38ZX9nqW",
        "outputId": "74119886-4366-4976-dffe-b5c9b403bf57"
      },
      "source": [
        "movie_recommender('Nixon')"
      ],
      "execution_count": 44,
      "outputs": [
        {
          "output_type": "execute_result",
          "data": {
            "text/plain": [
              "28321                   Plato's Academy\n",
              "8993        Wild Hearts Can't Be Broken\n",
              "18898                 Good-bye, My Lady\n",
              "14655     Flavor of Green Tea Over Rice\n",
              "21177                    My Perestroika\n",
              "6813               Journeys with George\n",
              "25167    Russell Brand: Messiah Complex\n",
              "37542                Priest of Darkness\n",
              "7643                 Sansho the Bailiff\n",
              "32517                        Being Evel\n",
              "Name: title, dtype: object"
            ]
          },
          "metadata": {
            "tags": []
          },
          "execution_count": 44
        }
      ]
    },
    {
      "cell_type": "code",
      "metadata": {
        "id": "fA-pDHKk9yHm"
      },
      "source": [
        ""
      ],
      "execution_count": null,
      "outputs": []
    }
  ]
}